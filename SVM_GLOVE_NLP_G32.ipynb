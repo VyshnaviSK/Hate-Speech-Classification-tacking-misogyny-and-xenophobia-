{
  "nbformat": 4,
  "nbformat_minor": 0,
  "metadata": {
    "colab": {
      "provenance": [],
      "collapsed_sections": []
    },
    "kernelspec": {
      "name": "python3",
      "display_name": "Python 3"
    },
    "language_info": {
      "name": "python"
    },
    "accelerator": "GPU"
  },
  "cells": [
    {
      "cell_type": "code",
      "metadata": {
        "id": "YJyw9bD_TeCJ",
        "colab": {
          "base_uri": "https://localhost:8080/"
        },
        "outputId": "a5e914fe-b0d3-4705-c4c5-2700699c180d"
      },
      "source": [
        "from google.colab import drive\n",
        "drive.mount('/content/drive')"
      ],
      "execution_count": null,
      "outputs": [
        {
          "output_type": "stream",
          "name": "stdout",
          "text": [
            "Drive already mounted at /content/drive; to attempt to forcibly remount, call drive.mount(\"/content/drive\", force_remount=True).\n"
          ]
        }
      ]
    },
    {
      "cell_type": "code",
      "metadata": {
        "id": "PTihd0DceWnM"
      },
      "source": [
        "import numpy as np\n",
        "import pandas as pd\n",
        "import re\n",
        "import nltk\n",
        "import spacy\n",
        "import string\n",
        "pd.options.mode.chained_assignment = None"
      ],
      "execution_count": null,
      "outputs": []
    },
    {
      "cell_type": "code",
      "metadata": {
        "colab": {
          "base_uri": "https://localhost:8080/"
        },
        "id": "XfhHcXvxDZHn",
        "outputId": "9d220579-9415-4e6f-f0b6-3a9d58875ec4"
      },
      "source": [
        "import numpy as np\n",
        "import pandas as pd\n",
        "import pickle\n",
        "import tensorflow as tf\n",
        "from wordcloud import WordCloud, STOPWORDS\n",
        "import matplotlib.pyplot as plt\n",
        "from tensorflow.keras.preprocessing import text, sequence\n",
        "from tensorflow.keras.models import Sequential\n",
        "from tensorflow.keras.layers import Dense, Dropout, Activation\n",
        "from tensorflow.keras.layers import Embedding\n",
        "from tensorflow.keras.layers import Conv1D, GlobalMaxPooling1D, MaxPooling1D\n",
        "from sklearn.model_selection import train_test_split\n",
        "from sklearn.metrics import accuracy_score, f1_score, confusion_matrix\n",
        "import seaborn as sns\n",
        "plt.style.use('fivethirtyeight')\n",
        "print(tf.__version__)\n"
      ],
      "execution_count": null,
      "outputs": [
        {
          "output_type": "stream",
          "name": "stdout",
          "text": [
            "2.7.0\n"
          ]
        }
      ]
    },
    {
      "cell_type": "code",
      "metadata": {
        "id": "Bh-vBh00zesu"
      },
      "source": [
        "from sklearn.model_selection import train_test_split\n",
        "from sklearn.model_selection import cross_val_score\n",
        "from sklearn.metrics import classification_report, confusion_matrix,accuracy_score, matthews_corrcoef,precision_score,average_precision_score,recall_score,f1_score,roc_auc_score\n",
        "from sklearn.model_selection import GridSearchCV \n",
        "from sklearn.svm import SVC "
      ],
      "execution_count": null,
      "outputs": []
    },
    {
      "cell_type": "code",
      "metadata": {
        "id": "VMhyqgt8xIS-"
      },
      "source": [
        "glove_filename='glove.6B.100d.txt'\n",
        "glove_path='/content/drive/MyDrive/Colab Notebooks/glove.6B.100d.txt'"
      ],
      "execution_count": null,
      "outputs": []
    },
    {
      "cell_type": "code",
      "metadata": {
        "colab": {
          "base_uri": "https://localhost:8080/"
        },
        "id": "K03Ly1w0YSPb",
        "outputId": "8ff456bc-48fc-4cbf-96ab-7a1e61a6c90b"
      },
      "source": [
        "from gensim.scripts.glove2word2vec import glove2word2vec\n",
        "\n",
        "#glove_input_file = glove_filename\n",
        "word2vec_output_file = glove_filename+'.word2vec'\n",
        "glove2word2vec(glove_path, word2vec_output_file)"
      ],
      "execution_count": null,
      "outputs": [
        {
          "output_type": "execute_result",
          "data": {
            "text/plain": [
              "(400000, 100)"
            ]
          },
          "metadata": {},
          "execution_count": 23
        }
      ]
    },
    {
      "cell_type": "code",
      "metadata": {
        "id": "1qq6EEr6x2_q"
      },
      "source": [
        "from gensim.models import KeyedVectors\n",
        "# load the Stanford GloVe model\n",
        "word2vec_output_file = glove_filename+'.word2vec'\n",
        "model = KeyedVectors.load_word2vec_format(word2vec_output_file, binary=False)"
      ],
      "execution_count": null,
      "outputs": []
    },
    {
      "cell_type": "code",
      "metadata": {
        "id": "jqSpoK5LXIIU"
      },
      "source": [
        "class Word2VecVectorizer:\n",
        "  def __init__(self, model):\n",
        "    print(\"Loading in word vectors...\")\n",
        "    self.word_vectors = model\n",
        "    print(\"Finished loading in word vectors\")\n",
        "\n",
        "  def fit(self, data):\n",
        "    pass\n",
        "\n",
        "  def transform(self, data):\n",
        "    # determine the dimensionality of vectors\n",
        "    v = self.word_vectors.get_vector('king')\n",
        "    self.D = v.shape[0]\n",
        "\n",
        "    X = np.zeros((len(data), self.D))\n",
        "    n = 0\n",
        "    emptycount = 0\n",
        "    for sentence in data:\n",
        "      tokens = sentence.split()\n",
        "      vecs = []\n",
        "      m = 0\n",
        "      for word in tokens:\n",
        "        try:\n",
        "          # throws KeyError if word not found\n",
        "          vec = self.word_vectors.get_vector(word)\n",
        "          vecs.append(vec)\n",
        "          m += 1\n",
        "        except KeyError:\n",
        "          pass\n",
        "      if len(vecs) > 0:\n",
        "        vecs = np.array(vecs)\n",
        "        X[n] = vecs.mean(axis=0)\n",
        "      else:\n",
        "        emptycount += 1\n",
        "      n += 1\n",
        "    print(\"Numer of samples with no words found: %s / %s\" % (emptycount, len(data)))\n",
        "    return X\n",
        "\n",
        "\n",
        "  def fit_transform(self, data):\n",
        "    self.fit(data)\n",
        "    return self.transform(data)"
      ],
      "execution_count": null,
      "outputs": []
    },
    {
      "cell_type": "code",
      "metadata": {
        "id": "KJAzSlShepO2",
        "colab": {
          "base_uri": "https://localhost:8080/",
          "height": 206
        },
        "outputId": "3d5057fc-bac9-4724-f375-d3eb269a0d3f"
      },
      "source": [
        "df1 = pd.read_csv(\"/content/hateval2019_en_train.csv\")\n",
        "df2= pd.read_csv(\"/content/hateval2019_en_test.csv\")\n",
        "full_df= df1.append(df2,ignore_index=True)\n",
        "# df = full_df[[\"text\"]]\n",
        "full_df[\"text\"] = full_df[\"text\"].astype(str)\n",
        "full_df.head()"
      ],
      "execution_count": null,
      "outputs": [
        {
          "output_type": "execute_result",
          "data": {
            "text/html": [
              "<div>\n",
              "<style scoped>\n",
              "    .dataframe tbody tr th:only-of-type {\n",
              "        vertical-align: middle;\n",
              "    }\n",
              "\n",
              "    .dataframe tbody tr th {\n",
              "        vertical-align: top;\n",
              "    }\n",
              "\n",
              "    .dataframe thead th {\n",
              "        text-align: right;\n",
              "    }\n",
              "</style>\n",
              "<table border=\"1\" class=\"dataframe\">\n",
              "  <thead>\n",
              "    <tr style=\"text-align: right;\">\n",
              "      <th></th>\n",
              "      <th>id</th>\n",
              "      <th>text</th>\n",
              "      <th>HS</th>\n",
              "      <th>TR</th>\n",
              "      <th>AG</th>\n",
              "    </tr>\n",
              "  </thead>\n",
              "  <tbody>\n",
              "    <tr>\n",
              "      <th>0</th>\n",
              "      <td>201</td>\n",
              "      <td>Hurray, saving us $$$ in so many ways @potus @...</td>\n",
              "      <td>1</td>\n",
              "      <td>0</td>\n",
              "      <td>0</td>\n",
              "    </tr>\n",
              "    <tr>\n",
              "      <th>1</th>\n",
              "      <td>202</td>\n",
              "      <td>Why would young fighting age men be the vast m...</td>\n",
              "      <td>1</td>\n",
              "      <td>0</td>\n",
              "      <td>0</td>\n",
              "    </tr>\n",
              "    <tr>\n",
              "      <th>2</th>\n",
              "      <td>203</td>\n",
              "      <td>@KamalaHarris Illegals Dump their Kids at the ...</td>\n",
              "      <td>1</td>\n",
              "      <td>0</td>\n",
              "      <td>0</td>\n",
              "    </tr>\n",
              "    <tr>\n",
              "      <th>3</th>\n",
              "      <td>204</td>\n",
              "      <td>NY Times: 'Nearly All White' States Pose 'an A...</td>\n",
              "      <td>0</td>\n",
              "      <td>0</td>\n",
              "      <td>0</td>\n",
              "    </tr>\n",
              "    <tr>\n",
              "      <th>4</th>\n",
              "      <td>205</td>\n",
              "      <td>Orban in Brussels: European leaders are ignori...</td>\n",
              "      <td>0</td>\n",
              "      <td>0</td>\n",
              "      <td>0</td>\n",
              "    </tr>\n",
              "  </tbody>\n",
              "</table>\n",
              "</div>"
            ],
            "text/plain": [
              "    id                                               text  HS  TR  AG\n",
              "0  201  Hurray, saving us $$$ in so many ways @potus @...   1   0   0\n",
              "1  202  Why would young fighting age men be the vast m...   1   0   0\n",
              "2  203  @KamalaHarris Illegals Dump their Kids at the ...   1   0   0\n",
              "3  204  NY Times: 'Nearly All White' States Pose 'an A...   0   0   0\n",
              "4  205  Orban in Brussels: European leaders are ignori...   0   0   0"
            ]
          },
          "metadata": {},
          "execution_count": 26
        }
      ]
    },
    {
      "cell_type": "code",
      "metadata": {
        "id": "uFiHyaaiBJNW"
      },
      "source": [
        "df= full_df.sample(frac=1.0)\n",
        "df= df.reset_index(drop=True)"
      ],
      "execution_count": null,
      "outputs": []
    },
    {
      "cell_type": "code",
      "metadata": {
        "id": "T5I4z0zZdVNz",
        "colab": {
          "base_uri": "https://localhost:8080/"
        },
        "outputId": "67ce3bb2-c80a-476f-fdf7-c9426d5e1d71"
      },
      "source": [
        "df.drop(['id'],axis=1,inplace=True)\n",
        "df.shape"
      ],
      "execution_count": null,
      "outputs": [
        {
          "output_type": "execute_result",
          "data": {
            "text/plain": [
              "(12000, 4)"
            ]
          },
          "metadata": {},
          "execution_count": 28
        }
      ]
    },
    {
      "cell_type": "markdown",
      "metadata": {
        "id": "1wDGw-9Qlzrb"
      },
      "source": [
        "REMOVE USERNAME"
      ]
    },
    {
      "cell_type": "code",
      "metadata": {
        "id": "p4akRmCRl2DE",
        "colab": {
          "base_uri": "https://localhost:8080/",
          "height": 206
        },
        "outputId": "41919bba-3a57-4b42-cfb8-436989997835"
      },
      "source": [
        "import re\n",
        "\n",
        "def remove_usernames_links(tweet):\n",
        "    tweet = re.sub(r'@[^\\s]+','',tweet)\n",
        "    tweet = re.sub(r'http[^\\s]+','',tweet)\n",
        "    return tweet\n",
        "\n",
        "df['tweet'] = df[\"text\"].apply(remove_usernames_links)\n",
        "df.head()"
      ],
      "execution_count": null,
      "outputs": [
        {
          "output_type": "execute_result",
          "data": {
            "text/html": [
              "<div>\n",
              "<style scoped>\n",
              "    .dataframe tbody tr th:only-of-type {\n",
              "        vertical-align: middle;\n",
              "    }\n",
              "\n",
              "    .dataframe tbody tr th {\n",
              "        vertical-align: top;\n",
              "    }\n",
              "\n",
              "    .dataframe thead th {\n",
              "        text-align: right;\n",
              "    }\n",
              "</style>\n",
              "<table border=\"1\" class=\"dataframe\">\n",
              "  <thead>\n",
              "    <tr style=\"text-align: right;\">\n",
              "      <th></th>\n",
              "      <th>text</th>\n",
              "      <th>HS</th>\n",
              "      <th>TR</th>\n",
              "      <th>AG</th>\n",
              "      <th>tweet</th>\n",
              "    </tr>\n",
              "  </thead>\n",
              "  <tbody>\n",
              "    <tr>\n",
              "      <th>0</th>\n",
              "      <td>When you know you're a piece of shit and own i...</td>\n",
              "      <td>0</td>\n",
              "      <td>0</td>\n",
              "      <td>0</td>\n",
              "      <td>When you know you're a piece of shit and own i...</td>\n",
              "    </tr>\n",
              "    <tr>\n",
              "      <th>1</th>\n",
              "      <td>@MomsRising @Re4mImmigration @DHSgov American ...</td>\n",
              "      <td>1</td>\n",
              "      <td>0</td>\n",
              "      <td>0</td>\n",
              "      <td>American Kids Killed by Illegals are Perman...</td>\n",
              "    </tr>\n",
              "    <tr>\n",
              "      <th>2</th>\n",
              "      <td>Me when people take a post too seriously and I...</td>\n",
              "      <td>0</td>\n",
              "      <td>0</td>\n",
              "      <td>0</td>\n",
              "      <td>Me when people take a post too seriously and I...</td>\n",
              "    </tr>\n",
              "    <tr>\n",
              "      <th>3</th>\n",
              "      <td>Immigration \"loophole\" that Trump bemoaned ret...</td>\n",
              "      <td>0</td>\n",
              "      <td>0</td>\n",
              "      <td>0</td>\n",
              "      <td>Immigration \"loophole\" that Trump bemoaned ret...</td>\n",
              "    </tr>\n",
              "    <tr>\n",
              "      <th>4</th>\n",
              "      <td>My whole life is one big sexual innuendo</td>\n",
              "      <td>0</td>\n",
              "      <td>0</td>\n",
              "      <td>0</td>\n",
              "      <td>My whole life is one big sexual innuendo</td>\n",
              "    </tr>\n",
              "  </tbody>\n",
              "</table>\n",
              "</div>"
            ],
            "text/plain": [
              "                                                text  ...                                              tweet\n",
              "0  When you know you're a piece of shit and own i...  ...  When you know you're a piece of shit and own i...\n",
              "1  @MomsRising @Re4mImmigration @DHSgov American ...  ...     American Kids Killed by Illegals are Perman...\n",
              "2  Me when people take a post too seriously and I...  ...  Me when people take a post too seriously and I...\n",
              "3  Immigration \"loophole\" that Trump bemoaned ret...  ...  Immigration \"loophole\" that Trump bemoaned ret...\n",
              "4           My whole life is one big sexual innuendo  ...           My whole life is one big sexual innuendo\n",
              "\n",
              "[5 rows x 5 columns]"
            ]
          },
          "metadata": {},
          "execution_count": 29
        }
      ]
    },
    {
      "cell_type": "markdown",
      "metadata": {
        "id": "ZWFwfhf3fEDv"
      },
      "source": [
        "LOWER CASING"
      ]
    },
    {
      "cell_type": "code",
      "metadata": {
        "id": "fymHLBkje_8b",
        "colab": {
          "base_uri": "https://localhost:8080/",
          "height": 293
        },
        "outputId": "88da72d6-cdab-4bda-e1e8-b63b3889799d"
      },
      "source": [
        "df[\"text_lower\"] = df[\"tweet\"].str.lower()\n",
        "df.head()"
      ],
      "execution_count": null,
      "outputs": [
        {
          "output_type": "execute_result",
          "data": {
            "text/html": [
              "<div>\n",
              "<style scoped>\n",
              "    .dataframe tbody tr th:only-of-type {\n",
              "        vertical-align: middle;\n",
              "    }\n",
              "\n",
              "    .dataframe tbody tr th {\n",
              "        vertical-align: top;\n",
              "    }\n",
              "\n",
              "    .dataframe thead th {\n",
              "        text-align: right;\n",
              "    }\n",
              "</style>\n",
              "<table border=\"1\" class=\"dataframe\">\n",
              "  <thead>\n",
              "    <tr style=\"text-align: right;\">\n",
              "      <th></th>\n",
              "      <th>text</th>\n",
              "      <th>HS</th>\n",
              "      <th>TR</th>\n",
              "      <th>AG</th>\n",
              "      <th>tweet</th>\n",
              "      <th>text_lower</th>\n",
              "    </tr>\n",
              "  </thead>\n",
              "  <tbody>\n",
              "    <tr>\n",
              "      <th>0</th>\n",
              "      <td>When you know you're a piece of shit and own i...</td>\n",
              "      <td>0</td>\n",
              "      <td>0</td>\n",
              "      <td>0</td>\n",
              "      <td>When you know you're a piece of shit and own i...</td>\n",
              "      <td>when you know you're a piece of shit and own i...</td>\n",
              "    </tr>\n",
              "    <tr>\n",
              "      <th>1</th>\n",
              "      <td>@MomsRising @Re4mImmigration @DHSgov American ...</td>\n",
              "      <td>1</td>\n",
              "      <td>0</td>\n",
              "      <td>0</td>\n",
              "      <td>American Kids Killed by Illegals are Perman...</td>\n",
              "      <td>american kids killed by illegals are perman...</td>\n",
              "    </tr>\n",
              "    <tr>\n",
              "      <th>2</th>\n",
              "      <td>Me when people take a post too seriously and I...</td>\n",
              "      <td>0</td>\n",
              "      <td>0</td>\n",
              "      <td>0</td>\n",
              "      <td>Me when people take a post too seriously and I...</td>\n",
              "      <td>me when people take a post too seriously and i...</td>\n",
              "    </tr>\n",
              "    <tr>\n",
              "      <th>3</th>\n",
              "      <td>Immigration \"loophole\" that Trump bemoaned ret...</td>\n",
              "      <td>0</td>\n",
              "      <td>0</td>\n",
              "      <td>0</td>\n",
              "      <td>Immigration \"loophole\" that Trump bemoaned ret...</td>\n",
              "      <td>immigration \"loophole\" that trump bemoaned ret...</td>\n",
              "    </tr>\n",
              "    <tr>\n",
              "      <th>4</th>\n",
              "      <td>My whole life is one big sexual innuendo</td>\n",
              "      <td>0</td>\n",
              "      <td>0</td>\n",
              "      <td>0</td>\n",
              "      <td>My whole life is one big sexual innuendo</td>\n",
              "      <td>my whole life is one big sexual innuendo</td>\n",
              "    </tr>\n",
              "  </tbody>\n",
              "</table>\n",
              "</div>"
            ],
            "text/plain": [
              "                                                text  ...                                         text_lower\n",
              "0  When you know you're a piece of shit and own i...  ...  when you know you're a piece of shit and own i...\n",
              "1  @MomsRising @Re4mImmigration @DHSgov American ...  ...     american kids killed by illegals are perman...\n",
              "2  Me when people take a post too seriously and I...  ...  me when people take a post too seriously and i...\n",
              "3  Immigration \"loophole\" that Trump bemoaned ret...  ...  immigration \"loophole\" that trump bemoaned ret...\n",
              "4           My whole life is one big sexual innuendo  ...           my whole life is one big sexual innuendo\n",
              "\n",
              "[5 rows x 6 columns]"
            ]
          },
          "metadata": {},
          "execution_count": 30
        }
      ]
    },
    {
      "cell_type": "markdown",
      "metadata": {
        "id": "agxBEhK8fJx3"
      },
      "source": [
        "REMOVE PUNCTUATIONS"
      ]
    },
    {
      "cell_type": "code",
      "metadata": {
        "id": "aFdsR5lBfPaQ",
        "colab": {
          "base_uri": "https://localhost:8080/",
          "height": 345
        },
        "outputId": "de44b400-d8fd-4522-9e55-d6d5054d33b5"
      },
      "source": [
        "# drop the new column created in last cell\n",
        "#df.drop([\"text_lower\"], axis=1, inplace=True)\n",
        "\n",
        "PUNCT_TO_REMOVE = string.punctuation\n",
        "def remove_punctuation(text):\n",
        "    \"\"\"custom function to remove the punctuation\"\"\"\n",
        "    return text.translate(str.maketrans('', '', PUNCT_TO_REMOVE))\n",
        "\n",
        "df[\"text_wo_punct\"] = df['text_lower'].apply(lambda text: remove_punctuation(text))\n",
        "df.head()"
      ],
      "execution_count": null,
      "outputs": [
        {
          "output_type": "execute_result",
          "data": {
            "text/html": [
              "<div>\n",
              "<style scoped>\n",
              "    .dataframe tbody tr th:only-of-type {\n",
              "        vertical-align: middle;\n",
              "    }\n",
              "\n",
              "    .dataframe tbody tr th {\n",
              "        vertical-align: top;\n",
              "    }\n",
              "\n",
              "    .dataframe thead th {\n",
              "        text-align: right;\n",
              "    }\n",
              "</style>\n",
              "<table border=\"1\" class=\"dataframe\">\n",
              "  <thead>\n",
              "    <tr style=\"text-align: right;\">\n",
              "      <th></th>\n",
              "      <th>text</th>\n",
              "      <th>HS</th>\n",
              "      <th>TR</th>\n",
              "      <th>AG</th>\n",
              "      <th>tweet</th>\n",
              "      <th>text_lower</th>\n",
              "      <th>text_wo_punct</th>\n",
              "    </tr>\n",
              "  </thead>\n",
              "  <tbody>\n",
              "    <tr>\n",
              "      <th>0</th>\n",
              "      <td>When you know you're a piece of shit and own i...</td>\n",
              "      <td>0</td>\n",
              "      <td>0</td>\n",
              "      <td>0</td>\n",
              "      <td>When you know you're a piece of shit and own i...</td>\n",
              "      <td>when you know you're a piece of shit and own i...</td>\n",
              "      <td>when you know youre a piece of shit and own it...</td>\n",
              "    </tr>\n",
              "    <tr>\n",
              "      <th>1</th>\n",
              "      <td>@MomsRising @Re4mImmigration @DHSgov American ...</td>\n",
              "      <td>1</td>\n",
              "      <td>0</td>\n",
              "      <td>0</td>\n",
              "      <td>American Kids Killed by Illegals are Perman...</td>\n",
              "      <td>american kids killed by illegals are perman...</td>\n",
              "      <td>american kids killed by illegals are perman...</td>\n",
              "    </tr>\n",
              "    <tr>\n",
              "      <th>2</th>\n",
              "      <td>Me when people take a post too seriously and I...</td>\n",
              "      <td>0</td>\n",
              "      <td>0</td>\n",
              "      <td>0</td>\n",
              "      <td>Me when people take a post too seriously and I...</td>\n",
              "      <td>me when people take a post too seriously and i...</td>\n",
              "      <td>me when people take a post too seriously and i...</td>\n",
              "    </tr>\n",
              "    <tr>\n",
              "      <th>3</th>\n",
              "      <td>Immigration \"loophole\" that Trump bemoaned ret...</td>\n",
              "      <td>0</td>\n",
              "      <td>0</td>\n",
              "      <td>0</td>\n",
              "      <td>Immigration \"loophole\" that Trump bemoaned ret...</td>\n",
              "      <td>immigration \"loophole\" that trump bemoaned ret...</td>\n",
              "      <td>immigration loophole that trump bemoaned retur...</td>\n",
              "    </tr>\n",
              "    <tr>\n",
              "      <th>4</th>\n",
              "      <td>My whole life is one big sexual innuendo</td>\n",
              "      <td>0</td>\n",
              "      <td>0</td>\n",
              "      <td>0</td>\n",
              "      <td>My whole life is one big sexual innuendo</td>\n",
              "      <td>my whole life is one big sexual innuendo</td>\n",
              "      <td>my whole life is one big sexual innuendo</td>\n",
              "    </tr>\n",
              "  </tbody>\n",
              "</table>\n",
              "</div>"
            ],
            "text/plain": [
              "                                                text  ...                                      text_wo_punct\n",
              "0  When you know you're a piece of shit and own i...  ...  when you know youre a piece of shit and own it...\n",
              "1  @MomsRising @Re4mImmigration @DHSgov American ...  ...     american kids killed by illegals are perman...\n",
              "2  Me when people take a post too seriously and I...  ...  me when people take a post too seriously and i...\n",
              "3  Immigration \"loophole\" that Trump bemoaned ret...  ...  immigration loophole that trump bemoaned retur...\n",
              "4           My whole life is one big sexual innuendo  ...           my whole life is one big sexual innuendo\n",
              "\n",
              "[5 rows x 7 columns]"
            ]
          },
          "metadata": {},
          "execution_count": 31
        }
      ]
    },
    {
      "cell_type": "markdown",
      "metadata": {
        "id": "ayIvuxFTfW3t"
      },
      "source": [
        "STOPWORDS"
      ]
    },
    {
      "cell_type": "code",
      "metadata": {
        "id": "GoW-3JpOg3lZ",
        "colab": {
          "base_uri": "https://localhost:8080/"
        },
        "outputId": "baf43cfc-0224-4465-ce13-d3f56fe2480d"
      },
      "source": [
        "!pip install nltk"
      ],
      "execution_count": null,
      "outputs": [
        {
          "output_type": "stream",
          "name": "stdout",
          "text": [
            "Requirement already satisfied: nltk in /usr/local/lib/python3.7/dist-packages (3.2.5)\n",
            "Requirement already satisfied: six in /usr/local/lib/python3.7/dist-packages (from nltk) (1.15.0)\n"
          ]
        }
      ]
    },
    {
      "cell_type": "code",
      "metadata": {
        "id": "Qzi6C5ung_yU",
        "colab": {
          "base_uri": "https://localhost:8080/"
        },
        "outputId": "9ed91239-44d7-406f-8638-ecc105abf19b"
      },
      "source": [
        "import nltk\n",
        "nltk.download('stopwords')"
      ],
      "execution_count": null,
      "outputs": [
        {
          "output_type": "stream",
          "name": "stdout",
          "text": [
            "[nltk_data] Downloading package stopwords to /root/nltk_data...\n",
            "[nltk_data]   Unzipping corpora/stopwords.zip.\n"
          ]
        },
        {
          "output_type": "execute_result",
          "data": {
            "text/plain": [
              "True"
            ]
          },
          "metadata": {},
          "execution_count": 33
        }
      ]
    },
    {
      "cell_type": "code",
      "metadata": {
        "id": "aHW6r6LMfPfx",
        "colab": {
          "base_uri": "https://localhost:8080/",
          "height": 191
        },
        "outputId": "e90f2846-86ce-44be-f572-036a54152c36"
      },
      "source": [
        "from nltk.corpus import stopwords\n",
        "\", \".join(stopwords.words('english'))\n"
      ],
      "execution_count": null,
      "outputs": [
        {
          "output_type": "execute_result",
          "data": {
            "application/vnd.google.colaboratory.intrinsic+json": {
              "type": "string"
            },
            "text/plain": [
              "\"i, me, my, myself, we, our, ours, ourselves, you, you're, you've, you'll, you'd, your, yours, yourself, yourselves, he, him, his, himself, she, she's, her, hers, herself, it, it's, its, itself, they, them, their, theirs, themselves, what, which, who, whom, this, that, that'll, these, those, am, is, are, was, were, be, been, being, have, has, had, having, do, does, did, doing, a, an, the, and, but, if, or, because, as, until, while, of, at, by, for, with, about, against, between, into, through, during, before, after, above, below, to, from, up, down, in, out, on, off, over, under, again, further, then, once, here, there, when, where, why, how, all, any, both, each, few, more, most, other, some, such, no, nor, not, only, own, same, so, than, too, very, s, t, can, will, just, don, don't, should, should've, now, d, ll, m, o, re, ve, y, ain, aren, aren't, couldn, couldn't, didn, didn't, doesn, doesn't, hadn, hadn't, hasn, hasn't, haven, haven't, isn, isn't, ma, mightn, mightn't, mustn, mustn't, needn, needn't, shan, shan't, shouldn, shouldn't, wasn, wasn't, weren, weren't, won, won't, wouldn, wouldn't\""
            ]
          },
          "metadata": {},
          "execution_count": 34
        }
      ]
    },
    {
      "cell_type": "code",
      "metadata": {
        "id": "aLR1Tqn_g3tw",
        "colab": {
          "base_uri": "https://localhost:8080/",
          "height": 397
        },
        "outputId": "378b6cfc-654f-4a67-d137-ab49699b5acc"
      },
      "source": [
        "STOPWORDS = set(stopwords.words('english'))\n",
        "def remove_stopwords(text):\n",
        "    \"\"\"custom function to remove the stopwords\"\"\"\n",
        "    return \" \".join([word for word in str(text).split() if word not in STOPWORDS])\n",
        "\n",
        "df[\"text_wo_stop\"] = df[\"text_wo_punct\"].apply(lambda text: remove_stopwords(text))\n",
        "df.head()"
      ],
      "execution_count": null,
      "outputs": [
        {
          "output_type": "execute_result",
          "data": {
            "text/html": [
              "<div>\n",
              "<style scoped>\n",
              "    .dataframe tbody tr th:only-of-type {\n",
              "        vertical-align: middle;\n",
              "    }\n",
              "\n",
              "    .dataframe tbody tr th {\n",
              "        vertical-align: top;\n",
              "    }\n",
              "\n",
              "    .dataframe thead th {\n",
              "        text-align: right;\n",
              "    }\n",
              "</style>\n",
              "<table border=\"1\" class=\"dataframe\">\n",
              "  <thead>\n",
              "    <tr style=\"text-align: right;\">\n",
              "      <th></th>\n",
              "      <th>text</th>\n",
              "      <th>HS</th>\n",
              "      <th>TR</th>\n",
              "      <th>AG</th>\n",
              "      <th>tweet</th>\n",
              "      <th>text_lower</th>\n",
              "      <th>text_wo_punct</th>\n",
              "      <th>text_wo_stop</th>\n",
              "    </tr>\n",
              "  </thead>\n",
              "  <tbody>\n",
              "    <tr>\n",
              "      <th>0</th>\n",
              "      <td>When you know you're a piece of shit and own i...</td>\n",
              "      <td>0</td>\n",
              "      <td>0</td>\n",
              "      <td>0</td>\n",
              "      <td>When you know you're a piece of shit and own i...</td>\n",
              "      <td>when you know you're a piece of shit and own i...</td>\n",
              "      <td>when you know youre a piece of shit and own it...</td>\n",
              "      <td>know youre piece shit like boss</td>\n",
              "    </tr>\n",
              "    <tr>\n",
              "      <th>1</th>\n",
              "      <td>@MomsRising @Re4mImmigration @DHSgov American ...</td>\n",
              "      <td>1</td>\n",
              "      <td>0</td>\n",
              "      <td>0</td>\n",
              "      <td>American Kids Killed by Illegals are Perman...</td>\n",
              "      <td>american kids killed by illegals are perman...</td>\n",
              "      <td>american kids killed by illegals are perman...</td>\n",
              "      <td>american kids killed illegals permanently sepa...</td>\n",
              "    </tr>\n",
              "    <tr>\n",
              "      <th>2</th>\n",
              "      <td>Me when people take a post too seriously and I...</td>\n",
              "      <td>0</td>\n",
              "      <td>0</td>\n",
              "      <td>0</td>\n",
              "      <td>Me when people take a post too seriously and I...</td>\n",
              "      <td>me when people take a post too seriously and i...</td>\n",
              "      <td>me when people take a post too seriously and i...</td>\n",
              "      <td>people take post seriously im reading butt hur...</td>\n",
              "    </tr>\n",
              "    <tr>\n",
              "      <th>3</th>\n",
              "      <td>Immigration \"loophole\" that Trump bemoaned ret...</td>\n",
              "      <td>0</td>\n",
              "      <td>0</td>\n",
              "      <td>0</td>\n",
              "      <td>Immigration \"loophole\" that Trump bemoaned ret...</td>\n",
              "      <td>immigration \"loophole\" that trump bemoaned ret...</td>\n",
              "      <td>immigration loophole that trump bemoaned retur...</td>\n",
              "      <td>immigration loophole trump bemoaned returns ze...</td>\n",
              "    </tr>\n",
              "    <tr>\n",
              "      <th>4</th>\n",
              "      <td>My whole life is one big sexual innuendo</td>\n",
              "      <td>0</td>\n",
              "      <td>0</td>\n",
              "      <td>0</td>\n",
              "      <td>My whole life is one big sexual innuendo</td>\n",
              "      <td>my whole life is one big sexual innuendo</td>\n",
              "      <td>my whole life is one big sexual innuendo</td>\n",
              "      <td>whole life one big sexual innuendo</td>\n",
              "    </tr>\n",
              "  </tbody>\n",
              "</table>\n",
              "</div>"
            ],
            "text/plain": [
              "                                                text  ...                                       text_wo_stop\n",
              "0  When you know you're a piece of shit and own i...  ...                    know youre piece shit like boss\n",
              "1  @MomsRising @Re4mImmigration @DHSgov American ...  ...  american kids killed illegals permanently sepa...\n",
              "2  Me when people take a post too seriously and I...  ...  people take post seriously im reading butt hur...\n",
              "3  Immigration \"loophole\" that Trump bemoaned ret...  ...  immigration loophole trump bemoaned returns ze...\n",
              "4           My whole life is one big sexual innuendo  ...                 whole life one big sexual innuendo\n",
              "\n",
              "[5 rows x 8 columns]"
            ]
          },
          "metadata": {},
          "execution_count": 35
        }
      ]
    },
    {
      "cell_type": "markdown",
      "metadata": {
        "id": "twXfM95sjHmE"
      },
      "source": [
        "REMOVE URLS"
      ]
    },
    {
      "cell_type": "code",
      "metadata": {
        "id": "t5_rQS0bh8LP"
      },
      "source": [
        "def remove_urls(text):\n",
        "    url_pattern = re.compile(r'https?://\\S+|www\\.\\S+')\n",
        "    return url_pattern.sub(r'', text)"
      ],
      "execution_count": null,
      "outputs": []
    },
    {
      "cell_type": "code",
      "metadata": {
        "id": "NvAsPVBmieSo",
        "colab": {
          "base_uri": "https://localhost:8080/",
          "height": 501
        },
        "outputId": "1f626a7f-8c26-4f0d-ea2c-08df86bb815b"
      },
      "source": [
        "df[\"text_wo_urlno\"] = df[\"text_wo_stop\"].apply(lambda text: remove_urls(text))\n",
        "df.head()"
      ],
      "execution_count": null,
      "outputs": [
        {
          "output_type": "execute_result",
          "data": {
            "text/html": [
              "<div>\n",
              "<style scoped>\n",
              "    .dataframe tbody tr th:only-of-type {\n",
              "        vertical-align: middle;\n",
              "    }\n",
              "\n",
              "    .dataframe tbody tr th {\n",
              "        vertical-align: top;\n",
              "    }\n",
              "\n",
              "    .dataframe thead th {\n",
              "        text-align: right;\n",
              "    }\n",
              "</style>\n",
              "<table border=\"1\" class=\"dataframe\">\n",
              "  <thead>\n",
              "    <tr style=\"text-align: right;\">\n",
              "      <th></th>\n",
              "      <th>text</th>\n",
              "      <th>HS</th>\n",
              "      <th>TR</th>\n",
              "      <th>AG</th>\n",
              "      <th>tweet</th>\n",
              "      <th>text_lower</th>\n",
              "      <th>text_wo_punct</th>\n",
              "      <th>text_wo_stop</th>\n",
              "      <th>text_wo_urlno</th>\n",
              "    </tr>\n",
              "  </thead>\n",
              "  <tbody>\n",
              "    <tr>\n",
              "      <th>0</th>\n",
              "      <td>When you know you're a piece of shit and own i...</td>\n",
              "      <td>0</td>\n",
              "      <td>0</td>\n",
              "      <td>0</td>\n",
              "      <td>When you know you're a piece of shit and own i...</td>\n",
              "      <td>when you know you're a piece of shit and own i...</td>\n",
              "      <td>when you know youre a piece of shit and own it...</td>\n",
              "      <td>know youre piece shit like boss</td>\n",
              "      <td>know youre piece shit like boss</td>\n",
              "    </tr>\n",
              "    <tr>\n",
              "      <th>1</th>\n",
              "      <td>@MomsRising @Re4mImmigration @DHSgov American ...</td>\n",
              "      <td>1</td>\n",
              "      <td>0</td>\n",
              "      <td>0</td>\n",
              "      <td>American Kids Killed by Illegals are Perman...</td>\n",
              "      <td>american kids killed by illegals are perman...</td>\n",
              "      <td>american kids killed by illegals are perman...</td>\n",
              "      <td>american kids killed illegals permanently sepa...</td>\n",
              "      <td>american kids killed illegals permanently sepa...</td>\n",
              "    </tr>\n",
              "    <tr>\n",
              "      <th>2</th>\n",
              "      <td>Me when people take a post too seriously and I...</td>\n",
              "      <td>0</td>\n",
              "      <td>0</td>\n",
              "      <td>0</td>\n",
              "      <td>Me when people take a post too seriously and I...</td>\n",
              "      <td>me when people take a post too seriously and i...</td>\n",
              "      <td>me when people take a post too seriously and i...</td>\n",
              "      <td>people take post seriously im reading butt hur...</td>\n",
              "      <td>people take post seriously im reading butt hur...</td>\n",
              "    </tr>\n",
              "    <tr>\n",
              "      <th>3</th>\n",
              "      <td>Immigration \"loophole\" that Trump bemoaned ret...</td>\n",
              "      <td>0</td>\n",
              "      <td>0</td>\n",
              "      <td>0</td>\n",
              "      <td>Immigration \"loophole\" that Trump bemoaned ret...</td>\n",
              "      <td>immigration \"loophole\" that trump bemoaned ret...</td>\n",
              "      <td>immigration loophole that trump bemoaned retur...</td>\n",
              "      <td>immigration loophole trump bemoaned returns ze...</td>\n",
              "      <td>immigration loophole trump bemoaned returns ze...</td>\n",
              "    </tr>\n",
              "    <tr>\n",
              "      <th>4</th>\n",
              "      <td>My whole life is one big sexual innuendo</td>\n",
              "      <td>0</td>\n",
              "      <td>0</td>\n",
              "      <td>0</td>\n",
              "      <td>My whole life is one big sexual innuendo</td>\n",
              "      <td>my whole life is one big sexual innuendo</td>\n",
              "      <td>my whole life is one big sexual innuendo</td>\n",
              "      <td>whole life one big sexual innuendo</td>\n",
              "      <td>whole life one big sexual innuendo</td>\n",
              "    </tr>\n",
              "  </tbody>\n",
              "</table>\n",
              "</div>"
            ],
            "text/plain": [
              "                                                text  ...                                      text_wo_urlno\n",
              "0  When you know you're a piece of shit and own i...  ...                    know youre piece shit like boss\n",
              "1  @MomsRising @Re4mImmigration @DHSgov American ...  ...  american kids killed illegals permanently sepa...\n",
              "2  Me when people take a post too seriously and I...  ...  people take post seriously im reading butt hur...\n",
              "3  Immigration \"loophole\" that Trump bemoaned ret...  ...  immigration loophole trump bemoaned returns ze...\n",
              "4           My whole life is one big sexual innuendo  ...                 whole life one big sexual innuendo\n",
              "\n",
              "[5 rows x 9 columns]"
            ]
          },
          "metadata": {},
          "execution_count": 37
        }
      ]
    },
    {
      "cell_type": "markdown",
      "metadata": {
        "id": "8JvAS01ejLiC"
      },
      "source": [
        "REMOVE HTML TAGS"
      ]
    },
    {
      "cell_type": "code",
      "metadata": {
        "id": "Jydj5i7KjNfP",
        "colab": {
          "base_uri": "https://localhost:8080/",
          "height": 573
        },
        "outputId": "26794d3b-1b33-45f2-a243-b48c4e6f0f1f"
      },
      "source": [
        "def remove_html(text):\n",
        "    html_pattern = re.compile('<.*?>')\n",
        "    return html_pattern.sub(r'', text)\n",
        "\n",
        "df[\"text_wo_htmlno\"] = df[\"text_wo_urlno\"].apply(lambda text: remove_html(text))\n",
        "df.head()\n"
      ],
      "execution_count": null,
      "outputs": [
        {
          "output_type": "execute_result",
          "data": {
            "text/html": [
              "<div>\n",
              "<style scoped>\n",
              "    .dataframe tbody tr th:only-of-type {\n",
              "        vertical-align: middle;\n",
              "    }\n",
              "\n",
              "    .dataframe tbody tr th {\n",
              "        vertical-align: top;\n",
              "    }\n",
              "\n",
              "    .dataframe thead th {\n",
              "        text-align: right;\n",
              "    }\n",
              "</style>\n",
              "<table border=\"1\" class=\"dataframe\">\n",
              "  <thead>\n",
              "    <tr style=\"text-align: right;\">\n",
              "      <th></th>\n",
              "      <th>text</th>\n",
              "      <th>HS</th>\n",
              "      <th>TR</th>\n",
              "      <th>AG</th>\n",
              "      <th>tweet</th>\n",
              "      <th>text_lower</th>\n",
              "      <th>text_wo_punct</th>\n",
              "      <th>text_wo_stop</th>\n",
              "      <th>text_wo_urlno</th>\n",
              "      <th>text_wo_htmlno</th>\n",
              "    </tr>\n",
              "  </thead>\n",
              "  <tbody>\n",
              "    <tr>\n",
              "      <th>0</th>\n",
              "      <td>When you know you're a piece of shit and own i...</td>\n",
              "      <td>0</td>\n",
              "      <td>0</td>\n",
              "      <td>0</td>\n",
              "      <td>When you know you're a piece of shit and own i...</td>\n",
              "      <td>when you know you're a piece of shit and own i...</td>\n",
              "      <td>when you know youre a piece of shit and own it...</td>\n",
              "      <td>know youre piece shit like boss</td>\n",
              "      <td>know youre piece shit like boss</td>\n",
              "      <td>know youre piece shit like boss</td>\n",
              "    </tr>\n",
              "    <tr>\n",
              "      <th>1</th>\n",
              "      <td>@MomsRising @Re4mImmigration @DHSgov American ...</td>\n",
              "      <td>1</td>\n",
              "      <td>0</td>\n",
              "      <td>0</td>\n",
              "      <td>American Kids Killed by Illegals are Perman...</td>\n",
              "      <td>american kids killed by illegals are perman...</td>\n",
              "      <td>american kids killed by illegals are perman...</td>\n",
              "      <td>american kids killed illegals permanently sepa...</td>\n",
              "      <td>american kids killed illegals permanently sepa...</td>\n",
              "      <td>american kids killed illegals permanently sepa...</td>\n",
              "    </tr>\n",
              "    <tr>\n",
              "      <th>2</th>\n",
              "      <td>Me when people take a post too seriously and I...</td>\n",
              "      <td>0</td>\n",
              "      <td>0</td>\n",
              "      <td>0</td>\n",
              "      <td>Me when people take a post too seriously and I...</td>\n",
              "      <td>me when people take a post too seriously and i...</td>\n",
              "      <td>me when people take a post too seriously and i...</td>\n",
              "      <td>people take post seriously im reading butt hur...</td>\n",
              "      <td>people take post seriously im reading butt hur...</td>\n",
              "      <td>people take post seriously im reading butt hur...</td>\n",
              "    </tr>\n",
              "    <tr>\n",
              "      <th>3</th>\n",
              "      <td>Immigration \"loophole\" that Trump bemoaned ret...</td>\n",
              "      <td>0</td>\n",
              "      <td>0</td>\n",
              "      <td>0</td>\n",
              "      <td>Immigration \"loophole\" that Trump bemoaned ret...</td>\n",
              "      <td>immigration \"loophole\" that trump bemoaned ret...</td>\n",
              "      <td>immigration loophole that trump bemoaned retur...</td>\n",
              "      <td>immigration loophole trump bemoaned returns ze...</td>\n",
              "      <td>immigration loophole trump bemoaned returns ze...</td>\n",
              "      <td>immigration loophole trump bemoaned returns ze...</td>\n",
              "    </tr>\n",
              "    <tr>\n",
              "      <th>4</th>\n",
              "      <td>My whole life is one big sexual innuendo</td>\n",
              "      <td>0</td>\n",
              "      <td>0</td>\n",
              "      <td>0</td>\n",
              "      <td>My whole life is one big sexual innuendo</td>\n",
              "      <td>my whole life is one big sexual innuendo</td>\n",
              "      <td>my whole life is one big sexual innuendo</td>\n",
              "      <td>whole life one big sexual innuendo</td>\n",
              "      <td>whole life one big sexual innuendo</td>\n",
              "      <td>whole life one big sexual innuendo</td>\n",
              "    </tr>\n",
              "  </tbody>\n",
              "</table>\n",
              "</div>"
            ],
            "text/plain": [
              "                                                text  ...                                     text_wo_htmlno\n",
              "0  When you know you're a piece of shit and own i...  ...                    know youre piece shit like boss\n",
              "1  @MomsRising @Re4mImmigration @DHSgov American ...  ...  american kids killed illegals permanently sepa...\n",
              "2  Me when people take a post too seriously and I...  ...  people take post seriously im reading butt hur...\n",
              "3  Immigration \"loophole\" that Trump bemoaned ret...  ...  immigration loophole trump bemoaned returns ze...\n",
              "4           My whole life is one big sexual innuendo  ...                 whole life one big sexual innuendo\n",
              "\n",
              "[5 rows x 10 columns]"
            ]
          },
          "metadata": {},
          "execution_count": 38
        }
      ]
    },
    {
      "cell_type": "markdown",
      "metadata": {
        "id": "ZJR_fP8Pjuca"
      },
      "source": [
        "REMOVE DIGITS"
      ]
    },
    {
      "cell_type": "code",
      "metadata": {
        "id": "lOoVNHv2jt76"
      },
      "source": [
        "#df['text_wo_digitno'] = df['text_wo_urlno'].apply(lambda x: re.sub('W*dw*','',x))\n",
        "#df.head()"
      ],
      "execution_count": null,
      "outputs": []
    },
    {
      "cell_type": "code",
      "metadata": {
        "id": "hnMqm6eCohKQ",
        "colab": {
          "base_uri": "https://localhost:8080/"
        },
        "outputId": "40c2f692-ce52-4ca8-9373-5120fdac87cd"
      },
      "source": [
        "import nltk\n",
        "nltk.download('wordnet')"
      ],
      "execution_count": null,
      "outputs": [
        {
          "output_type": "stream",
          "name": "stdout",
          "text": [
            "[nltk_data] Downloading package wordnet to /root/nltk_data...\n",
            "[nltk_data]   Unzipping corpora/wordnet.zip.\n"
          ]
        },
        {
          "output_type": "execute_result",
          "data": {
            "text/plain": [
              "True"
            ]
          },
          "metadata": {},
          "execution_count": 40
        }
      ]
    },
    {
      "cell_type": "markdown",
      "metadata": {
        "id": "gPukdQXDkMZt"
      },
      "source": [
        "LEMMATIZATION"
      ]
    },
    {
      "cell_type": "code",
      "metadata": {
        "id": "-Sv4nhZmkL0p",
        "colab": {
          "base_uri": "https://localhost:8080/",
          "height": 625
        },
        "outputId": "1a11e1e9-3ccd-44f6-b26b-0bcc8ec849bc"
      },
      "source": [
        "nltk.download('averaged_perceptron_tagger')\n",
        "from nltk.corpus import wordnet\n",
        "from nltk.stem import WordNetLemmatizer\n",
        "\n",
        "lemmatizer = WordNetLemmatizer()\n",
        "wordnet_map = {\"N\":wordnet.NOUN, \"V\":wordnet.VERB, \"J\":wordnet.ADJ, \"R\":wordnet.ADV}\n",
        "def lemmatize_words(text):\n",
        "    pos_tagged_text = nltk.pos_tag(text.split())\n",
        "    return \" \".join([lemmatizer.lemmatize(word, wordnet_map.get(pos[0], wordnet.NOUN)) for word, pos in pos_tagged_text])\n",
        "\n",
        "df[\"text_lemmatized\"] = df[\"text_wo_htmlno\"].apply(lambda text: lemmatize_words(text))\n",
        "df.head()"
      ],
      "execution_count": null,
      "outputs": [
        {
          "output_type": "stream",
          "name": "stdout",
          "text": [
            "[nltk_data] Downloading package averaged_perceptron_tagger to\n",
            "[nltk_data]     /root/nltk_data...\n",
            "[nltk_data]   Unzipping taggers/averaged_perceptron_tagger.zip.\n"
          ]
        },
        {
          "output_type": "execute_result",
          "data": {
            "text/html": [
              "<div>\n",
              "<style scoped>\n",
              "    .dataframe tbody tr th:only-of-type {\n",
              "        vertical-align: middle;\n",
              "    }\n",
              "\n",
              "    .dataframe tbody tr th {\n",
              "        vertical-align: top;\n",
              "    }\n",
              "\n",
              "    .dataframe thead th {\n",
              "        text-align: right;\n",
              "    }\n",
              "</style>\n",
              "<table border=\"1\" class=\"dataframe\">\n",
              "  <thead>\n",
              "    <tr style=\"text-align: right;\">\n",
              "      <th></th>\n",
              "      <th>text</th>\n",
              "      <th>HS</th>\n",
              "      <th>TR</th>\n",
              "      <th>AG</th>\n",
              "      <th>tweet</th>\n",
              "      <th>text_lower</th>\n",
              "      <th>text_wo_punct</th>\n",
              "      <th>text_wo_stop</th>\n",
              "      <th>text_wo_urlno</th>\n",
              "      <th>text_wo_htmlno</th>\n",
              "      <th>text_lemmatized</th>\n",
              "    </tr>\n",
              "  </thead>\n",
              "  <tbody>\n",
              "    <tr>\n",
              "      <th>0</th>\n",
              "      <td>When you know you're a piece of shit and own i...</td>\n",
              "      <td>0</td>\n",
              "      <td>0</td>\n",
              "      <td>0</td>\n",
              "      <td>When you know you're a piece of shit and own i...</td>\n",
              "      <td>when you know you're a piece of shit and own i...</td>\n",
              "      <td>when you know youre a piece of shit and own it...</td>\n",
              "      <td>know youre piece shit like boss</td>\n",
              "      <td>know youre piece shit like boss</td>\n",
              "      <td>know youre piece shit like boss</td>\n",
              "      <td>know youre piece shit like bos</td>\n",
              "    </tr>\n",
              "    <tr>\n",
              "      <th>1</th>\n",
              "      <td>@MomsRising @Re4mImmigration @DHSgov American ...</td>\n",
              "      <td>1</td>\n",
              "      <td>0</td>\n",
              "      <td>0</td>\n",
              "      <td>American Kids Killed by Illegals are Perman...</td>\n",
              "      <td>american kids killed by illegals are perman...</td>\n",
              "      <td>american kids killed by illegals are perman...</td>\n",
              "      <td>american kids killed illegals permanently sepa...</td>\n",
              "      <td>american kids killed illegals permanently sepa...</td>\n",
              "      <td>american kids killed illegals permanently sepa...</td>\n",
              "      <td>american kid kill illegals permanently separat...</td>\n",
              "    </tr>\n",
              "    <tr>\n",
              "      <th>2</th>\n",
              "      <td>Me when people take a post too seriously and I...</td>\n",
              "      <td>0</td>\n",
              "      <td>0</td>\n",
              "      <td>0</td>\n",
              "      <td>Me when people take a post too seriously and I...</td>\n",
              "      <td>me when people take a post too seriously and i...</td>\n",
              "      <td>me when people take a post too seriously and i...</td>\n",
              "      <td>people take post seriously im reading butt hur...</td>\n",
              "      <td>people take post seriously im reading butt hur...</td>\n",
              "      <td>people take post seriously im reading butt hur...</td>\n",
              "      <td>people take post seriously im read butt hurt c...</td>\n",
              "    </tr>\n",
              "    <tr>\n",
              "      <th>3</th>\n",
              "      <td>Immigration \"loophole\" that Trump bemoaned ret...</td>\n",
              "      <td>0</td>\n",
              "      <td>0</td>\n",
              "      <td>0</td>\n",
              "      <td>Immigration \"loophole\" that Trump bemoaned ret...</td>\n",
              "      <td>immigration \"loophole\" that trump bemoaned ret...</td>\n",
              "      <td>immigration loophole that trump bemoaned retur...</td>\n",
              "      <td>immigration loophole trump bemoaned returns ze...</td>\n",
              "      <td>immigration loophole trump bemoaned returns ze...</td>\n",
              "      <td>immigration loophole trump bemoaned returns ze...</td>\n",
              "      <td>immigration loophole trump bemoan return zero ...</td>\n",
              "    </tr>\n",
              "    <tr>\n",
              "      <th>4</th>\n",
              "      <td>My whole life is one big sexual innuendo</td>\n",
              "      <td>0</td>\n",
              "      <td>0</td>\n",
              "      <td>0</td>\n",
              "      <td>My whole life is one big sexual innuendo</td>\n",
              "      <td>my whole life is one big sexual innuendo</td>\n",
              "      <td>my whole life is one big sexual innuendo</td>\n",
              "      <td>whole life one big sexual innuendo</td>\n",
              "      <td>whole life one big sexual innuendo</td>\n",
              "      <td>whole life one big sexual innuendo</td>\n",
              "      <td>whole life one big sexual innuendo</td>\n",
              "    </tr>\n",
              "  </tbody>\n",
              "</table>\n",
              "</div>"
            ],
            "text/plain": [
              "                                                text  ...                                    text_lemmatized\n",
              "0  When you know you're a piece of shit and own i...  ...                     know youre piece shit like bos\n",
              "1  @MomsRising @Re4mImmigration @DHSgov American ...  ...  american kid kill illegals permanently separat...\n",
              "2  Me when people take a post too seriously and I...  ...  people take post seriously im read butt hurt c...\n",
              "3  Immigration \"loophole\" that Trump bemoaned ret...  ...  immigration loophole trump bemoan return zero ...\n",
              "4           My whole life is one big sexual innuendo  ...                 whole life one big sexual innuendo\n",
              "\n",
              "[5 rows x 11 columns]"
            ]
          },
          "metadata": {},
          "execution_count": 41
        }
      ]
    },
    {
      "cell_type": "code",
      "metadata": {
        "id": "pMQKNX0wkt3p",
        "colab": {
          "base_uri": "https://localhost:8080/"
        },
        "outputId": "0c29b217-d27c-453d-e5ce-7e983546d09e"
      },
      "source": [
        "df['text_lemmatized'].to_list"
      ],
      "execution_count": null,
      "outputs": [
        {
          "output_type": "execute_result",
          "data": {
            "text/plain": [
              "<bound method IndexOpsMixin.tolist of 0                           know youre piece shit like bos\n",
              "1        american kid kill illegals permanently separat...\n",
              "2        people take post seriously im read butt hurt c...\n",
              "3        immigration loophole trump bemoan return zero ...\n",
              "4                       whole life one big sexual innuendo\n",
              "                               ...                        \n",
              "11995    yet trah come america free load kindness human...\n",
              "11996          everyone call elly slut whore hell evidence\n",
              "11997    business move california democrat put criminal...\n",
              "11998    savage indians live reputationdeportthemall bu...\n",
              "11999    bitch come love talk shit phone thats let dad ...\n",
              "Name: text_lemmatized, Length: 12000, dtype: object>"
            ]
          },
          "metadata": {},
          "execution_count": 42
        }
      ]
    },
    {
      "cell_type": "markdown",
      "metadata": {
        "id": "hzHkO2K-ESU5"
      },
      "source": [
        "WORD CLOUD \n",
        "\n",
        "\n"
      ]
    },
    {
      "cell_type": "code",
      "metadata": {
        "id": "W9X7X68mDoZ-",
        "colab": {
          "base_uri": "https://localhost:8080/",
          "height": 607
        },
        "outputId": "76f6e695-a017-4137-9c8a-861b529b83f3"
      },
      "source": [
        "comments = df['text'].loc[df['HS']==1].values\n",
        "wordcloud = WordCloud(\n",
        "    width = 640,\n",
        "    height = 640,\n",
        "    background_color = 'black',\n",
        "    stopwords = STOPWORDS).generate(str(comments))\n",
        "fig = plt.figure(\n",
        "    figsize = (12, 8),\n",
        "    facecolor = 'k',\n",
        "    edgecolor = 'k')\n",
        "plt.imshow(wordcloud, interpolation = 'bilinear')\n",
        "plt.axis('off')\n",
        "plt.tight_layout(pad=0)\n",
        "plt.show()"
      ],
      "execution_count": null,
      "outputs": [
        {
          "output_type": "display_data",
          "data": {
            "image/png": "[encoded data removed]",
            "text/plain": [
              "<Figure size 864x576 with 1 Axes>"
            ]
          },
          "metadata": {}
        }
      ]
    },
    {
      "cell_type": "code",
      "metadata": {
        "id": "8lt-SMggEefG",
        "colab": {
          "base_uri": "https://localhost:8080/",
          "height": 380
        },
        "outputId": "87ef5d16-01fd-439c-e59f-1298ebfad23e"
      },
      "source": [
        "# Plot frequency of hateful comments\n",
        "fig = sns.distplot(df['HS'], kde=False)\n",
        "plt.xlabel(\"Hate Speech Label\")\n",
        "plt.ylabel(\"Count\")\n",
        "plt.title(\"Distribution of Hateful Comments\")\n",
        "plt.show(fig)"
      ],
      "execution_count": null,
      "outputs": [
        {
          "output_type": "stream",
          "name": "stderr",
          "text": [
            "/usr/local/lib/python3.7/dist-packages/seaborn/distributions.py:2619: FutureWarning: `distplot` is a deprecated function and will be removed in a future version. Please adapt your code to use either `displot` (a figure-level function with similar flexibility) or `histplot` (an axes-level function for histograms).\n",
            "  warnings.warn(msg, FutureWarning)\n"
          ]
        },
        {
          "output_type": "display_data",
          "data": {
            "image/png": "[encoded data removed]",
            "text/plain": [
              "<Figure size 432x288 with 1 Axes>"
            ]
          },
          "metadata": {}
        }
      ]
    },
    {
      "cell_type": "code",
      "metadata": {
        "id": "oBQErGKIExi2",
        "colab": {
          "base_uri": "https://localhost:8080/"
        },
        "outputId": "0c5ec6e0-022f-4bb3-c637-42a98b571e2a"
      },
      "source": [
        "df['HS'].value_counts()\n"
      ],
      "execution_count": null,
      "outputs": [
        {
          "output_type": "execute_result",
          "data": {
            "text/plain": [
              "0    6957\n",
              "1    5043\n",
              "Name: HS, dtype: int64"
            ]
          },
          "metadata": {},
          "execution_count": 45
        }
      ]
    },
    {
      "cell_type": "markdown",
      "metadata": {
        "id": "MzjUO445oJS7"
      },
      "source": [
        "TOKENIZATION"
      ]
    },
    {
      "cell_type": "code",
      "metadata": {
        "id": "n1wRiYmFoKtD",
        "colab": {
          "base_uri": "https://localhost:8080/"
        },
        "outputId": "a8b6bd93-5a61-4366-f5d2-d12f80396b4b"
      },
      "source": [
        "nltk.download('punkt')\n",
        "\n",
        "nltk_token = df[\"text_lemmatized\"].apply(lambda text:  nltk.word_tokenize(text))\n",
        "#df.head()\n",
        "print(nltk_token)\n",
        "#nltk_tokens = nltk.sent_tokenize(df['text_lemmatized'])\n",
        "#print (nltk_tokens)"
      ],
      "execution_count": null,
      "outputs": [
        {
          "output_type": "stream",
          "name": "stdout",
          "text": [
            "[nltk_data] Downloading package punkt to /root/nltk_data...\n",
            "[nltk_data]   Unzipping tokenizers/punkt.zip.\n",
            "0                    [know, youre, piece, shit, like, bos]\n",
            "1        [american, kid, kill, illegals, permanently, s...\n",
            "2        [people, take, post, seriously, im, read, butt...\n",
            "3        [immigration, loophole, trump, bemoan, return,...\n",
            "4                [whole, life, one, big, sexual, innuendo]\n",
            "                               ...                        \n",
            "11995    [yet, trah, come, america, free, load, kindnes...\n",
            "11996    [everyone, call, elly, slut, whore, hell, evid...\n",
            "11997    [business, move, california, democrat, put, cr...\n",
            "11998    [savage, indians, live, reputationdeportthemal...\n",
            "11999    [bitch, come, love, talk, shit, phone, thats, ...\n",
            "Name: text_lemmatized, Length: 12000, dtype: object\n"
          ]
        }
      ]
    },
    {
      "cell_type": "code",
      "metadata": {
        "id": "bnk5bAE4GPUw",
        "colab": {
          "base_uri": "https://localhost:8080/",
          "height": 573
        },
        "outputId": "f342c636-521c-4fee-a675-e289aa4ca8cd"
      },
      "source": [
        "df[[\"tokenized_text\"]] = nltk_token\n",
        "df.head()"
      ],
      "execution_count": null,
      "outputs": [
        {
          "output_type": "execute_result",
          "data": {
            "text/html": [
              "<div>\n",
              "<style scoped>\n",
              "    .dataframe tbody tr th:only-of-type {\n",
              "        vertical-align: middle;\n",
              "    }\n",
              "\n",
              "    .dataframe tbody tr th {\n",
              "        vertical-align: top;\n",
              "    }\n",
              "\n",
              "    .dataframe thead th {\n",
              "        text-align: right;\n",
              "    }\n",
              "</style>\n",
              "<table border=\"1\" class=\"dataframe\">\n",
              "  <thead>\n",
              "    <tr style=\"text-align: right;\">\n",
              "      <th></th>\n",
              "      <th>text</th>\n",
              "      <th>HS</th>\n",
              "      <th>TR</th>\n",
              "      <th>AG</th>\n",
              "      <th>tweet</th>\n",
              "      <th>text_lower</th>\n",
              "      <th>text_wo_punct</th>\n",
              "      <th>text_wo_stop</th>\n",
              "      <th>text_wo_urlno</th>\n",
              "      <th>text_wo_htmlno</th>\n",
              "      <th>text_lemmatized</th>\n",
              "      <th>tokenized_text</th>\n",
              "    </tr>\n",
              "  </thead>\n",
              "  <tbody>\n",
              "    <tr>\n",
              "      <th>0</th>\n",
              "      <td>When you know you're a piece of shit and own i...</td>\n",
              "      <td>0</td>\n",
              "      <td>0</td>\n",
              "      <td>0</td>\n",
              "      <td>When you know you're a piece of shit and own i...</td>\n",
              "      <td>when you know you're a piece of shit and own i...</td>\n",
              "      <td>when you know youre a piece of shit and own it...</td>\n",
              "      <td>know youre piece shit like boss</td>\n",
              "      <td>know youre piece shit like boss</td>\n",
              "      <td>know youre piece shit like boss</td>\n",
              "      <td>know youre piece shit like bos</td>\n",
              "      <td>[know, youre, piece, shit, like, bos]</td>\n",
              "    </tr>\n",
              "    <tr>\n",
              "      <th>1</th>\n",
              "      <td>@MomsRising @Re4mImmigration @DHSgov American ...</td>\n",
              "      <td>1</td>\n",
              "      <td>0</td>\n",
              "      <td>0</td>\n",
              "      <td>American Kids Killed by Illegals are Perman...</td>\n",
              "      <td>american kids killed by illegals are perman...</td>\n",
              "      <td>american kids killed by illegals are perman...</td>\n",
              "      <td>american kids killed illegals permanently sepa...</td>\n",
              "      <td>american kids killed illegals permanently sepa...</td>\n",
              "      <td>american kids killed illegals permanently sepa...</td>\n",
              "      <td>american kid kill illegals permanently separat...</td>\n",
              "      <td>[american, kid, kill, illegals, permanently, s...</td>\n",
              "    </tr>\n",
              "    <tr>\n",
              "      <th>2</th>\n",
              "      <td>Me when people take a post too seriously and I...</td>\n",
              "      <td>0</td>\n",
              "      <td>0</td>\n",
              "      <td>0</td>\n",
              "      <td>Me when people take a post too seriously and I...</td>\n",
              "      <td>me when people take a post too seriously and i...</td>\n",
              "      <td>me when people take a post too seriously and i...</td>\n",
              "      <td>people take post seriously im reading butt hur...</td>\n",
              "      <td>people take post seriously im reading butt hur...</td>\n",
              "      <td>people take post seriously im reading butt hur...</td>\n",
              "      <td>people take post seriously im read butt hurt c...</td>\n",
              "      <td>[people, take, post, seriously, im, read, butt...</td>\n",
              "    </tr>\n",
              "    <tr>\n",
              "      <th>3</th>\n",
              "      <td>Immigration \"loophole\" that Trump bemoaned ret...</td>\n",
              "      <td>0</td>\n",
              "      <td>0</td>\n",
              "      <td>0</td>\n",
              "      <td>Immigration \"loophole\" that Trump bemoaned ret...</td>\n",
              "      <td>immigration \"loophole\" that trump bemoaned ret...</td>\n",
              "      <td>immigration loophole that trump bemoaned retur...</td>\n",
              "      <td>immigration loophole trump bemoaned returns ze...</td>\n",
              "      <td>immigration loophole trump bemoaned returns ze...</td>\n",
              "      <td>immigration loophole trump bemoaned returns ze...</td>\n",
              "      <td>immigration loophole trump bemoan return zero ...</td>\n",
              "      <td>[immigration, loophole, trump, bemoan, return,...</td>\n",
              "    </tr>\n",
              "    <tr>\n",
              "      <th>4</th>\n",
              "      <td>My whole life is one big sexual innuendo</td>\n",
              "      <td>0</td>\n",
              "      <td>0</td>\n",
              "      <td>0</td>\n",
              "      <td>My whole life is one big sexual innuendo</td>\n",
              "      <td>my whole life is one big sexual innuendo</td>\n",
              "      <td>my whole life is one big sexual innuendo</td>\n",
              "      <td>whole life one big sexual innuendo</td>\n",
              "      <td>whole life one big sexual innuendo</td>\n",
              "      <td>whole life one big sexual innuendo</td>\n",
              "      <td>whole life one big sexual innuendo</td>\n",
              "      <td>[whole, life, one, big, sexual, innuendo]</td>\n",
              "    </tr>\n",
              "  </tbody>\n",
              "</table>\n",
              "</div>"
            ],
            "text/plain": [
              "                                                text  ...                                     tokenized_text\n",
              "0  When you know you're a piece of shit and own i...  ...              [know, youre, piece, shit, like, bos]\n",
              "1  @MomsRising @Re4mImmigration @DHSgov American ...  ...  [american, kid, kill, illegals, permanently, s...\n",
              "2  Me when people take a post too seriously and I...  ...  [people, take, post, seriously, im, read, butt...\n",
              "3  Immigration \"loophole\" that Trump bemoaned ret...  ...  [immigration, loophole, trump, bemoan, return,...\n",
              "4           My whole life is one big sexual innuendo  ...          [whole, life, one, big, sexual, innuendo]\n",
              "\n",
              "[5 rows x 12 columns]"
            ]
          },
          "metadata": {},
          "execution_count": 47
        }
      ]
    },
    {
      "cell_type": "markdown",
      "metadata": {
        "id": "HjNXJUyHH7JY"
      },
      "source": [
        "GloVE"
      ]
    },
    {
      "cell_type": "code",
      "metadata": {
        "id": "9uG4mURqXWTK"
      },
      "source": [
        "# vectorizer = Word2VecVectorizer(model)\n",
        "# # Get the sentence embeddings for the train dataset\n",
        "# Xtrain = vectorizer.fit_transform(X_train)\n",
        "# Ytrain = train_labels\n",
        "# # Get the sentence embeddings for the test dataset\n",
        "# Xtest = vectorizer.transform(X_test)\n",
        "# Ytest = test_labels"
      ],
      "execution_count": null,
      "outputs": []
    },
    {
      "cell_type": "markdown",
      "metadata": {
        "id": "gVGPqPrW0dfh"
      },
      "source": [
        "We are converting words to glove embeddings and then finding sentence embeddings.The ith value in the sentence embedding will be the mean of the ith values in the word embedding of all the words in the sentence.\n",
        "The GloVe embeddings are converted to word2vec format"
      ]
    },
    {
      "cell_type": "code",
      "metadata": {
        "id": "B2SDcGG_nk-p"
      },
      "source": [
        "df_p= df['text_lemmatized']\n",
        "df_n= df['HS']"
      ],
      "execution_count": null,
      "outputs": []
    },
    {
      "cell_type": "markdown",
      "metadata": {
        "id": "sFzGPKY8h3j8"
      },
      "source": [
        "SVM"
      ]
    },
    {
      "cell_type": "code",
      "metadata": {
        "id": "_dOGcwOEgH_S"
      },
      "source": [
        "def SVM_model(df_p,df_n):\n",
        "  # 10-fold cross validation for hyperparamter tuning\n",
        "  parameters = {'kernel':['rbf'],'C': [0.1, 1, 10, 100], 'gamma': [0.001, 0.01,1, 10]}\n",
        "  class_split=[]\n",
        "  result=[]\n",
        "  best_score=[]\n",
        "  validation=[]\n",
        "  test=[]\n",
        "  pivots=[]\n",
        "  for i in range(1):\n",
        "    print(i)\n",
        "\n",
        "    # split\n",
        "    x_train, x_test, y_train, y_test = train_test_split(df_p,df_n, test_size=0.20)\n",
        "\n",
        "    vectorizer = Word2VecVectorizer(model)\n",
        "    # Get the sentence embeddings for the train dataset\n",
        "    X_train = vectorizer.fit_transform(x_train)\n",
        "    # Get the sentence embeddings for the test dataset\n",
        "    X_test = vectorizer.transform(x_test)\n",
        "\n",
        "    #number of positives and negatives\n",
        "    class_split.append({'split_no': i,'train_p':sum(y_train==1),'train_n':sum(y_train==0),'test_p':sum(y_test==1),'test_n':sum(y_test==0)})\n",
        "    # print(X_train.shape,y_train.shape,X_test.shape,y_test.shape)\n",
        "    # grid search\n",
        "    grid = GridSearchCV(SVC(probability=True), parameters,scoring=\"accuracy\" ,cv=5) #uses accuracy for scoring and 10 fold cross validation\n",
        "    grid.fit(X_train, y_train)\n",
        "    #best score and parameters\n",
        "    best_score.append({\"Split\":i,\"Acc\":grid.best_score_,\"C\":grid.best_params_['C'],'gamma':grid.best_params_['gamma']})\n",
        "    # results of each split\n",
        "    res = pd.DataFrame(grid.cv_results_)\n",
        "    result.append(res)\n",
        "    pvt = pd.pivot_table(res,values='mean_test_score', index='param_C', columns='param_gamma')\n",
        "    pivots.append(pvt)\n",
        "    plt.figure(i)\n",
        "    sns.heatmap(pvt,cmap='magma',annot=True)\n",
        "\n",
        "    #storing training metrics\n",
        "    y_train_pred= grid.predict(X_train)\n",
        "    # train_probs = grid.predict_proba(X_train)\n",
        "    # train_probs= train_probs[:,-1]\n",
        "\n",
        "    TN,FP,FN,TP = confusion_matrix(y_train,y_train_pred, labels=[0, 1]).ravel()\n",
        "    #Sensitivity, hit rate, recall, or true positive rate\n",
        "    TPR = TP/(TP+FN)\n",
        "    # Specificity or true negative rate\n",
        "    TNR = TN/(TN+FP) \n",
        "    # Overall accuracy\n",
        "    ACC = (TP+TN)/(TP+FP+FN+TN)\n",
        "    # MCC=matthews_corrcoef(y_train,y_train_pred)\n",
        "    #F1 score\n",
        "    f1= f1_score(y_train,y_train_pred)\n",
        "    #precision\n",
        "    train_pr= precision_score(y_train,y_train_pred)\n",
        "    #recall\n",
        "    train_re = recall_score(y_train,y_train_pred)\n",
        "    #PR AUC\n",
        "    # pr_auc= average_precision_score(y_train,train_probs)\n",
        "    #ROC AUC\n",
        "    # roc_auc= roc_auc_score(y_train,train_probs)\n",
        "    #creating dataframe\n",
        "    validation.append({\"Split\": i,\"C\": grid.best_params_['C'],\"gamma\":grid.best_params_['gamma'],\n",
        "                      \"Sensitivity\":TPR,\"Specificity\":TNR,\"Accuracy\":ACC, \n",
        "                      \"Recall\":train_re,\"Precision\":train_pr,\"F1_score\":f1})\n",
        "\n",
        "    #storing validation metrics\n",
        "    y_test_pred= grid.predict(X_test)\n",
        "    # test_probs = grid.predict_proba(X_test)\n",
        "    # test_probs= test_probs[:,-1]\n",
        "    tn,fp,fn,tp = confusion_matrix(y_test,grid.predict(X_test),labels=[0, 1]).ravel()\n",
        "    sensitivity= tp/(tp+fn)\n",
        "    specificity = tn/(tn+fp)\n",
        "    acc = (tp+tn)/(tp+fn+fp+tn)\n",
        "    # mcc= matthews_corrcoef(y_test,grid.predict(X_test))\n",
        "    #F1 score\n",
        "    f1_test= f1_score(y_test,y_test_pred)\n",
        "    #precision\n",
        "    test_pr= precision_score(y_test,y_test_pred)\n",
        "    #recall\n",
        "    test_re = recall_score(y_test,y_test_pred)\n",
        "    #PR AUC\n",
        "    # pr_auc_test= average_precision_score(y_test,test_probs)\n",
        "    # #ROC AUC\n",
        "    # roc_auc_test= roc_auc_score(y_test,test_probs)\n",
        "    test.append({\"Split\": i,\"C\": grid.best_params_['C'],\"gamma\":grid.best_params_['gamma'],\n",
        "                \"Sensitivity\":sensitivity,\"Specificity\":specificity,\"Accuracy\":acc,\n",
        "                \"Recall\":test_re,\"Precision\":test_pr,\"F1_score\":f1_test})\n",
        "  \n",
        "  return test,validation,result,class_split,best_score\n"
      ],
      "execution_count": null,
      "outputs": []
    },
    {
      "cell_type": "code",
      "metadata": {
        "colab": {
          "base_uri": "https://localhost:8080/",
          "height": 391
        },
        "id": "kPYkFxYdodDk",
        "outputId": "47c3adeb-4669-4002-d079-58dfb82fc965"
      },
      "source": [
        "test,validation,result,class_split,best_score = SVM_model(df_p,df_n)"
      ],
      "execution_count": null,
      "outputs": [
        {
          "output_type": "stream",
          "name": "stdout",
          "text": [
            "0\n",
            "Loading in word vectors...\n",
            "Finished loading in word vectors\n",
            "Numer of samples with no words found: 46 / 9600\n",
            "Numer of samples with no words found: 10 / 2400\n"
          ]
        },
        {
          "output_type": "display_data",
          "data": {
            "image/png": "[encoded data removed]",
            "text/plain": [
              "<Figure size 432x288 with 2 Axes>"
            ]
          },
          "metadata": {}
        }
      ]
    },
    {
      "cell_type": "code",
      "metadata": {
        "id": "VlPUbljc4EkF"
      },
      "source": [
        "valid_df= pd.DataFrame(validation)\n",
        "test_df=pd.DataFrame(test)\n",
        "splits= pd.DataFrame(class_split)\n",
        "score= pd.DataFrame(best_score)"
      ],
      "execution_count": null,
      "outputs": []
    },
    {
      "cell_type": "code",
      "metadata": {
        "colab": {
          "base_uri": "https://localhost:8080/",
          "height": 81
        },
        "id": "Z2hcRn2cbN4f",
        "outputId": "af381148-63df-4e70-8572-5b5437048241"
      },
      "source": [
        "splits"
      ],
      "execution_count": null,
      "outputs": [
        {
          "output_type": "execute_result",
          "data": {
            "text/html": [
              "<div>\n",
              "<style scoped>\n",
              "    .dataframe tbody tr th:only-of-type {\n",
              "        vertical-align: middle;\n",
              "    }\n",
              "\n",
              "    .dataframe tbody tr th {\n",
              "        vertical-align: top;\n",
              "    }\n",
              "\n",
              "    .dataframe thead th {\n",
              "        text-align: right;\n",
              "    }\n",
              "</style>\n",
              "<table border=\"1\" class=\"dataframe\">\n",
              "  <thead>\n",
              "    <tr style=\"text-align: right;\">\n",
              "      <th></th>\n",
              "      <th>split_no</th>\n",
              "      <th>train_p</th>\n",
              "      <th>train_n</th>\n",
              "      <th>test_p</th>\n",
              "      <th>test_n</th>\n",
              "    </tr>\n",
              "  </thead>\n",
              "  <tbody>\n",
              "    <tr>\n",
              "      <th>0</th>\n",
              "      <td>0</td>\n",
              "      <td>4027</td>\n",
              "      <td>5573</td>\n",
              "      <td>1016</td>\n",
              "      <td>1384</td>\n",
              "    </tr>\n",
              "  </tbody>\n",
              "</table>\n",
              "</div>"
            ],
            "text/plain": [
              "   split_no  train_p  train_n  test_p  test_n\n",
              "0         0     4027     5573    1016    1384"
            ]
          },
          "metadata": {},
          "execution_count": 38
        }
      ]
    },
    {
      "cell_type": "code",
      "metadata": {
        "colab": {
          "base_uri": "https://localhost:8080/",
          "height": 81
        },
        "id": "DOIkd9pnbPiu",
        "outputId": "0c8a50dd-db88-4f23-fe73-b1d6eaba1cbc"
      },
      "source": [
        "valid_df"
      ],
      "execution_count": null,
      "outputs": [
        {
          "output_type": "execute_result",
          "data": {
            "text/html": [
              "<div>\n",
              "<style scoped>\n",
              "    .dataframe tbody tr th:only-of-type {\n",
              "        vertical-align: middle;\n",
              "    }\n",
              "\n",
              "    .dataframe tbody tr th {\n",
              "        vertical-align: top;\n",
              "    }\n",
              "\n",
              "    .dataframe thead th {\n",
              "        text-align: right;\n",
              "    }\n",
              "</style>\n",
              "<table border=\"1\" class=\"dataframe\">\n",
              "  <thead>\n",
              "    <tr style=\"text-align: right;\">\n",
              "      <th></th>\n",
              "      <th>Split</th>\n",
              "      <th>C</th>\n",
              "      <th>gamma</th>\n",
              "      <th>Sensitivity</th>\n",
              "      <th>Specificity</th>\n",
              "      <th>Accuracy</th>\n",
              "      <th>Recall</th>\n",
              "      <th>Precision</th>\n",
              "      <th>F1_score</th>\n",
              "    </tr>\n",
              "  </thead>\n",
              "  <tbody>\n",
              "    <tr>\n",
              "      <th>0</th>\n",
              "      <td>0</td>\n",
              "      <td>100</td>\n",
              "      <td>0.01</td>\n",
              "      <td>0.66377</td>\n",
              "      <td>0.818949</td>\n",
              "      <td>0.753854</td>\n",
              "      <td>0.66377</td>\n",
              "      <td>0.725964</td>\n",
              "      <td>0.693475</td>\n",
              "    </tr>\n",
              "  </tbody>\n",
              "</table>\n",
              "</div>"
            ],
            "text/plain": [
              "   Split    C  gamma  Sensitivity  ...  Accuracy   Recall  Precision  F1_score\n",
              "0      0  100   0.01      0.66377  ...  0.753854  0.66377   0.725964  0.693475\n",
              "\n",
              "[1 rows x 9 columns]"
            ]
          },
          "metadata": {},
          "execution_count": 39
        }
      ]
    },
    {
      "cell_type": "code",
      "metadata": {
        "colab": {
          "base_uri": "https://localhost:8080/",
          "height": 81
        },
        "id": "1qbDzLXrbQf-",
        "outputId": "68ad7599-dcfa-4e5e-f2a8-a8932c534f98"
      },
      "source": [
        "test_df"
      ],
      "execution_count": null,
      "outputs": [
        {
          "output_type": "execute_result",
          "data": {
            "text/html": [
              "<div>\n",
              "<style scoped>\n",
              "    .dataframe tbody tr th:only-of-type {\n",
              "        vertical-align: middle;\n",
              "    }\n",
              "\n",
              "    .dataframe tbody tr th {\n",
              "        vertical-align: top;\n",
              "    }\n",
              "\n",
              "    .dataframe thead th {\n",
              "        text-align: right;\n",
              "    }\n",
              "</style>\n",
              "<table border=\"1\" class=\"dataframe\">\n",
              "  <thead>\n",
              "    <tr style=\"text-align: right;\">\n",
              "      <th></th>\n",
              "      <th>Split</th>\n",
              "      <th>C</th>\n",
              "      <th>gamma</th>\n",
              "      <th>Sensitivity</th>\n",
              "      <th>Specificity</th>\n",
              "      <th>Accuracy</th>\n",
              "      <th>Recall</th>\n",
              "      <th>Precision</th>\n",
              "      <th>F1_score</th>\n",
              "    </tr>\n",
              "  </thead>\n",
              "  <tbody>\n",
              "    <tr>\n",
              "      <th>0</th>\n",
              "      <td>0</td>\n",
              "      <td>100</td>\n",
              "      <td>0.01</td>\n",
              "      <td>0.600394</td>\n",
              "      <td>0.776734</td>\n",
              "      <td>0.702083</td>\n",
              "      <td>0.600394</td>\n",
              "      <td>0.663765</td>\n",
              "      <td>0.630491</td>\n",
              "    </tr>\n",
              "  </tbody>\n",
              "</table>\n",
              "</div>"
            ],
            "text/plain": [
              "   Split    C  gamma  Sensitivity  ...  Accuracy    Recall  Precision  F1_score\n",
              "0      0  100   0.01     0.600394  ...  0.702083  0.600394   0.663765  0.630491\n",
              "\n",
              "[1 rows x 9 columns]"
            ]
          },
          "metadata": {},
          "execution_count": 40
        }
      ]
    },
    {
      "cell_type": "code",
      "metadata": {
        "colab": {
          "base_uri": "https://localhost:8080/",
          "height": 395
        },
        "id": "3anEoaMRok-Z",
        "outputId": "69b59e87-ccef-426b-cdc4-287104b1f85c"
      },
      "source": [
        "df_p_t= df['text_lemmatized']\n",
        "df_n_t= df['TR']\n",
        "test_t,validation_t,result_t,class_split_t,best_score_t = SVM_model(df_p_t,df_n_t)"
      ],
      "execution_count": null,
      "outputs": [
        {
          "metadata": {
            "tags": null
          },
          "name": "stdout",
          "output_type": "stream",
          "text": [
            "0\n",
            "Loading in word vectors...\n",
            "Finished loading in word vectors\n",
            "Numer of samples with no words found: 41 / 9600\n",
            "Numer of samples with no words found: 15 / 2400\n"
          ]
        },
        {
          "output_type": "display_data",
          "data": {
            "image/png": "[encoded data removed]",
            "text/plain": [
              "<Figure size 432x288 with 2 Axes>"
            ]
          },
          "metadata": {}
        }
      ]
    },
    {
      "cell_type": "code",
      "metadata": {
        "id": "LZIvD564pESa"
      },
      "source": [
        "targeted_validation=pd.DataFrame(validation_t)\n",
        "targeted_test=pd.DataFrame(test_t)\n",
        "targeted_class_split=pd.DataFrame(class_split_t)\n",
        "targeted_best_score=pd.DataFrame(best_score_t)"
      ],
      "execution_count": null,
      "outputs": []
    },
    {
      "cell_type": "code",
      "metadata": {
        "colab": {
          "base_uri": "https://localhost:8080/",
          "height": 81
        },
        "id": "3ga6s_Luphme",
        "outputId": "5f849957-fd1f-46f8-b8b1-bedaaf1bed01"
      },
      "source": [
        "targeted_validation"
      ],
      "execution_count": null,
      "outputs": [
        {
          "output_type": "execute_result",
          "data": {
            "text/html": [
              "<div>\n",
              "<style scoped>\n",
              "    .dataframe tbody tr th:only-of-type {\n",
              "        vertical-align: middle;\n",
              "    }\n",
              "\n",
              "    .dataframe tbody tr th {\n",
              "        vertical-align: top;\n",
              "    }\n",
              "\n",
              "    .dataframe thead th {\n",
              "        text-align: right;\n",
              "    }\n",
              "</style>\n",
              "<table border=\"1\" class=\"dataframe\">\n",
              "  <thead>\n",
              "    <tr style=\"text-align: right;\">\n",
              "      <th></th>\n",
              "      <th>Split</th>\n",
              "      <th>C</th>\n",
              "      <th>gamma</th>\n",
              "      <th>Sensitivity</th>\n",
              "      <th>Specificity</th>\n",
              "      <th>Accuracy</th>\n",
              "      <th>Recall</th>\n",
              "      <th>Precision</th>\n",
              "      <th>F1_score</th>\n",
              "    </tr>\n",
              "  </thead>\n",
              "  <tbody>\n",
              "    <tr>\n",
              "      <th>0</th>\n",
              "      <td>0</td>\n",
              "      <td>10</td>\n",
              "      <td>1</td>\n",
              "      <td>0.988521</td>\n",
              "      <td>0.999754</td>\n",
              "      <td>0.998021</td>\n",
              "      <td>0.988521</td>\n",
              "      <td>0.998636</td>\n",
              "      <td>0.993553</td>\n",
              "    </tr>\n",
              "  </tbody>\n",
              "</table>\n",
              "</div>"
            ],
            "text/plain": [
              "   Split   C  gamma  Sensitivity  ...  Accuracy    Recall  Precision  F1_score\n",
              "0      0  10      1     0.988521  ...  0.998021  0.988521   0.998636  0.993553\n",
              "\n",
              "[1 rows x 9 columns]"
            ]
          },
          "metadata": {},
          "execution_count": 43
        }
      ]
    },
    {
      "cell_type": "code",
      "metadata": {
        "colab": {
          "base_uri": "https://localhost:8080/",
          "height": 81
        },
        "id": "FJ-5p5-HpjFu",
        "outputId": "49af2db3-50af-4dbb-887e-893035d1a15d"
      },
      "source": [
        "targeted_test"
      ],
      "execution_count": null,
      "outputs": [
        {
          "output_type": "execute_result",
          "data": {
            "text/html": [
              "<div>\n",
              "<style scoped>\n",
              "    .dataframe tbody tr th:only-of-type {\n",
              "        vertical-align: middle;\n",
              "    }\n",
              "\n",
              "    .dataframe tbody tr th {\n",
              "        vertical-align: top;\n",
              "    }\n",
              "\n",
              "    .dataframe thead th {\n",
              "        text-align: right;\n",
              "    }\n",
              "</style>\n",
              "<table border=\"1\" class=\"dataframe\">\n",
              "  <thead>\n",
              "    <tr style=\"text-align: right;\">\n",
              "      <th></th>\n",
              "      <th>Split</th>\n",
              "      <th>C</th>\n",
              "      <th>gamma</th>\n",
              "      <th>Sensitivity</th>\n",
              "      <th>Specificity</th>\n",
              "      <th>Accuracy</th>\n",
              "      <th>Recall</th>\n",
              "      <th>Precision</th>\n",
              "      <th>F1_score</th>\n",
              "    </tr>\n",
              "  </thead>\n",
              "  <tbody>\n",
              "    <tr>\n",
              "      <th>0</th>\n",
              "      <td>0</td>\n",
              "      <td>10</td>\n",
              "      <td>1</td>\n",
              "      <td>0.251928</td>\n",
              "      <td>0.963202</td>\n",
              "      <td>0.847917</td>\n",
              "      <td>0.251928</td>\n",
              "      <td>0.569767</td>\n",
              "      <td>0.349376</td>\n",
              "    </tr>\n",
              "  </tbody>\n",
              "</table>\n",
              "</div>"
            ],
            "text/plain": [
              "   Split   C  gamma  Sensitivity  ...  Accuracy    Recall  Precision  F1_score\n",
              "0      0  10      1     0.251928  ...  0.847917  0.251928   0.569767  0.349376\n",
              "\n",
              "[1 rows x 9 columns]"
            ]
          },
          "metadata": {},
          "execution_count": 44
        }
      ]
    },
    {
      "cell_type": "code",
      "metadata": {
        "id": "Z204fhIUo9Sg",
        "colab": {
          "base_uri": "https://localhost:8080/",
          "height": 391
        },
        "outputId": "d8f6de39-71c4-44f7-affe-f1ae7bee3f67"
      },
      "source": [
        "df_p_a= df['text_lemmatized']\n",
        "df_n_a= df['AG']\n",
        "test_a,validation_a,result_a,class_split_a,best_score_a = SVM_model(df_p_a,df_n_a)"
      ],
      "execution_count": null,
      "outputs": [
        {
          "output_type": "stream",
          "name": "stdout",
          "text": [
            "0\n",
            "Loading in word vectors...\n",
            "Finished loading in word vectors\n",
            "Numer of samples with no words found: 41 / 9600\n",
            "Numer of samples with no words found: 15 / 2400\n"
          ]
        },
        {
          "output_type": "display_data",
          "data": {
            "image/png": "[encoded data removed]",
            "text/plain": [
              "<Figure size 432x288 with 2 Axes>"
            ]
          },
          "metadata": {}
        }
      ]
    },
    {
      "cell_type": "code",
      "metadata": {
        "id": "ylAXTY4rpSZK"
      },
      "source": [
        "aggressive_validation=pd.DataFrame(validation_a)\n",
        "aggressive_test=pd.DataFrame(test_a)\n",
        "aggressive_class_split=pd.DataFrame(class_split_a)\n",
        "aggressive_best_score=pd.DataFrame(best_score_a)"
      ],
      "execution_count": null,
      "outputs": []
    },
    {
      "cell_type": "code",
      "metadata": {
        "id": "4zCij9g-plAt",
        "colab": {
          "base_uri": "https://localhost:8080/",
          "height": 81
        },
        "outputId": "94c19b4c-5cdd-4e8c-c158-b343ad175271"
      },
      "source": [
        "aggressive_validation"
      ],
      "execution_count": null,
      "outputs": [
        {
          "output_type": "execute_result",
          "data": {
            "text/html": [
              "<div>\n",
              "<style scoped>\n",
              "    .dataframe tbody tr th:only-of-type {\n",
              "        vertical-align: middle;\n",
              "    }\n",
              "\n",
              "    .dataframe tbody tr th {\n",
              "        vertical-align: top;\n",
              "    }\n",
              "\n",
              "    .dataframe thead th {\n",
              "        text-align: right;\n",
              "    }\n",
              "</style>\n",
              "<table border=\"1\" class=\"dataframe\">\n",
              "  <thead>\n",
              "    <tr style=\"text-align: right;\">\n",
              "      <th></th>\n",
              "      <th>Split</th>\n",
              "      <th>C</th>\n",
              "      <th>gamma</th>\n",
              "      <th>Sensitivity</th>\n",
              "      <th>Specificity</th>\n",
              "      <th>Accuracy</th>\n",
              "      <th>Recall</th>\n",
              "      <th>Precision</th>\n",
              "      <th>F1_score</th>\n",
              "    </tr>\n",
              "  </thead>\n",
              "  <tbody>\n",
              "    <tr>\n",
              "      <th>0</th>\n",
              "      <td>0</td>\n",
              "      <td>100</td>\n",
              "      <td>0.01</td>\n",
              "      <td>0.059684</td>\n",
              "      <td>0.999366</td>\n",
              "      <td>0.832083</td>\n",
              "      <td>0.059684</td>\n",
              "      <td>0.953271</td>\n",
              "      <td>0.112335</td>\n",
              "    </tr>\n",
              "  </tbody>\n",
              "</table>\n",
              "</div>"
            ],
            "text/plain": [
              "   Split    C  gamma  Sensitivity  ...  Accuracy    Recall  Precision  F1_score\n",
              "0      0  100   0.01     0.059684  ...  0.832083  0.059684   0.953271  0.112335\n",
              "\n",
              "[1 rows x 9 columns]"
            ]
          },
          "metadata": {},
          "execution_count": 53
        }
      ]
    },
    {
      "cell_type": "code",
      "metadata": {
        "id": "nvlTll1kpmgN",
        "colab": {
          "base_uri": "https://localhost:8080/",
          "height": 81
        },
        "outputId": "50e05714-8506-474b-85de-d6a3a9cf8779"
      },
      "source": [
        "aggressive_test"
      ],
      "execution_count": null,
      "outputs": [
        {
          "output_type": "execute_result",
          "data": {
            "text/html": [
              "<div>\n",
              "<style scoped>\n",
              "    .dataframe tbody tr th:only-of-type {\n",
              "        vertical-align: middle;\n",
              "    }\n",
              "\n",
              "    .dataframe tbody tr th {\n",
              "        vertical-align: top;\n",
              "    }\n",
              "\n",
              "    .dataframe thead th {\n",
              "        text-align: right;\n",
              "    }\n",
              "</style>\n",
              "<table border=\"1\" class=\"dataframe\">\n",
              "  <thead>\n",
              "    <tr style=\"text-align: right;\">\n",
              "      <th></th>\n",
              "      <th>Split</th>\n",
              "      <th>C</th>\n",
              "      <th>gamma</th>\n",
              "      <th>Sensitivity</th>\n",
              "      <th>Specificity</th>\n",
              "      <th>Accuracy</th>\n",
              "      <th>Recall</th>\n",
              "      <th>Precision</th>\n",
              "      <th>F1_score</th>\n",
              "    </tr>\n",
              "  </thead>\n",
              "  <tbody>\n",
              "    <tr>\n",
              "      <th>0</th>\n",
              "      <td>0</td>\n",
              "      <td>100</td>\n",
              "      <td>0.01</td>\n",
              "      <td>0.024775</td>\n",
              "      <td>0.998978</td>\n",
              "      <td>0.81875</td>\n",
              "      <td>0.024775</td>\n",
              "      <td>0.846154</td>\n",
              "      <td>0.04814</td>\n",
              "    </tr>\n",
              "  </tbody>\n",
              "</table>\n",
              "</div>"
            ],
            "text/plain": [
              "   Split    C  gamma  Sensitivity  ...  Accuracy    Recall  Precision  F1_score\n",
              "0      0  100   0.01     0.024775  ...   0.81875  0.024775   0.846154   0.04814\n",
              "\n",
              "[1 rows x 9 columns]"
            ]
          },
          "metadata": {},
          "execution_count": 54
        }
      ]
    },
    {
      "cell_type": "code",
      "metadata": {
        "id": "1dUxiCofbRdY"
      },
      "source": [
        "!pip install xlsxwriter"
      ],
      "execution_count": null,
      "outputs": []
    },
    {
      "cell_type": "code",
      "metadata": {
        "id": "t8BRuFXdbUfh"
      },
      "source": [
        "# writer = pd.ExcelWriter('GloVe_NLP_SVM.xlsx', engine='xlsxwriter')\n",
        "# for i,data in enumerate(result):\n",
        "#     data.to_excel(writer, sheet_name= 'Split_{}'.format(i),index=False)\n",
        "# writer.save()"
      ],
      "execution_count": null,
      "outputs": []
    },
    {
      "cell_type": "code",
      "metadata": {
        "id": "0965srplbWeo"
      },
      "source": [
        "# valid_df.to_excel('glove_svm_validation.xlsx',index=False)\n",
        "# test_df.to_excel('glove_svm_test.xlsx',index=False)"
      ],
      "execution_count": null,
      "outputs": []
    }
  ]
}