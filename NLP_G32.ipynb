{
 "cells": [
  {
   "cell_type": "markdown",
   "metadata": {
    "colab_type": "text",
    "id": "view-in-github"
   },
   "source": [
    "<a href=\"https://colab.research.google.com/github/Sanghita-C/Hate_Comment_Classification/blob/main/NLP_G32.ipynb\" target=\"_parent\"><img src=\"https://colab.research.google.com/assets/colab-badge.svg\" alt=\"Open In Colab\"/></a>"
   ]
  },
  {
   "cell_type": "code",
   "execution_count": null,
   "metadata": {
    "colab": {
     "base_uri": "https://localhost:8080/"
    },
    "id": "YJyw9bD_TeCJ",
    "outputId": "7b3a03a6-85cf-41e0-ffb0-441c3b7f9b7b"
   },
   "outputs": [],
   "source": [
    "#from google.colab import drive\n",
    "#drive.mount('/content/drive')"
   ]
  },
  {
   "cell_type": "code",
   "execution_count": null,
   "metadata": {},
   "outputs": [],
   "source": [
    "#pip install spacy\n"
   ]
  },
  {
   "cell_type": "code",
   "execution_count": 1,
   "metadata": {
    "id": "PTihd0DceWnM"
   },
   "outputs": [],
   "source": [
    "import numpy as np\n",
    "import pandas as pd\n",
    "import re\n",
    "import nltk\n",
    "import spacy\n",
    "import string\n",
    "pd.options.mode.chained_assignment = None"
   ]
  },
  {
   "cell_type": "code",
   "execution_count": 2,
   "metadata": {
    "colab": {
     "base_uri": "https://localhost:8080/",
     "height": 203
    },
    "id": "KJAzSlShepO2",
    "outputId": "65d74df7-2e4c-4bce-ce5f-2378199bee92"
   },
   "outputs": [
    {
     "data": {
      "text/html": [
       "<div>\n",
       "<style scoped>\n",
       "    .dataframe tbody tr th:only-of-type {\n",
       "        vertical-align: middle;\n",
       "    }\n",
       "\n",
       "    .dataframe tbody tr th {\n",
       "        vertical-align: top;\n",
       "    }\n",
       "\n",
       "    .dataframe thead th {\n",
       "        text-align: right;\n",
       "    }\n",
       "</style>\n",
       "<table border=\"1\" class=\"dataframe\">\n",
       "  <thead>\n",
       "    <tr style=\"text-align: right;\">\n",
       "      <th></th>\n",
       "      <th>id</th>\n",
       "      <th>text</th>\n",
       "      <th>HS</th>\n",
       "      <th>TR</th>\n",
       "      <th>AG</th>\n",
       "    </tr>\n",
       "  </thead>\n",
       "  <tbody>\n",
       "    <tr>\n",
       "      <th>0</th>\n",
       "      <td>201</td>\n",
       "      <td>Hurray, saving us $$$ in so many ways @potus @...</td>\n",
       "      <td>1</td>\n",
       "      <td>0</td>\n",
       "      <td>0</td>\n",
       "    </tr>\n",
       "    <tr>\n",
       "      <th>1</th>\n",
       "      <td>202</td>\n",
       "      <td>Why would young fighting age men be the vast m...</td>\n",
       "      <td>1</td>\n",
       "      <td>0</td>\n",
       "      <td>0</td>\n",
       "    </tr>\n",
       "    <tr>\n",
       "      <th>2</th>\n",
       "      <td>203</td>\n",
       "      <td>@KamalaHarris Illegals Dump their Kids at the ...</td>\n",
       "      <td>1</td>\n",
       "      <td>0</td>\n",
       "      <td>0</td>\n",
       "    </tr>\n",
       "    <tr>\n",
       "      <th>3</th>\n",
       "      <td>204</td>\n",
       "      <td>NY Times: 'Nearly All White' States Pose 'an A...</td>\n",
       "      <td>0</td>\n",
       "      <td>0</td>\n",
       "      <td>0</td>\n",
       "    </tr>\n",
       "    <tr>\n",
       "      <th>4</th>\n",
       "      <td>205</td>\n",
       "      <td>Orban in Brussels: European leaders are ignori...</td>\n",
       "      <td>0</td>\n",
       "      <td>0</td>\n",
       "      <td>0</td>\n",
       "    </tr>\n",
       "  </tbody>\n",
       "</table>\n",
       "</div>"
      ],
      "text/plain": [
       "    id                                               text  HS  TR  AG\n",
       "0  201  Hurray, saving us $$$ in so many ways @potus @...   1   0   0\n",
       "1  202  Why would young fighting age men be the vast m...   1   0   0\n",
       "2  203  @KamalaHarris Illegals Dump their Kids at the ...   1   0   0\n",
       "3  204  NY Times: 'Nearly All White' States Pose 'an A...   0   0   0\n",
       "4  205  Orban in Brussels: European leaders are ignori...   0   0   0"
      ]
     },
     "execution_count": 2,
     "metadata": {},
     "output_type": "execute_result"
    }
   ],
   "source": [
    "full_df = pd.read_csv(\"hateval2019_en_train.csv\")\n",
    "df = full_df[[\"text\"]]\n",
    "df[\"text\"] = df[\"text\"].astype(str)\n",
    "full_df.head()"
   ]
  },
  {
   "cell_type": "markdown",
   "metadata": {
    "id": "1wDGw-9Qlzrb"
   },
   "source": [
    "REMOVE USERNAME"
   ]
  },
  {
   "cell_type": "code",
   "execution_count": 3,
   "metadata": {
    "colab": {
     "base_uri": "https://localhost:8080/",
     "height": 203
    },
    "id": "p4akRmCRl2DE",
    "outputId": "25b75f2d-5cdc-4e8c-bbae-dc36f627bfaa"
   },
   "outputs": [
    {
     "data": {
      "text/html": [
       "<div>\n",
       "<style scoped>\n",
       "    .dataframe tbody tr th:only-of-type {\n",
       "        vertical-align: middle;\n",
       "    }\n",
       "\n",
       "    .dataframe tbody tr th {\n",
       "        vertical-align: top;\n",
       "    }\n",
       "\n",
       "    .dataframe thead th {\n",
       "        text-align: right;\n",
       "    }\n",
       "</style>\n",
       "<table border=\"1\" class=\"dataframe\">\n",
       "  <thead>\n",
       "    <tr style=\"text-align: right;\">\n",
       "      <th></th>\n",
       "      <th>text</th>\n",
       "      <th>tweet</th>\n",
       "    </tr>\n",
       "  </thead>\n",
       "  <tbody>\n",
       "    <tr>\n",
       "      <th>0</th>\n",
       "      <td>Hurray, saving us $$$ in so many ways @potus @...</td>\n",
       "      <td>Hurray, saving us $$$ in so many ways   #LockT...</td>\n",
       "    </tr>\n",
       "    <tr>\n",
       "      <th>1</th>\n",
       "      <td>Why would young fighting age men be the vast m...</td>\n",
       "      <td>Why would young fighting age men be the vast m...</td>\n",
       "    </tr>\n",
       "    <tr>\n",
       "      <th>2</th>\n",
       "      <td>@KamalaHarris Illegals Dump their Kids at the ...</td>\n",
       "      <td>Illegals Dump their Kids at the border like R...</td>\n",
       "    </tr>\n",
       "    <tr>\n",
       "      <th>3</th>\n",
       "      <td>NY Times: 'Nearly All White' States Pose 'an A...</td>\n",
       "      <td>NY Times: 'Nearly All White' States Pose 'an A...</td>\n",
       "    </tr>\n",
       "    <tr>\n",
       "      <th>4</th>\n",
       "      <td>Orban in Brussels: European leaders are ignori...</td>\n",
       "      <td>Orban in Brussels: European leaders are ignori...</td>\n",
       "    </tr>\n",
       "  </tbody>\n",
       "</table>\n",
       "</div>"
      ],
      "text/plain": [
       "                                                text  \\\n",
       "0  Hurray, saving us $$$ in so many ways @potus @...   \n",
       "1  Why would young fighting age men be the vast m...   \n",
       "2  @KamalaHarris Illegals Dump their Kids at the ...   \n",
       "3  NY Times: 'Nearly All White' States Pose 'an A...   \n",
       "4  Orban in Brussels: European leaders are ignori...   \n",
       "\n",
       "                                               tweet  \n",
       "0  Hurray, saving us $$$ in so many ways   #LockT...  \n",
       "1  Why would young fighting age men be the vast m...  \n",
       "2   Illegals Dump their Kids at the border like R...  \n",
       "3  NY Times: 'Nearly All White' States Pose 'an A...  \n",
       "4  Orban in Brussels: European leaders are ignori...  "
      ]
     },
     "execution_count": 3,
     "metadata": {},
     "output_type": "execute_result"
    }
   ],
   "source": [
    "import re\n",
    "\n",
    "def remove_usernames_links(tweet):\n",
    "    tweet = re.sub('@[^\\s]+','',tweet)\n",
    "    tweet = re.sub('http[^\\s]+','',tweet)\n",
    "    return tweet\n",
    "\n",
    "df['tweet'] = df[\"text\"].apply(remove_usernames_links)\n",
    "df.head()"
   ]
  },
  {
   "cell_type": "markdown",
   "metadata": {
    "id": "ZWFwfhf3fEDv"
   },
   "source": [
    "LOWER CASING"
   ]
  },
  {
   "cell_type": "code",
   "execution_count": 4,
   "metadata": {
    "colab": {
     "base_uri": "https://localhost:8080/",
     "height": 203
    },
    "id": "fymHLBkje_8b",
    "outputId": "533960a9-0e68-4590-b44a-31cdfa09e5df"
   },
   "outputs": [
    {
     "data": {
      "text/html": [
       "<div>\n",
       "<style scoped>\n",
       "    .dataframe tbody tr th:only-of-type {\n",
       "        vertical-align: middle;\n",
       "    }\n",
       "\n",
       "    .dataframe tbody tr th {\n",
       "        vertical-align: top;\n",
       "    }\n",
       "\n",
       "    .dataframe thead th {\n",
       "        text-align: right;\n",
       "    }\n",
       "</style>\n",
       "<table border=\"1\" class=\"dataframe\">\n",
       "  <thead>\n",
       "    <tr style=\"text-align: right;\">\n",
       "      <th></th>\n",
       "      <th>text</th>\n",
       "      <th>tweet</th>\n",
       "      <th>text_lower</th>\n",
       "    </tr>\n",
       "  </thead>\n",
       "  <tbody>\n",
       "    <tr>\n",
       "      <th>0</th>\n",
       "      <td>Hurray, saving us $$$ in so many ways @potus @...</td>\n",
       "      <td>Hurray, saving us $$$ in so many ways   #LockT...</td>\n",
       "      <td>hurray, saving us $$$ in so many ways   #lockt...</td>\n",
       "    </tr>\n",
       "    <tr>\n",
       "      <th>1</th>\n",
       "      <td>Why would young fighting age men be the vast m...</td>\n",
       "      <td>Why would young fighting age men be the vast m...</td>\n",
       "      <td>why would young fighting age men be the vast m...</td>\n",
       "    </tr>\n",
       "    <tr>\n",
       "      <th>2</th>\n",
       "      <td>@KamalaHarris Illegals Dump their Kids at the ...</td>\n",
       "      <td>Illegals Dump their Kids at the border like R...</td>\n",
       "      <td>illegals dump their kids at the border like r...</td>\n",
       "    </tr>\n",
       "    <tr>\n",
       "      <th>3</th>\n",
       "      <td>NY Times: 'Nearly All White' States Pose 'an A...</td>\n",
       "      <td>NY Times: 'Nearly All White' States Pose 'an A...</td>\n",
       "      <td>ny times: 'nearly all white' states pose 'an a...</td>\n",
       "    </tr>\n",
       "    <tr>\n",
       "      <th>4</th>\n",
       "      <td>Orban in Brussels: European leaders are ignori...</td>\n",
       "      <td>Orban in Brussels: European leaders are ignori...</td>\n",
       "      <td>orban in brussels: european leaders are ignori...</td>\n",
       "    </tr>\n",
       "  </tbody>\n",
       "</table>\n",
       "</div>"
      ],
      "text/plain": [
       "                                                text  \\\n",
       "0  Hurray, saving us $$$ in so many ways @potus @...   \n",
       "1  Why would young fighting age men be the vast m...   \n",
       "2  @KamalaHarris Illegals Dump their Kids at the ...   \n",
       "3  NY Times: 'Nearly All White' States Pose 'an A...   \n",
       "4  Orban in Brussels: European leaders are ignori...   \n",
       "\n",
       "                                               tweet  \\\n",
       "0  Hurray, saving us $$$ in so many ways   #LockT...   \n",
       "1  Why would young fighting age men be the vast m...   \n",
       "2   Illegals Dump their Kids at the border like R...   \n",
       "3  NY Times: 'Nearly All White' States Pose 'an A...   \n",
       "4  Orban in Brussels: European leaders are ignori...   \n",
       "\n",
       "                                          text_lower  \n",
       "0  hurray, saving us $$$ in so many ways   #lockt...  \n",
       "1  why would young fighting age men be the vast m...  \n",
       "2   illegals dump their kids at the border like r...  \n",
       "3  ny times: 'nearly all white' states pose 'an a...  \n",
       "4  orban in brussels: european leaders are ignori...  "
      ]
     },
     "execution_count": 4,
     "metadata": {},
     "output_type": "execute_result"
    }
   ],
   "source": [
    "df[\"text_lower\"] = df[\"tweet\"].str.lower()\n",
    "df.head()"
   ]
  },
  {
   "cell_type": "markdown",
   "metadata": {
    "id": "agxBEhK8fJx3"
   },
   "source": [
    "REMOVE PUNCTUATIONS"
   ]
  },
  {
   "cell_type": "code",
   "execution_count": 5,
   "metadata": {
    "colab": {
     "base_uri": "https://localhost:8080/",
     "height": 203
    },
    "id": "aFdsR5lBfPaQ",
    "outputId": "0ce9b528-be36-4ed9-eddb-f5af1ab2afe5"
   },
   "outputs": [
    {
     "data": {
      "text/html": [
       "<div>\n",
       "<style scoped>\n",
       "    .dataframe tbody tr th:only-of-type {\n",
       "        vertical-align: middle;\n",
       "    }\n",
       "\n",
       "    .dataframe tbody tr th {\n",
       "        vertical-align: top;\n",
       "    }\n",
       "\n",
       "    .dataframe thead th {\n",
       "        text-align: right;\n",
       "    }\n",
       "</style>\n",
       "<table border=\"1\" class=\"dataframe\">\n",
       "  <thead>\n",
       "    <tr style=\"text-align: right;\">\n",
       "      <th></th>\n",
       "      <th>text</th>\n",
       "      <th>tweet</th>\n",
       "      <th>text_lower</th>\n",
       "      <th>text_wo_punct</th>\n",
       "    </tr>\n",
       "  </thead>\n",
       "  <tbody>\n",
       "    <tr>\n",
       "      <th>0</th>\n",
       "      <td>Hurray, saving us $$$ in so many ways @potus @...</td>\n",
       "      <td>Hurray, saving us $$$ in so many ways   #LockT...</td>\n",
       "      <td>hurray, saving us $$$ in so many ways   #lockt...</td>\n",
       "      <td>hurray saving us  in so many ways   lockthemup...</td>\n",
       "    </tr>\n",
       "    <tr>\n",
       "      <th>1</th>\n",
       "      <td>Why would young fighting age men be the vast m...</td>\n",
       "      <td>Why would young fighting age men be the vast m...</td>\n",
       "      <td>why would young fighting age men be the vast m...</td>\n",
       "      <td>why would young fighting age men be the vast m...</td>\n",
       "    </tr>\n",
       "    <tr>\n",
       "      <th>2</th>\n",
       "      <td>@KamalaHarris Illegals Dump their Kids at the ...</td>\n",
       "      <td>Illegals Dump their Kids at the border like R...</td>\n",
       "      <td>illegals dump their kids at the border like r...</td>\n",
       "      <td>illegals dump their kids at the border like r...</td>\n",
       "    </tr>\n",
       "    <tr>\n",
       "      <th>3</th>\n",
       "      <td>NY Times: 'Nearly All White' States Pose 'an A...</td>\n",
       "      <td>NY Times: 'Nearly All White' States Pose 'an A...</td>\n",
       "      <td>ny times: 'nearly all white' states pose 'an a...</td>\n",
       "      <td>ny times nearly all white states pose an array...</td>\n",
       "    </tr>\n",
       "    <tr>\n",
       "      <th>4</th>\n",
       "      <td>Orban in Brussels: European leaders are ignori...</td>\n",
       "      <td>Orban in Brussels: European leaders are ignori...</td>\n",
       "      <td>orban in brussels: european leaders are ignori...</td>\n",
       "      <td>orban in brussels european leaders are ignorin...</td>\n",
       "    </tr>\n",
       "  </tbody>\n",
       "</table>\n",
       "</div>"
      ],
      "text/plain": [
       "                                                text  \\\n",
       "0  Hurray, saving us $$$ in so many ways @potus @...   \n",
       "1  Why would young fighting age men be the vast m...   \n",
       "2  @KamalaHarris Illegals Dump their Kids at the ...   \n",
       "3  NY Times: 'Nearly All White' States Pose 'an A...   \n",
       "4  Orban in Brussels: European leaders are ignori...   \n",
       "\n",
       "                                               tweet  \\\n",
       "0  Hurray, saving us $$$ in so many ways   #LockT...   \n",
       "1  Why would young fighting age men be the vast m...   \n",
       "2   Illegals Dump their Kids at the border like R...   \n",
       "3  NY Times: 'Nearly All White' States Pose 'an A...   \n",
       "4  Orban in Brussels: European leaders are ignori...   \n",
       "\n",
       "                                          text_lower  \\\n",
       "0  hurray, saving us $$$ in so many ways   #lockt...   \n",
       "1  why would young fighting age men be the vast m...   \n",
       "2   illegals dump their kids at the border like r...   \n",
       "3  ny times: 'nearly all white' states pose 'an a...   \n",
       "4  orban in brussels: european leaders are ignori...   \n",
       "\n",
       "                                       text_wo_punct  \n",
       "0  hurray saving us  in so many ways   lockthemup...  \n",
       "1  why would young fighting age men be the vast m...  \n",
       "2   illegals dump their kids at the border like r...  \n",
       "3  ny times nearly all white states pose an array...  \n",
       "4  orban in brussels european leaders are ignorin...  "
      ]
     },
     "execution_count": 5,
     "metadata": {},
     "output_type": "execute_result"
    }
   ],
   "source": [
    "# drop the new column created in last cell\n",
    "#df.drop([\"text_lower\"], axis=1, inplace=True)\n",
    "\n",
    "PUNCT_TO_REMOVE = string.punctuation\n",
    "def remove_punctuation(text):\n",
    "    \"\"\"custom function to remove the punctuation\"\"\"\n",
    "    return text.translate(str.maketrans('', '', PUNCT_TO_REMOVE))\n",
    "\n",
    "df[\"text_wo_punct\"] = df['text_lower'].apply(lambda text: remove_punctuation(text))\n",
    "df.head()"
   ]
  },
  {
   "cell_type": "markdown",
   "metadata": {
    "id": "ayIvuxFTfW3t"
   },
   "source": [
    "STOPWORDS"
   ]
  },
  {
   "cell_type": "code",
   "execution_count": null,
   "metadata": {
    "colab": {
     "base_uri": "https://localhost:8080/"
    },
    "id": "GoW-3JpOg3lZ",
    "outputId": "1941c0e4-6ec1-453c-f142-a4188014760a"
   },
   "outputs": [],
   "source": [
    "#!pip install nltk"
   ]
  },
  {
   "cell_type": "code",
   "execution_count": 6,
   "metadata": {
    "colab": {
     "base_uri": "https://localhost:8080/"
    },
    "id": "Qzi6C5ung_yU",
    "outputId": "d3f508f6-279d-4580-ca17-3beb3e5c73ae"
   },
   "outputs": [
    {
     "name": "stderr",
     "output_type": "stream",
     "text": [
      "[nltk_data] Downloading package stopwords to C:\\Users\\Sanghita\n",
      "[nltk_data]     Chakraborty\\AppData\\Roaming\\nltk_data...\n",
      "[nltk_data]   Package stopwords is already up-to-date!\n"
     ]
    },
    {
     "data": {
      "text/plain": [
       "True"
      ]
     },
     "execution_count": 6,
     "metadata": {},
     "output_type": "execute_result"
    }
   ],
   "source": [
    "import nltk\n",
    "nltk.download('stopwords')"
   ]
  },
  {
   "cell_type": "code",
   "execution_count": 7,
   "metadata": {
    "colab": {
     "base_uri": "https://localhost:8080/",
     "height": 120
    },
    "id": "aHW6r6LMfPfx",
    "outputId": "38176b72-bc75-4232-d6fa-501bcd35e1f4"
   },
   "outputs": [
    {
     "data": {
      "text/plain": [
       "\"i, me, my, myself, we, our, ours, ourselves, you, you're, you've, you'll, you'd, your, yours, yourself, yourselves, he, him, his, himself, she, she's, her, hers, herself, it, it's, its, itself, they, them, their, theirs, themselves, what, which, who, whom, this, that, that'll, these, those, am, is, are, was, were, be, been, being, have, has, had, having, do, does, did, doing, a, an, the, and, but, if, or, because, as, until, while, of, at, by, for, with, about, against, between, into, through, during, before, after, above, below, to, from, up, down, in, out, on, off, over, under, again, further, then, once, here, there, when, where, why, how, all, any, both, each, few, more, most, other, some, such, no, nor, not, only, own, same, so, than, too, very, s, t, can, will, just, don, don't, should, should've, now, d, ll, m, o, re, ve, y, ain, aren, aren't, couldn, couldn't, didn, didn't, doesn, doesn't, hadn, hadn't, hasn, hasn't, haven, haven't, isn, isn't, ma, mightn, mightn't, mustn, mustn't, needn, needn't, shan, shan't, shouldn, shouldn't, wasn, wasn't, weren, weren't, won, won't, wouldn, wouldn't\""
      ]
     },
     "execution_count": 7,
     "metadata": {},
     "output_type": "execute_result"
    }
   ],
   "source": [
    "from nltk.corpus import stopwords\n",
    "\", \".join(stopwords.words('english'))\n"
   ]
  },
  {
   "cell_type": "code",
   "execution_count": 8,
   "metadata": {
    "colab": {
     "base_uri": "https://localhost:8080/",
     "height": 287
    },
    "id": "aLR1Tqn_g3tw",
    "outputId": "35a37cfc-0d92-4594-bbf5-5d865372775b"
   },
   "outputs": [
    {
     "data": {
      "text/html": [
       "<div>\n",
       "<style scoped>\n",
       "    .dataframe tbody tr th:only-of-type {\n",
       "        vertical-align: middle;\n",
       "    }\n",
       "\n",
       "    .dataframe tbody tr th {\n",
       "        vertical-align: top;\n",
       "    }\n",
       "\n",
       "    .dataframe thead th {\n",
       "        text-align: right;\n",
       "    }\n",
       "</style>\n",
       "<table border=\"1\" class=\"dataframe\">\n",
       "  <thead>\n",
       "    <tr style=\"text-align: right;\">\n",
       "      <th></th>\n",
       "      <th>text</th>\n",
       "      <th>tweet</th>\n",
       "      <th>text_lower</th>\n",
       "      <th>text_wo_punct</th>\n",
       "      <th>text_wo_stop</th>\n",
       "    </tr>\n",
       "  </thead>\n",
       "  <tbody>\n",
       "    <tr>\n",
       "      <th>0</th>\n",
       "      <td>Hurray, saving us $$$ in so many ways @potus @...</td>\n",
       "      <td>Hurray, saving us $$$ in so many ways   #LockT...</td>\n",
       "      <td>hurray, saving us $$$ in so many ways   #lockt...</td>\n",
       "      <td>hurray saving us  in so many ways   lockthemup...</td>\n",
       "      <td>hurray saving us many ways lockthemup buildthe...</td>\n",
       "    </tr>\n",
       "    <tr>\n",
       "      <th>1</th>\n",
       "      <td>Why would young fighting age men be the vast m...</td>\n",
       "      <td>Why would young fighting age men be the vast m...</td>\n",
       "      <td>why would young fighting age men be the vast m...</td>\n",
       "      <td>why would young fighting age men be the vast m...</td>\n",
       "      <td>would young fighting age men vast majority one...</td>\n",
       "    </tr>\n",
       "    <tr>\n",
       "      <th>2</th>\n",
       "      <td>@KamalaHarris Illegals Dump their Kids at the ...</td>\n",
       "      <td>Illegals Dump their Kids at the border like R...</td>\n",
       "      <td>illegals dump their kids at the border like r...</td>\n",
       "      <td>illegals dump their kids at the border like r...</td>\n",
       "      <td>illegals dump kids border like road kill refus...</td>\n",
       "    </tr>\n",
       "    <tr>\n",
       "      <th>3</th>\n",
       "      <td>NY Times: 'Nearly All White' States Pose 'an A...</td>\n",
       "      <td>NY Times: 'Nearly All White' States Pose 'an A...</td>\n",
       "      <td>ny times: 'nearly all white' states pose 'an a...</td>\n",
       "      <td>ny times nearly all white states pose an array...</td>\n",
       "      <td>ny times nearly white states pose array proble...</td>\n",
       "    </tr>\n",
       "    <tr>\n",
       "      <th>4</th>\n",
       "      <td>Orban in Brussels: European leaders are ignori...</td>\n",
       "      <td>Orban in Brussels: European leaders are ignori...</td>\n",
       "      <td>orban in brussels: european leaders are ignori...</td>\n",
       "      <td>orban in brussels european leaders are ignorin...</td>\n",
       "      <td>orban brussels european leaders ignoring peopl...</td>\n",
       "    </tr>\n",
       "  </tbody>\n",
       "</table>\n",
       "</div>"
      ],
      "text/plain": [
       "                                                text  \\\n",
       "0  Hurray, saving us $$$ in so many ways @potus @...   \n",
       "1  Why would young fighting age men be the vast m...   \n",
       "2  @KamalaHarris Illegals Dump their Kids at the ...   \n",
       "3  NY Times: 'Nearly All White' States Pose 'an A...   \n",
       "4  Orban in Brussels: European leaders are ignori...   \n",
       "\n",
       "                                               tweet  \\\n",
       "0  Hurray, saving us $$$ in so many ways   #LockT...   \n",
       "1  Why would young fighting age men be the vast m...   \n",
       "2   Illegals Dump their Kids at the border like R...   \n",
       "3  NY Times: 'Nearly All White' States Pose 'an A...   \n",
       "4  Orban in Brussels: European leaders are ignori...   \n",
       "\n",
       "                                          text_lower  \\\n",
       "0  hurray, saving us $$$ in so many ways   #lockt...   \n",
       "1  why would young fighting age men be the vast m...   \n",
       "2   illegals dump their kids at the border like r...   \n",
       "3  ny times: 'nearly all white' states pose 'an a...   \n",
       "4  orban in brussels: european leaders are ignori...   \n",
       "\n",
       "                                       text_wo_punct  \\\n",
       "0  hurray saving us  in so many ways   lockthemup...   \n",
       "1  why would young fighting age men be the vast m...   \n",
       "2   illegals dump their kids at the border like r...   \n",
       "3  ny times nearly all white states pose an array...   \n",
       "4  orban in brussels european leaders are ignorin...   \n",
       "\n",
       "                                        text_wo_stop  \n",
       "0  hurray saving us many ways lockthemup buildthe...  \n",
       "1  would young fighting age men vast majority one...  \n",
       "2  illegals dump kids border like road kill refus...  \n",
       "3  ny times nearly white states pose array proble...  \n",
       "4  orban brussels european leaders ignoring peopl...  "
      ]
     },
     "execution_count": 8,
     "metadata": {},
     "output_type": "execute_result"
    }
   ],
   "source": [
    "STOPWORDS = set(stopwords.words('english'))\n",
    "def remove_stopwords(text):\n",
    "    \"\"\"custom function to remove the stopwords\"\"\"\n",
    "    return \" \".join([word for word in str(text).split() if word not in STOPWORDS])\n",
    "\n",
    "df[\"text_wo_stop\"] = df[\"text_wo_punct\"].apply(lambda text: remove_stopwords(text))\n",
    "df.head()"
   ]
  },
  {
   "cell_type": "markdown",
   "metadata": {
    "id": "twXfM95sjHmE"
   },
   "source": [
    "REMOVE URLS"
   ]
  },
  {
   "cell_type": "code",
   "execution_count": 11,
   "metadata": {
    "id": "t5_rQS0bh8LP"
   },
   "outputs": [],
   "source": [
    "def remove_urls(text):\n",
    "    url_pattern = re.compile(r'https?://\\S+|www\\.\\S+')\n",
    "    return url_pattern.sub(r'', text)"
   ]
  },
  {
   "cell_type": "code",
   "execution_count": 12,
   "metadata": {
    "colab": {
     "base_uri": "https://localhost:8080/",
     "height": 287
    },
    "id": "NvAsPVBmieSo",
    "outputId": "14455462-6e4a-41c0-9e2c-8118e259403c"
   },
   "outputs": [
    {
     "data": {
      "text/html": [
       "<div>\n",
       "<style scoped>\n",
       "    .dataframe tbody tr th:only-of-type {\n",
       "        vertical-align: middle;\n",
       "    }\n",
       "\n",
       "    .dataframe tbody tr th {\n",
       "        vertical-align: top;\n",
       "    }\n",
       "\n",
       "    .dataframe thead th {\n",
       "        text-align: right;\n",
       "    }\n",
       "</style>\n",
       "<table border=\"1\" class=\"dataframe\">\n",
       "  <thead>\n",
       "    <tr style=\"text-align: right;\">\n",
       "      <th></th>\n",
       "      <th>text</th>\n",
       "      <th>tweet</th>\n",
       "      <th>text_lower</th>\n",
       "      <th>text_wo_punct</th>\n",
       "      <th>text_wo_stop</th>\n",
       "      <th>text_wo_urlno</th>\n",
       "    </tr>\n",
       "  </thead>\n",
       "  <tbody>\n",
       "    <tr>\n",
       "      <th>0</th>\n",
       "      <td>Hurray, saving us $$$ in so many ways @potus @...</td>\n",
       "      <td>Hurray, saving us $$$ in so many ways   #LockT...</td>\n",
       "      <td>hurray, saving us $$$ in so many ways   #lockt...</td>\n",
       "      <td>hurray saving us  in so many ways   lockthemup...</td>\n",
       "      <td>hurray saving us many ways lockthemup buildthe...</td>\n",
       "      <td>hurray saving us many ways lockthemup buildthe...</td>\n",
       "    </tr>\n",
       "    <tr>\n",
       "      <th>1</th>\n",
       "      <td>Why would young fighting age men be the vast m...</td>\n",
       "      <td>Why would young fighting age men be the vast m...</td>\n",
       "      <td>why would young fighting age men be the vast m...</td>\n",
       "      <td>why would young fighting age men be the vast m...</td>\n",
       "      <td>would young fighting age men vast majority one...</td>\n",
       "      <td>would young fighting age men vast majority one...</td>\n",
       "    </tr>\n",
       "    <tr>\n",
       "      <th>2</th>\n",
       "      <td>@KamalaHarris Illegals Dump their Kids at the ...</td>\n",
       "      <td>Illegals Dump their Kids at the border like R...</td>\n",
       "      <td>illegals dump their kids at the border like r...</td>\n",
       "      <td>illegals dump their kids at the border like r...</td>\n",
       "      <td>illegals dump kids border like road kill refus...</td>\n",
       "      <td>illegals dump kids border like road kill refus...</td>\n",
       "    </tr>\n",
       "    <tr>\n",
       "      <th>3</th>\n",
       "      <td>NY Times: 'Nearly All White' States Pose 'an A...</td>\n",
       "      <td>NY Times: 'Nearly All White' States Pose 'an A...</td>\n",
       "      <td>ny times: 'nearly all white' states pose 'an a...</td>\n",
       "      <td>ny times nearly all white states pose an array...</td>\n",
       "      <td>ny times nearly white states pose array proble...</td>\n",
       "      <td>ny times nearly white states pose array proble...</td>\n",
       "    </tr>\n",
       "    <tr>\n",
       "      <th>4</th>\n",
       "      <td>Orban in Brussels: European leaders are ignori...</td>\n",
       "      <td>Orban in Brussels: European leaders are ignori...</td>\n",
       "      <td>orban in brussels: european leaders are ignori...</td>\n",
       "      <td>orban in brussels european leaders are ignorin...</td>\n",
       "      <td>orban brussels european leaders ignoring peopl...</td>\n",
       "      <td>orban brussels european leaders ignoring peopl...</td>\n",
       "    </tr>\n",
       "  </tbody>\n",
       "</table>\n",
       "</div>"
      ],
      "text/plain": [
       "                                                text  \\\n",
       "0  Hurray, saving us $$$ in so many ways @potus @...   \n",
       "1  Why would young fighting age men be the vast m...   \n",
       "2  @KamalaHarris Illegals Dump their Kids at the ...   \n",
       "3  NY Times: 'Nearly All White' States Pose 'an A...   \n",
       "4  Orban in Brussels: European leaders are ignori...   \n",
       "\n",
       "                                               tweet  \\\n",
       "0  Hurray, saving us $$$ in so many ways   #LockT...   \n",
       "1  Why would young fighting age men be the vast m...   \n",
       "2   Illegals Dump their Kids at the border like R...   \n",
       "3  NY Times: 'Nearly All White' States Pose 'an A...   \n",
       "4  Orban in Brussels: European leaders are ignori...   \n",
       "\n",
       "                                          text_lower  \\\n",
       "0  hurray, saving us $$$ in so many ways   #lockt...   \n",
       "1  why would young fighting age men be the vast m...   \n",
       "2   illegals dump their kids at the border like r...   \n",
       "3  ny times: 'nearly all white' states pose 'an a...   \n",
       "4  orban in brussels: european leaders are ignori...   \n",
       "\n",
       "                                       text_wo_punct  \\\n",
       "0  hurray saving us  in so many ways   lockthemup...   \n",
       "1  why would young fighting age men be the vast m...   \n",
       "2   illegals dump their kids at the border like r...   \n",
       "3  ny times nearly all white states pose an array...   \n",
       "4  orban in brussels european leaders are ignorin...   \n",
       "\n",
       "                                        text_wo_stop  \\\n",
       "0  hurray saving us many ways lockthemup buildthe...   \n",
       "1  would young fighting age men vast majority one...   \n",
       "2  illegals dump kids border like road kill refus...   \n",
       "3  ny times nearly white states pose array proble...   \n",
       "4  orban brussels european leaders ignoring peopl...   \n",
       "\n",
       "                                       text_wo_urlno  \n",
       "0  hurray saving us many ways lockthemup buildthe...  \n",
       "1  would young fighting age men vast majority one...  \n",
       "2  illegals dump kids border like road kill refus...  \n",
       "3  ny times nearly white states pose array proble...  \n",
       "4  orban brussels european leaders ignoring peopl...  "
      ]
     },
     "execution_count": 12,
     "metadata": {},
     "output_type": "execute_result"
    }
   ],
   "source": [
    "df[\"text_wo_urlno\"] = df[\"text_wo_stop\"].apply(lambda text: remove_urls(text))\n",
    "df.head()"
   ]
  },
  {
   "cell_type": "markdown",
   "metadata": {
    "id": "8JvAS01ejLiC"
   },
   "source": [
    "REMOVE HTML TAGS"
   ]
  },
  {
   "cell_type": "code",
   "execution_count": 13,
   "metadata": {
    "colab": {
     "base_uri": "https://localhost:8080/",
     "height": 304
    },
    "id": "Jydj5i7KjNfP",
    "outputId": "d6c318c0-430b-4aa6-9db3-ea3d7ed34c48"
   },
   "outputs": [
    {
     "data": {
      "text/html": [
       "<div>\n",
       "<style scoped>\n",
       "    .dataframe tbody tr th:only-of-type {\n",
       "        vertical-align: middle;\n",
       "    }\n",
       "\n",
       "    .dataframe tbody tr th {\n",
       "        vertical-align: top;\n",
       "    }\n",
       "\n",
       "    .dataframe thead th {\n",
       "        text-align: right;\n",
       "    }\n",
       "</style>\n",
       "<table border=\"1\" class=\"dataframe\">\n",
       "  <thead>\n",
       "    <tr style=\"text-align: right;\">\n",
       "      <th></th>\n",
       "      <th>text</th>\n",
       "      <th>tweet</th>\n",
       "      <th>text_lower</th>\n",
       "      <th>text_wo_punct</th>\n",
       "      <th>text_wo_stop</th>\n",
       "      <th>text_wo_urlno</th>\n",
       "      <th>text_wo_htmlno</th>\n",
       "    </tr>\n",
       "  </thead>\n",
       "  <tbody>\n",
       "    <tr>\n",
       "      <th>0</th>\n",
       "      <td>Hurray, saving us $$$ in so many ways @potus @...</td>\n",
       "      <td>Hurray, saving us $$$ in so many ways   #LockT...</td>\n",
       "      <td>hurray, saving us $$$ in so many ways   #lockt...</td>\n",
       "      <td>hurray saving us  in so many ways   lockthemup...</td>\n",
       "      <td>hurray saving us many ways lockthemup buildthe...</td>\n",
       "      <td>hurray saving us many ways lockthemup buildthe...</td>\n",
       "      <td>hurray saving us many ways lockthemup buildthe...</td>\n",
       "    </tr>\n",
       "    <tr>\n",
       "      <th>1</th>\n",
       "      <td>Why would young fighting age men be the vast m...</td>\n",
       "      <td>Why would young fighting age men be the vast m...</td>\n",
       "      <td>why would young fighting age men be the vast m...</td>\n",
       "      <td>why would young fighting age men be the vast m...</td>\n",
       "      <td>would young fighting age men vast majority one...</td>\n",
       "      <td>would young fighting age men vast majority one...</td>\n",
       "      <td>would young fighting age men vast majority one...</td>\n",
       "    </tr>\n",
       "    <tr>\n",
       "      <th>2</th>\n",
       "      <td>@KamalaHarris Illegals Dump their Kids at the ...</td>\n",
       "      <td>Illegals Dump their Kids at the border like R...</td>\n",
       "      <td>illegals dump their kids at the border like r...</td>\n",
       "      <td>illegals dump their kids at the border like r...</td>\n",
       "      <td>illegals dump kids border like road kill refus...</td>\n",
       "      <td>illegals dump kids border like road kill refus...</td>\n",
       "      <td>illegals dump kids border like road kill refus...</td>\n",
       "    </tr>\n",
       "    <tr>\n",
       "      <th>3</th>\n",
       "      <td>NY Times: 'Nearly All White' States Pose 'an A...</td>\n",
       "      <td>NY Times: 'Nearly All White' States Pose 'an A...</td>\n",
       "      <td>ny times: 'nearly all white' states pose 'an a...</td>\n",
       "      <td>ny times nearly all white states pose an array...</td>\n",
       "      <td>ny times nearly white states pose array proble...</td>\n",
       "      <td>ny times nearly white states pose array proble...</td>\n",
       "      <td>ny times nearly white states pose array proble...</td>\n",
       "    </tr>\n",
       "    <tr>\n",
       "      <th>4</th>\n",
       "      <td>Orban in Brussels: European leaders are ignori...</td>\n",
       "      <td>Orban in Brussels: European leaders are ignori...</td>\n",
       "      <td>orban in brussels: european leaders are ignori...</td>\n",
       "      <td>orban in brussels european leaders are ignorin...</td>\n",
       "      <td>orban brussels european leaders ignoring peopl...</td>\n",
       "      <td>orban brussels european leaders ignoring peopl...</td>\n",
       "      <td>orban brussels european leaders ignoring peopl...</td>\n",
       "    </tr>\n",
       "  </tbody>\n",
       "</table>\n",
       "</div>"
      ],
      "text/plain": [
       "                                                text  \\\n",
       "0  Hurray, saving us $$$ in so many ways @potus @...   \n",
       "1  Why would young fighting age men be the vast m...   \n",
       "2  @KamalaHarris Illegals Dump their Kids at the ...   \n",
       "3  NY Times: 'Nearly All White' States Pose 'an A...   \n",
       "4  Orban in Brussels: European leaders are ignori...   \n",
       "\n",
       "                                               tweet  \\\n",
       "0  Hurray, saving us $$$ in so many ways   #LockT...   \n",
       "1  Why would young fighting age men be the vast m...   \n",
       "2   Illegals Dump their Kids at the border like R...   \n",
       "3  NY Times: 'Nearly All White' States Pose 'an A...   \n",
       "4  Orban in Brussels: European leaders are ignori...   \n",
       "\n",
       "                                          text_lower  \\\n",
       "0  hurray, saving us $$$ in so many ways   #lockt...   \n",
       "1  why would young fighting age men be the vast m...   \n",
       "2   illegals dump their kids at the border like r...   \n",
       "3  ny times: 'nearly all white' states pose 'an a...   \n",
       "4  orban in brussels: european leaders are ignori...   \n",
       "\n",
       "                                       text_wo_punct  \\\n",
       "0  hurray saving us  in so many ways   lockthemup...   \n",
       "1  why would young fighting age men be the vast m...   \n",
       "2   illegals dump their kids at the border like r...   \n",
       "3  ny times nearly all white states pose an array...   \n",
       "4  orban in brussels european leaders are ignorin...   \n",
       "\n",
       "                                        text_wo_stop  \\\n",
       "0  hurray saving us many ways lockthemup buildthe...   \n",
       "1  would young fighting age men vast majority one...   \n",
       "2  illegals dump kids border like road kill refus...   \n",
       "3  ny times nearly white states pose array proble...   \n",
       "4  orban brussels european leaders ignoring peopl...   \n",
       "\n",
       "                                       text_wo_urlno  \\\n",
       "0  hurray saving us many ways lockthemup buildthe...   \n",
       "1  would young fighting age men vast majority one...   \n",
       "2  illegals dump kids border like road kill refus...   \n",
       "3  ny times nearly white states pose array proble...   \n",
       "4  orban brussels european leaders ignoring peopl...   \n",
       "\n",
       "                                      text_wo_htmlno  \n",
       "0  hurray saving us many ways lockthemup buildthe...  \n",
       "1  would young fighting age men vast majority one...  \n",
       "2  illegals dump kids border like road kill refus...  \n",
       "3  ny times nearly white states pose array proble...  \n",
       "4  orban brussels european leaders ignoring peopl...  "
      ]
     },
     "execution_count": 13,
     "metadata": {},
     "output_type": "execute_result"
    }
   ],
   "source": [
    "def remove_html(text):\n",
    "    html_pattern = re.compile('<.*?>')\n",
    "    return html_pattern.sub(r'', text)\n",
    "\n",
    "df[\"text_wo_htmlno\"] = df[\"text_wo_urlno\"].apply(lambda text: remove_html(text))\n",
    "df.head()\n"
   ]
  },
  {
   "cell_type": "markdown",
   "metadata": {
    "id": "ZJR_fP8Pjuca"
   },
   "source": [
    "REMOVE DIGITS"
   ]
  },
  {
   "cell_type": "code",
   "execution_count": null,
   "metadata": {
    "id": "lOoVNHv2jt76"
   },
   "outputs": [],
   "source": [
    "#df['text_wo_digitno'] = df['text_wo_urlno'].apply(lambda x: re.sub('W*dw*','',x))\n",
    "#df.head()"
   ]
  },
  {
   "cell_type": "markdown",
   "metadata": {
    "id": "gPukdQXDkMZt"
   },
   "source": [
    "LEMMATIZATION"
   ]
  },
  {
   "cell_type": "code",
   "execution_count": 14,
   "metadata": {
    "colab": {
     "base_uri": "https://localhost:8080/",
     "height": 438
    },
    "id": "-Sv4nhZmkL0p",
    "outputId": "0332b0c7-3e1e-44c2-dce3-7caefc407e02"
   },
   "outputs": [
    {
     "name": "stderr",
     "output_type": "stream",
     "text": [
      "[nltk_data] Downloading package averaged_perceptron_tagger to\n",
      "[nltk_data]     C:\\Users\\Sanghita\n",
      "[nltk_data]     Chakraborty\\AppData\\Roaming\\nltk_data...\n",
      "[nltk_data]   Package averaged_perceptron_tagger is already up-to-\n",
      "[nltk_data]       date!\n",
      "[nltk_data] Downloading package wordnet to C:\\Users\\Sanghita\n",
      "[nltk_data]     Chakraborty\\AppData\\Roaming\\nltk_data...\n",
      "[nltk_data]   Package wordnet is already up-to-date!\n"
     ]
    },
    {
     "data": {
      "text/html": [
       "<div>\n",
       "<style scoped>\n",
       "    .dataframe tbody tr th:only-of-type {\n",
       "        vertical-align: middle;\n",
       "    }\n",
       "\n",
       "    .dataframe tbody tr th {\n",
       "        vertical-align: top;\n",
       "    }\n",
       "\n",
       "    .dataframe thead th {\n",
       "        text-align: right;\n",
       "    }\n",
       "</style>\n",
       "<table border=\"1\" class=\"dataframe\">\n",
       "  <thead>\n",
       "    <tr style=\"text-align: right;\">\n",
       "      <th></th>\n",
       "      <th>text</th>\n",
       "      <th>tweet</th>\n",
       "      <th>text_lower</th>\n",
       "      <th>text_wo_punct</th>\n",
       "      <th>text_wo_stop</th>\n",
       "      <th>text_wo_urlno</th>\n",
       "      <th>text_wo_htmlno</th>\n",
       "      <th>text_lemmatized</th>\n",
       "    </tr>\n",
       "  </thead>\n",
       "  <tbody>\n",
       "    <tr>\n",
       "      <th>0</th>\n",
       "      <td>Hurray, saving us $$$ in so many ways @potus @...</td>\n",
       "      <td>Hurray, saving us $$$ in so many ways   #LockT...</td>\n",
       "      <td>hurray, saving us $$$ in so many ways   #lockt...</td>\n",
       "      <td>hurray saving us  in so many ways   lockthemup...</td>\n",
       "      <td>hurray saving us many ways lockthemup buildthe...</td>\n",
       "      <td>hurray saving us many ways lockthemup buildthe...</td>\n",
       "      <td>hurray saving us many ways lockthemup buildthe...</td>\n",
       "      <td>hurray save u many way lockthemup buildthewall...</td>\n",
       "    </tr>\n",
       "    <tr>\n",
       "      <th>1</th>\n",
       "      <td>Why would young fighting age men be the vast m...</td>\n",
       "      <td>Why would young fighting age men be the vast m...</td>\n",
       "      <td>why would young fighting age men be the vast m...</td>\n",
       "      <td>why would young fighting age men be the vast m...</td>\n",
       "      <td>would young fighting age men vast majority one...</td>\n",
       "      <td>would young fighting age men vast majority one...</td>\n",
       "      <td>would young fighting age men vast majority one...</td>\n",
       "      <td>would young fight age men vast majority one es...</td>\n",
       "    </tr>\n",
       "    <tr>\n",
       "      <th>2</th>\n",
       "      <td>@KamalaHarris Illegals Dump their Kids at the ...</td>\n",
       "      <td>Illegals Dump their Kids at the border like R...</td>\n",
       "      <td>illegals dump their kids at the border like r...</td>\n",
       "      <td>illegals dump their kids at the border like r...</td>\n",
       "      <td>illegals dump kids border like road kill refus...</td>\n",
       "      <td>illegals dump kids border like road kill refus...</td>\n",
       "      <td>illegals dump kids border like road kill refus...</td>\n",
       "      <td>illegals dump kid border like road kill refuse...</td>\n",
       "    </tr>\n",
       "    <tr>\n",
       "      <th>3</th>\n",
       "      <td>NY Times: 'Nearly All White' States Pose 'an A...</td>\n",
       "      <td>NY Times: 'Nearly All White' States Pose 'an A...</td>\n",
       "      <td>ny times: 'nearly all white' states pose 'an a...</td>\n",
       "      <td>ny times nearly all white states pose an array...</td>\n",
       "      <td>ny times nearly white states pose array proble...</td>\n",
       "      <td>ny times nearly white states pose array proble...</td>\n",
       "      <td>ny times nearly white states pose array proble...</td>\n",
       "      <td>ny time nearly white state pose array problem ...</td>\n",
       "    </tr>\n",
       "    <tr>\n",
       "      <th>4</th>\n",
       "      <td>Orban in Brussels: European leaders are ignori...</td>\n",
       "      <td>Orban in Brussels: European leaders are ignori...</td>\n",
       "      <td>orban in brussels: european leaders are ignori...</td>\n",
       "      <td>orban in brussels european leaders are ignorin...</td>\n",
       "      <td>orban brussels european leaders ignoring peopl...</td>\n",
       "      <td>orban brussels european leaders ignoring peopl...</td>\n",
       "      <td>orban brussels european leaders ignoring peopl...</td>\n",
       "      <td>orban brussels european leader ignore people w...</td>\n",
       "    </tr>\n",
       "  </tbody>\n",
       "</table>\n",
       "</div>"
      ],
      "text/plain": [
       "                                                text  \\\n",
       "0  Hurray, saving us $$$ in so many ways @potus @...   \n",
       "1  Why would young fighting age men be the vast m...   \n",
       "2  @KamalaHarris Illegals Dump their Kids at the ...   \n",
       "3  NY Times: 'Nearly All White' States Pose 'an A...   \n",
       "4  Orban in Brussels: European leaders are ignori...   \n",
       "\n",
       "                                               tweet  \\\n",
       "0  Hurray, saving us $$$ in so many ways   #LockT...   \n",
       "1  Why would young fighting age men be the vast m...   \n",
       "2   Illegals Dump their Kids at the border like R...   \n",
       "3  NY Times: 'Nearly All White' States Pose 'an A...   \n",
       "4  Orban in Brussels: European leaders are ignori...   \n",
       "\n",
       "                                          text_lower  \\\n",
       "0  hurray, saving us $$$ in so many ways   #lockt...   \n",
       "1  why would young fighting age men be the vast m...   \n",
       "2   illegals dump their kids at the border like r...   \n",
       "3  ny times: 'nearly all white' states pose 'an a...   \n",
       "4  orban in brussels: european leaders are ignori...   \n",
       "\n",
       "                                       text_wo_punct  \\\n",
       "0  hurray saving us  in so many ways   lockthemup...   \n",
       "1  why would young fighting age men be the vast m...   \n",
       "2   illegals dump their kids at the border like r...   \n",
       "3  ny times nearly all white states pose an array...   \n",
       "4  orban in brussels european leaders are ignorin...   \n",
       "\n",
       "                                        text_wo_stop  \\\n",
       "0  hurray saving us many ways lockthemup buildthe...   \n",
       "1  would young fighting age men vast majority one...   \n",
       "2  illegals dump kids border like road kill refus...   \n",
       "3  ny times nearly white states pose array proble...   \n",
       "4  orban brussels european leaders ignoring peopl...   \n",
       "\n",
       "                                       text_wo_urlno  \\\n",
       "0  hurray saving us many ways lockthemup buildthe...   \n",
       "1  would young fighting age men vast majority one...   \n",
       "2  illegals dump kids border like road kill refus...   \n",
       "3  ny times nearly white states pose array proble...   \n",
       "4  orban brussels european leaders ignoring peopl...   \n",
       "\n",
       "                                      text_wo_htmlno  \\\n",
       "0  hurray saving us many ways lockthemup buildthe...   \n",
       "1  would young fighting age men vast majority one...   \n",
       "2  illegals dump kids border like road kill refus...   \n",
       "3  ny times nearly white states pose array proble...   \n",
       "4  orban brussels european leaders ignoring peopl...   \n",
       "\n",
       "                                     text_lemmatized  \n",
       "0  hurray save u many way lockthemup buildthewall...  \n",
       "1  would young fight age men vast majority one es...  \n",
       "2  illegals dump kid border like road kill refuse...  \n",
       "3  ny time nearly white state pose array problem ...  \n",
       "4  orban brussels european leader ignore people w...  "
      ]
     },
     "execution_count": 14,
     "metadata": {},
     "output_type": "execute_result"
    }
   ],
   "source": [
    "\n",
    "nltk.download('averaged_perceptron_tagger')\n",
    "nltk.download('wordnet')\n",
    "from nltk.corpus import wordnet\n",
    "from nltk.stem import WordNetLemmatizer\n",
    "\n",
    "lemmatizer = WordNetLemmatizer()\n",
    "wordnet_map = {\"N\":wordnet.NOUN, \"V\":wordnet.VERB, \"J\":wordnet.ADJ, \"R\":wordnet.ADV}\n",
    "def lemmatize_words(text):\n",
    "    pos_tagged_text = nltk.pos_tag(text.split())\n",
    "    return \" \".join([lemmatizer.lemmatize(word, wordnet_map.get(pos[0], wordnet.NOUN)) for word, pos in pos_tagged_text])\n",
    "\n",
    "df[\"text_lemmatized\"] = df[\"text_wo_htmlno\"].apply(lambda text: lemmatize_words(text))\n",
    "df.head()\n"
   ]
  },
  {
   "cell_type": "code",
   "execution_count": 15,
   "metadata": {
    "colab": {
     "base_uri": "https://localhost:8080/",
     "height": 35
    },
    "id": "kKe6YsjQkqMB",
    "outputId": "fd8ae230-98db-4127-8cb1-535b7dcb5342"
   },
   "outputs": [
    {
     "data": {
      "text/plain": [
       "'running'"
      ]
     },
     "execution_count": 15,
     "metadata": {},
     "output_type": "execute_result"
    }
   ],
   "source": [
    "lemmatizer.lemmatize(\"running\")\n"
   ]
  },
  {
   "cell_type": "code",
   "execution_count": 16,
   "metadata": {
    "colab": {
     "base_uri": "https://localhost:8080/"
    },
    "id": "pMQKNX0wkt3p",
    "outputId": "420473a4-3d50-4347-a5b8-669bbdf57869"
   },
   "outputs": [
    {
     "data": {
      "text/plain": [
       "<bound method IndexOpsMixin.tolist of 0       hurray save u many way lockthemup buildthewall...\n",
       "1       would young fight age men vast majority one es...\n",
       "2       illegals dump kid border like road kill refuse...\n",
       "3       ny time nearly white state pose array problem ...\n",
       "4       orban brussels european leader ignore people w...\n",
       "                              ...                        \n",
       "8995                               proud hysterical woman\n",
       "8996    hollywood complicit rape sexual assault woman ...\n",
       "8997    fuck cunt hate see kid get neglect used parent...\n",
       "8998                                hysterical woman like\n",
       "8999    nearly every woman know metoo fee sexual harre...\n",
       "Name: text_lemmatized, Length: 9000, dtype: object>"
      ]
     },
     "execution_count": 16,
     "metadata": {},
     "output_type": "execute_result"
    }
   ],
   "source": [
    "df['text_lemmatized'].to_list"
   ]
  },
  {
   "cell_type": "markdown",
   "metadata": {
    "id": "MzjUO445oJS7"
   },
   "source": [
    "TOKENIZATION"
   ]
  },
  {
   "cell_type": "code",
   "execution_count": 17,
   "metadata": {
    "colab": {
     "base_uri": "https://localhost:8080/"
    },
    "id": "n1wRiYmFoKtD",
    "outputId": "7c2714fa-3526-4b5b-cb9c-451e512d3a4b"
   },
   "outputs": [
    {
     "name": "stderr",
     "output_type": "stream",
     "text": [
      "[nltk_data] Downloading package punkt to C:\\Users\\Sanghita\n",
      "[nltk_data]     Chakraborty\\AppData\\Roaming\\nltk_data...\n",
      "[nltk_data]   Package punkt is already up-to-date!\n"
     ]
    },
    {
     "name": "stdout",
     "output_type": "stream",
     "text": [
      "0       [hurray, save, u, many, way, lockthemup, build...\n",
      "1       [would, young, fight, age, men, vast, majority...\n",
      "2       [illegals, dump, kid, border, like, road, kill...\n",
      "3       [ny, time, nearly, white, state, pose, array, ...\n",
      "4       [orban, brussels, european, leader, ignore, pe...\n",
      "                              ...                        \n",
      "8995                           [proud, hysterical, woman]\n",
      "8996    [hollywood, complicit, rape, sexual, assault, ...\n",
      "8997    [fuck, cunt, hate, see, kid, get, neglect, use...\n",
      "8998                            [hysterical, woman, like]\n",
      "8999    [nearly, every, woman, know, metoo, fee, sexua...\n",
      "Name: text_lemmatized, Length: 9000, dtype: object\n"
     ]
    }
   ],
   "source": [
    "\n",
    "nltk.download('punkt')\n",
    "def tokenize():\n",
    "    nltk_token = df[\"text_lemmatized\"].apply(lambda text:  nltk.word_tokenize(text))\n",
    "    return nltk_token\n",
    "\n",
    "#df.head()\n",
    "#print(nltk_token)\n",
    "#nltk_tokens = nltk.sent_tokenize(df['text_lemmatized'])\n",
    "print (tokenize())\n"
   ]
  },
  {
   "cell_type": "code",
   "execution_count": null,
   "metadata": {},
   "outputs": [],
   "source": [
    "!pip install sklearn"
   ]
  },
  {
   "cell_type": "code",
   "execution_count": 24,
   "metadata": {},
   "outputs": [
    {
     "name": "stdout",
     "output_type": "stream",
     "text": [
      "<class 'pandas.core.series.Series'>\n"
     ]
    },
    {
     "data": {
      "text/plain": [
       "list"
      ]
     },
     "execution_count": 24,
     "metadata": {},
     "output_type": "execute_result"
    }
   ],
   "source": [
    "type(tokenize())\n",
    "input_data = tokenize()\n",
    "print(type(input_data))\n",
    "input_dt = input_data.tolist()\n",
    "type(input_dt)"
   ]
  },
  {
   "cell_type": "code",
   "execution_count": null,
   "metadata": {},
   "outputs": [],
   "source": [
    "\n",
    "'''#Vectorizing the texts using TF-IDF\n",
    "from sklearn.feature_extraction.text import TfidfVectorizer\n",
    "tfidfconverter = TfidfVectorizer(tokenizer=tokenize, stop_words=stopwords.words('english'))\n",
    "text_vectors = tfidfconverter.fit_transform(nltk_token.to_numpy())\n",
    "'''\n"
   ]
  },
  {
   "cell_type": "code",
   "execution_count": 19,
   "metadata": {},
   "outputs": [
    {
     "name": "stdout",
     "output_type": "stream",
     "text": [
      "0       hurray save u many way lockthemup buildthewall...\n",
      "1       would young fight age men vast majority one es...\n",
      "2       illegals dump kid border like road kill refuse...\n",
      "3       ny time nearly white state pose array problem ...\n",
      "4       orban brussels european leader ignore people w...\n",
      "                              ...                        \n",
      "8995                               proud hysterical woman\n",
      "8996    hollywood complicit rape sexual assault woman ...\n",
      "8997    fuck cunt hate see kid get neglect used parent...\n",
      "8998                                hysterical woman like\n",
      "8999    nearly every woman know metoo fee sexual harre...\n",
      "Name: text_lemmatized, Length: 9000, dtype: object\n"
     ]
    }
   ],
   "source": [
    "#input_text = df[\"text_lemmatized\"]\n",
    "#print(input_text)"
   ]
  },
  {
   "cell_type": "code",
   "execution_count": 21,
   "metadata": {},
   "outputs": [
    {
     "data": {
      "text/plain": [
       "numpy.ndarray"
      ]
     },
     "execution_count": 21,
     "metadata": {},
     "output_type": "execute_result"
    }
   ],
   "source": [
    "\n",
    "#input_text =input_text.to_numpy()\n",
    "#type(input_text)"
   ]
  },
  {
   "cell_type": "code",
   "execution_count": 27,
   "metadata": {},
   "outputs": [],
   "source": [
    "from sklearn.feature_extraction.text import TfidfVectorizer"
   ]
  },
  {
   "cell_type": "code",
   "execution_count": 33,
   "metadata": {},
   "outputs": [],
   "source": [
    "#instantiating the vectorizer object\n",
    "tfidfvectorizer = TfidfVectorizer(stop_words= 'english',lowercase = False)"
   ]
  },
  {
   "cell_type": "code",
   "execution_count": 34,
   "metadata": {},
   "outputs": [
    {
     "ename": "TypeError",
     "evalue": "expected string or bytes-like object",
     "output_type": "error",
     "traceback": [
      "\u001b[1;31m---------------------------------------------------------------------------\u001b[0m",
      "\u001b[1;31mTypeError\u001b[0m                                 Traceback (most recent call last)",
      "\u001b[1;32m<ipython-input-34-74bb85f94dba>\u001b[0m in \u001b[0;36m<module>\u001b[1;34m\u001b[0m\n\u001b[0;32m      1\u001b[0m \u001b[1;31m#generation of matrix\u001b[0m\u001b[1;33m\u001b[0m\u001b[1;33m\u001b[0m\u001b[1;33m\u001b[0m\u001b[0m\n\u001b[1;32m----> 2\u001b[1;33m \u001b[0mtfidf_wm\u001b[0m \u001b[1;33m=\u001b[0m \u001b[0mtfidfvectorizer\u001b[0m\u001b[1;33m.\u001b[0m\u001b[0mfit_transform\u001b[0m\u001b[1;33m(\u001b[0m\u001b[0minput_dt\u001b[0m\u001b[1;33m)\u001b[0m\u001b[1;33m\u001b[0m\u001b[1;33m\u001b[0m\u001b[0m\n\u001b[0m\u001b[0;32m      3\u001b[0m \u001b[0mprint\u001b[0m\u001b[1;33m(\u001b[0m\u001b[0mtfidf_wm\u001b[0m\u001b[1;33m)\u001b[0m\u001b[1;33m\u001b[0m\u001b[1;33m\u001b[0m\u001b[0m\n",
      "\u001b[1;32m~\\anaconda3\\lib\\site-packages\\sklearn\\feature_extraction\\text.py\u001b[0m in \u001b[0;36mfit_transform\u001b[1;34m(self, raw_documents, y)\u001b[0m\n\u001b[0;32m   1848\u001b[0m         \"\"\"\n\u001b[0;32m   1849\u001b[0m         \u001b[0mself\u001b[0m\u001b[1;33m.\u001b[0m\u001b[0m_check_params\u001b[0m\u001b[1;33m(\u001b[0m\u001b[1;33m)\u001b[0m\u001b[1;33m\u001b[0m\u001b[1;33m\u001b[0m\u001b[0m\n\u001b[1;32m-> 1850\u001b[1;33m         \u001b[0mX\u001b[0m \u001b[1;33m=\u001b[0m \u001b[0msuper\u001b[0m\u001b[1;33m(\u001b[0m\u001b[1;33m)\u001b[0m\u001b[1;33m.\u001b[0m\u001b[0mfit_transform\u001b[0m\u001b[1;33m(\u001b[0m\u001b[0mraw_documents\u001b[0m\u001b[1;33m)\u001b[0m\u001b[1;33m\u001b[0m\u001b[1;33m\u001b[0m\u001b[0m\n\u001b[0m\u001b[0;32m   1851\u001b[0m         \u001b[0mself\u001b[0m\u001b[1;33m.\u001b[0m\u001b[0m_tfidf\u001b[0m\u001b[1;33m.\u001b[0m\u001b[0mfit\u001b[0m\u001b[1;33m(\u001b[0m\u001b[0mX\u001b[0m\u001b[1;33m)\u001b[0m\u001b[1;33m\u001b[0m\u001b[1;33m\u001b[0m\u001b[0m\n\u001b[0;32m   1852\u001b[0m         \u001b[1;31m# X is already a transformed view of raw_documents so\u001b[0m\u001b[1;33m\u001b[0m\u001b[1;33m\u001b[0m\u001b[1;33m\u001b[0m\u001b[0m\n",
      "\u001b[1;32m~\\anaconda3\\lib\\site-packages\\sklearn\\feature_extraction\\text.py\u001b[0m in \u001b[0;36mfit_transform\u001b[1;34m(self, raw_documents, y)\u001b[0m\n\u001b[0;32m   1201\u001b[0m         \u001b[0mmax_features\u001b[0m \u001b[1;33m=\u001b[0m \u001b[0mself\u001b[0m\u001b[1;33m.\u001b[0m\u001b[0mmax_features\u001b[0m\u001b[1;33m\u001b[0m\u001b[1;33m\u001b[0m\u001b[0m\n\u001b[0;32m   1202\u001b[0m \u001b[1;33m\u001b[0m\u001b[0m\n\u001b[1;32m-> 1203\u001b[1;33m         vocabulary, X = self._count_vocab(raw_documents,\n\u001b[0m\u001b[0;32m   1204\u001b[0m                                           self.fixed_vocabulary_)\n\u001b[0;32m   1205\u001b[0m \u001b[1;33m\u001b[0m\u001b[0m\n",
      "\u001b[1;32m~\\anaconda3\\lib\\site-packages\\sklearn\\feature_extraction\\text.py\u001b[0m in \u001b[0;36m_count_vocab\u001b[1;34m(self, raw_documents, fixed_vocab)\u001b[0m\n\u001b[0;32m   1113\u001b[0m         \u001b[1;32mfor\u001b[0m \u001b[0mdoc\u001b[0m \u001b[1;32min\u001b[0m \u001b[0mraw_documents\u001b[0m\u001b[1;33m:\u001b[0m\u001b[1;33m\u001b[0m\u001b[1;33m\u001b[0m\u001b[0m\n\u001b[0;32m   1114\u001b[0m             \u001b[0mfeature_counter\u001b[0m \u001b[1;33m=\u001b[0m \u001b[1;33m{\u001b[0m\u001b[1;33m}\u001b[0m\u001b[1;33m\u001b[0m\u001b[1;33m\u001b[0m\u001b[0m\n\u001b[1;32m-> 1115\u001b[1;33m             \u001b[1;32mfor\u001b[0m \u001b[0mfeature\u001b[0m \u001b[1;32min\u001b[0m \u001b[0manalyze\u001b[0m\u001b[1;33m(\u001b[0m\u001b[0mdoc\u001b[0m\u001b[1;33m)\u001b[0m\u001b[1;33m:\u001b[0m\u001b[1;33m\u001b[0m\u001b[1;33m\u001b[0m\u001b[0m\n\u001b[0m\u001b[0;32m   1116\u001b[0m                 \u001b[1;32mtry\u001b[0m\u001b[1;33m:\u001b[0m\u001b[1;33m\u001b[0m\u001b[1;33m\u001b[0m\u001b[0m\n\u001b[0;32m   1117\u001b[0m                     \u001b[0mfeature_idx\u001b[0m \u001b[1;33m=\u001b[0m \u001b[0mvocabulary\u001b[0m\u001b[1;33m[\u001b[0m\u001b[0mfeature\u001b[0m\u001b[1;33m]\u001b[0m\u001b[1;33m\u001b[0m\u001b[1;33m\u001b[0m\u001b[0m\n",
      "\u001b[1;32m~\\anaconda3\\lib\\site-packages\\sklearn\\feature_extraction\\text.py\u001b[0m in \u001b[0;36m_analyze\u001b[1;34m(doc, analyzer, tokenizer, ngrams, preprocessor, decoder, stop_words)\u001b[0m\n\u001b[0;32m    104\u001b[0m             \u001b[0mdoc\u001b[0m \u001b[1;33m=\u001b[0m \u001b[0mpreprocessor\u001b[0m\u001b[1;33m(\u001b[0m\u001b[0mdoc\u001b[0m\u001b[1;33m)\u001b[0m\u001b[1;33m\u001b[0m\u001b[1;33m\u001b[0m\u001b[0m\n\u001b[0;32m    105\u001b[0m         \u001b[1;32mif\u001b[0m \u001b[0mtokenizer\u001b[0m \u001b[1;32mis\u001b[0m \u001b[1;32mnot\u001b[0m \u001b[1;32mNone\u001b[0m\u001b[1;33m:\u001b[0m\u001b[1;33m\u001b[0m\u001b[1;33m\u001b[0m\u001b[0m\n\u001b[1;32m--> 106\u001b[1;33m             \u001b[0mdoc\u001b[0m \u001b[1;33m=\u001b[0m \u001b[0mtokenizer\u001b[0m\u001b[1;33m(\u001b[0m\u001b[0mdoc\u001b[0m\u001b[1;33m)\u001b[0m\u001b[1;33m\u001b[0m\u001b[1;33m\u001b[0m\u001b[0m\n\u001b[0m\u001b[0;32m    107\u001b[0m         \u001b[1;32mif\u001b[0m \u001b[0mngrams\u001b[0m \u001b[1;32mis\u001b[0m \u001b[1;32mnot\u001b[0m \u001b[1;32mNone\u001b[0m\u001b[1;33m:\u001b[0m\u001b[1;33m\u001b[0m\u001b[1;33m\u001b[0m\u001b[0m\n\u001b[0;32m    108\u001b[0m             \u001b[1;32mif\u001b[0m \u001b[0mstop_words\u001b[0m \u001b[1;32mis\u001b[0m \u001b[1;32mnot\u001b[0m \u001b[1;32mNone\u001b[0m\u001b[1;33m:\u001b[0m\u001b[1;33m\u001b[0m\u001b[1;33m\u001b[0m\u001b[0m\n",
      "\u001b[1;31mTypeError\u001b[0m: expected string or bytes-like object"
     ]
    }
   ],
   "source": [
    "#generation of matrix\n",
    "tfidf_wm = tfidfvectorizer.fit_transform(input_dt)\n",
    "print(tfidf_wm)"
   ]
  },
  {
   "cell_type": "code",
   "execution_count": 32,
   "metadata": {},
   "outputs": [
    {
     "ename": "NotFittedError",
     "evalue": "Vocabulary not fitted or provided",
     "output_type": "error",
     "traceback": [
      "\u001b[1;31m---------------------------------------------------------------------------\u001b[0m",
      "\u001b[1;31mNotFittedError\u001b[0m                            Traceback (most recent call last)",
      "\u001b[1;32m<ipython-input-32-02c4926440dc>\u001b[0m in \u001b[0;36m<module>\u001b[1;34m\u001b[0m\n\u001b[1;32m----> 1\u001b[1;33m \u001b[0mfeature_names\u001b[0m \u001b[1;33m=\u001b[0m \u001b[0mtfidfvectorizer\u001b[0m\u001b[1;33m.\u001b[0m\u001b[0mget_feature_names\u001b[0m\u001b[1;33m(\u001b[0m\u001b[1;33m)\u001b[0m\u001b[1;33m\u001b[0m\u001b[1;33m\u001b[0m\u001b[0m\n\u001b[0m\u001b[0;32m      2\u001b[0m \u001b[0mprint\u001b[0m\u001b[1;33m(\u001b[0m\u001b[0mfeature_names\u001b[0m\u001b[1;33m)\u001b[0m\u001b[1;33m\u001b[0m\u001b[1;33m\u001b[0m\u001b[0m\n",
      "\u001b[1;32m~\\anaconda3\\lib\\site-packages\\sklearn\\feature_extraction\\text.py\u001b[0m in \u001b[0;36mget_feature_names\u001b[1;34m(self)\u001b[0m\n\u001b[0;32m   1298\u001b[0m         \"\"\"\n\u001b[0;32m   1299\u001b[0m \u001b[1;33m\u001b[0m\u001b[0m\n\u001b[1;32m-> 1300\u001b[1;33m         \u001b[0mself\u001b[0m\u001b[1;33m.\u001b[0m\u001b[0m_check_vocabulary\u001b[0m\u001b[1;33m(\u001b[0m\u001b[1;33m)\u001b[0m\u001b[1;33m\u001b[0m\u001b[1;33m\u001b[0m\u001b[0m\n\u001b[0m\u001b[0;32m   1301\u001b[0m \u001b[1;33m\u001b[0m\u001b[0m\n\u001b[0;32m   1302\u001b[0m         return [t for t, i in sorted(self.vocabulary_.items(),\n",
      "\u001b[1;32m~\\anaconda3\\lib\\site-packages\\sklearn\\feature_extraction\\text.py\u001b[0m in \u001b[0;36m_check_vocabulary\u001b[1;34m(self)\u001b[0m\n\u001b[0;32m    470\u001b[0m             \u001b[0mself\u001b[0m\u001b[1;33m.\u001b[0m\u001b[0m_validate_vocabulary\u001b[0m\u001b[1;33m(\u001b[0m\u001b[1;33m)\u001b[0m\u001b[1;33m\u001b[0m\u001b[1;33m\u001b[0m\u001b[0m\n\u001b[0;32m    471\u001b[0m             \u001b[1;32mif\u001b[0m \u001b[1;32mnot\u001b[0m \u001b[0mself\u001b[0m\u001b[1;33m.\u001b[0m\u001b[0mfixed_vocabulary_\u001b[0m\u001b[1;33m:\u001b[0m\u001b[1;33m\u001b[0m\u001b[1;33m\u001b[0m\u001b[0m\n\u001b[1;32m--> 472\u001b[1;33m                 \u001b[1;32mraise\u001b[0m \u001b[0mNotFittedError\u001b[0m\u001b[1;33m(\u001b[0m\u001b[1;34m\"Vocabulary not fitted or provided\"\u001b[0m\u001b[1;33m)\u001b[0m\u001b[1;33m\u001b[0m\u001b[1;33m\u001b[0m\u001b[0m\n\u001b[0m\u001b[0;32m    473\u001b[0m \u001b[1;33m\u001b[0m\u001b[0m\n\u001b[0;32m    474\u001b[0m         \u001b[1;32mif\u001b[0m \u001b[0mlen\u001b[0m\u001b[1;33m(\u001b[0m\u001b[0mself\u001b[0m\u001b[1;33m.\u001b[0m\u001b[0mvocabulary_\u001b[0m\u001b[1;33m)\u001b[0m \u001b[1;33m==\u001b[0m \u001b[1;36m0\u001b[0m\u001b[1;33m:\u001b[0m\u001b[1;33m\u001b[0m\u001b[1;33m\u001b[0m\u001b[0m\n",
      "\u001b[1;31mNotFittedError\u001b[0m: Vocabulary not fitted or provided"
     ]
    }
   ],
   "source": [
    "feature_names = tfidfvectorizer.get_feature_names()\n",
    "print(feature_names)"
   ]
  },
  {
   "cell_type": "code",
   "execution_count": null,
   "metadata": {},
   "outputs": [],
   "source": [
    "df_tfidfvect = pd.DataFrame(data = tfidf_wm.toarray(),columns = tfidf_tokens)\n",
    "print(df_tfidfvect['youtubers'])"
   ]
  },
  {
   "cell_type": "code",
   "execution_count": null,
   "metadata": {},
   "outputs": [],
   "source": [
    "print(input_text)"
   ]
  },
  {
   "cell_type": "code",
   "execution_count": null,
   "metadata": {},
   "outputs": [],
   "source": [
    "print(input_text[0])"
   ]
  },
  {
   "cell_type": "code",
   "execution_count": null,
   "metadata": {},
   "outputs": [],
   "source": [
    "total_vocab = ['hurray']\n",
    "tokenized_text = []\n",
    "for text in input_text:\n",
    "    #print(text)\n",
    "    text = text.split(\" \")\n",
    "    tokenized_text.append(text)\n",
    "    #print(text)\n",
    "    total_vocab = set(total_vocab).union(set(text))\n",
    "\n",
    "#print(total_vocab)\n",
    "print(tokenized_text)\n"
   ]
  },
  {
   "cell_type": "code",
   "execution_count": null,
   "metadata": {},
   "outputs": [],
   "source": [
    "print(len(total_vocab))"
   ]
  },
  {
   "cell_type": "code",
   "execution_count": null,
   "metadata": {},
   "outputs": [],
   "source": [
    "sentence_encoding = []\n",
    "for text in tokenized_text:\n",
    "    sentence_dictionary = dict.fromkeys(total_vocab, 0)\n",
    "    #print(text)\n",
    "    #print(sentence_dictionary)\n",
    "    for word in text:\n",
    "        #print(word)\n",
    "        sentence_dictionary[word]+=1\n",
    "    sentence_encoding.append(sentence_dictionary)\n",
    "    print(sentence_encoding)\n",
    "    \n",
    "    \n",
    "#print(sentence_encoding)"
   ]
  },
  {
   "cell_type": "code",
   "execution_count": null,
   "metadata": {},
   "outputs": [],
   "source": [
    "in_t = ['hey there how are you']"
   ]
  }
 ],
 "metadata": {
  "accelerator": "GPU",
  "colab": {
   "collapsed_sections": [],
   "include_colab_link": true,
   "name": "NLP_G32.ipynb",
   "provenance": []
  },
  "kernelspec": {
   "display_name": "Python 3",
   "language": "python",
   "name": "python3"
  },
  "language_info": {
   "codemirror_mode": {
    "name": "ipython",
    "version": 3
   },
   "file_extension": ".py",
   "mimetype": "text/x-python",
   "name": "python",
   "nbconvert_exporter": "python",
   "pygments_lexer": "ipython3",
   "version": "3.8.8"
  }
 },
 "nbformat": 4,
 "nbformat_minor": 1
}
