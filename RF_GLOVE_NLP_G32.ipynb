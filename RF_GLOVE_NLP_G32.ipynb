{
  "nbformat": 4,
  "nbformat_minor": 0,
  "metadata": {
    "accelerator": "TPU",
    "colab": {
      "provenance": [],
      "collapsed_sections": []
    },
    "kernelspec": {
      "display_name": "Python 3",
      "name": "python3"
    },
    "language_info": {
      "name": "python"
    }
  },
  "cells": [
    {
      "cell_type": "code",
      "metadata": {
        "colab": {
          "base_uri": "https://localhost:8080/"
        },
        "id": "YJyw9bD_TeCJ",
        "outputId": "45d86ea8-d9ed-4182-9dc8-522aba044470"
      },
      "source": [
        "from google.colab import drive\n",
        "drive.mount('/content/drive')"
      ],
      "execution_count": null,
      "outputs": [
        {
          "output_type": "stream",
          "name": "stdout",
          "text": [
            "Drive already mounted at /content/drive; to attempt to forcibly remount, call drive.mount(\"/content/drive\", force_remount=True).\n"
          ]
        }
      ]
    },
    {
      "cell_type": "code",
      "metadata": {
        "id": "PTihd0DceWnM"
      },
      "source": [
        "import numpy as np\n",
        "import pandas as pd\n",
        "import re\n",
        "import nltk\n",
        "import spacy\n",
        "import string\n",
        "pd.options.mode.chained_assignment = None"
      ],
      "execution_count": null,
      "outputs": []
    },
    {
      "cell_type": "code",
      "metadata": {
        "colab": {
          "base_uri": "https://localhost:8080/"
        },
        "id": "XfhHcXvxDZHn",
        "outputId": "1baed668-b115-4df0-cc06-4bdd435cccc8"
      },
      "source": [
        "import numpy as np\n",
        "import pandas as pd\n",
        "import pickle\n",
        "import tensorflow as tf\n",
        "from wordcloud import WordCloud, STOPWORDS\n",
        "import matplotlib.pyplot as plt\n",
        "from tensorflow.keras.preprocessing import text, sequence\n",
        "from tensorflow.keras.models import Sequential\n",
        "from tensorflow.keras.layers import Dense, Dropout, Activation\n",
        "from tensorflow.keras.layers import Embedding\n",
        "from tensorflow.keras.layers import Conv1D, GlobalMaxPooling1D, MaxPooling1D\n",
        "import seaborn as sns\n",
        "plt.style.use('fivethirtyeight')\n",
        "print(tf.__version__)\n"
      ],
      "execution_count": null,
      "outputs": [
        {
          "output_type": "stream",
          "name": "stdout",
          "text": [
            "2.7.0\n"
          ]
        }
      ]
    },
    {
      "cell_type": "code",
      "metadata": {
        "id": "Bh-vBh00zesu"
      },
      "source": [
        "from sklearn.model_selection import train_test_split\n",
        "from sklearn.model_selection import cross_val_score\n",
        "from sklearn.metrics import classification_report, confusion_matrix,accuracy_score, matthews_corrcoef,precision_score,average_precision_score,recall_score,f1_score,roc_auc_score\n",
        "\n",
        "from sklearn.model_selection import RandomizedSearchCV\n",
        "from sklearn.ensemble import RandomForestRegressor\n",
        "from sklearn.svm import SVC "
      ],
      "execution_count": null,
      "outputs": []
    },
    {
      "cell_type": "code",
      "metadata": {
        "id": "VMhyqgt8xIS-"
      },
      "source": [
        "glove_filename='glove.6B.100d.txt'\n",
        "glove_path='/content/drive/MyDrive/Colab Notebooks/glove.6B.100d.txt'"
      ],
      "execution_count": null,
      "outputs": []
    },
    {
      "cell_type": "code",
      "metadata": {
        "colab": {
          "base_uri": "https://localhost:8080/"
        },
        "id": "K03Ly1w0YSPb",
        "outputId": "3245de74-e94e-45a5-9a85-e485947146be"
      },
      "source": [
        "from gensim.scripts.glove2word2vec import glove2word2vec\n",
        "\n",
        "#glove_input_file = glove_filename\n",
        "word2vec_output_file = glove_filename+'.word2vec'\n",
        "glove2word2vec(glove_path, word2vec_output_file)"
      ],
      "execution_count": null,
      "outputs": [
        {
          "output_type": "execute_result",
          "data": {
            "text/plain": [
              "(400000, 100)"
            ]
          },
          "metadata": {},
          "execution_count": 6
        }
      ]
    },
    {
      "cell_type": "code",
      "metadata": {
        "id": "1qq6EEr6x2_q"
      },
      "source": [
        "from gensim.models import KeyedVectors\n",
        "# load the Stanford GloVe model\n",
        "word2vec_output_file = glove_filename+'.word2vec'\n",
        "model = KeyedVectors.load_word2vec_format(word2vec_output_file, binary=False)"
      ],
      "execution_count": null,
      "outputs": []
    },
    {
      "cell_type": "code",
      "metadata": {
        "id": "jqSpoK5LXIIU"
      },
      "source": [
        "class Word2VecVectorizer:\n",
        "  def __init__(self, model):\n",
        "    print(\"Loading in word vectors...\")\n",
        "    self.word_vectors = model\n",
        "    print(\"Finished loading in word vectors\")\n",
        "\n",
        "  def fit(self, data):\n",
        "    pass\n",
        "\n",
        "  def transform(self, data):\n",
        "    # determine the dimensionality of vectors\n",
        "    v = self.word_vectors.get_vector('king')\n",
        "    self.D = v.shape[0]\n",
        "\n",
        "    X = np.zeros((len(data), self.D))\n",
        "    n = 0\n",
        "    emptycount = 0\n",
        "    for sentence in data:\n",
        "      tokens = sentence.split()\n",
        "      vecs = []\n",
        "      m = 0\n",
        "      for word in tokens:\n",
        "        try:\n",
        "          # throws KeyError if word not found\n",
        "          vec = self.word_vectors.get_vector(word)\n",
        "          vecs.append(vec)\n",
        "          m += 1\n",
        "        except KeyError:\n",
        "          pass\n",
        "      if len(vecs) > 0:\n",
        "        vecs = np.array(vecs)\n",
        "        X[n] = vecs.mean(axis=0)\n",
        "      else:\n",
        "        emptycount += 1\n",
        "      n += 1\n",
        "    print(\"Numer of samples with no words found: %s / %s\" % (emptycount, len(data)))\n",
        "    return X\n",
        "\n",
        "\n",
        "  def fit_transform(self, data):\n",
        "    self.fit(data)\n",
        "    return self.transform(data)"
      ],
      "execution_count": null,
      "outputs": []
    },
    {
      "cell_type": "code",
      "metadata": {
        "colab": {
          "base_uri": "https://localhost:8080/",
          "height": 206
        },
        "id": "KJAzSlShepO2",
        "outputId": "0a1a6c98-8f48-422a-88e3-69d70773d63d"
      },
      "source": [
        "df1 = pd.read_csv(\"/content/hateval2019_en_train.csv\")\n",
        "df2= pd.read_csv(\"/content/hateval2019_en_test.csv\")\n",
        "full_df= df1.append(df2,ignore_index=True)\n",
        "# df = full_df[[\"text\"]]\n",
        "full_df[\"text\"] = full_df[\"text\"].astype(str)\n",
        "full_df.head()"
      ],
      "execution_count": null,
      "outputs": [
        {
          "output_type": "execute_result",
          "data": {
            "text/html": [
              "<div>\n",
              "<style scoped>\n",
              "    .dataframe tbody tr th:only-of-type {\n",
              "        vertical-align: middle;\n",
              "    }\n",
              "\n",
              "    .dataframe tbody tr th {\n",
              "        vertical-align: top;\n",
              "    }\n",
              "\n",
              "    .dataframe thead th {\n",
              "        text-align: right;\n",
              "    }\n",
              "</style>\n",
              "<table border=\"1\" class=\"dataframe\">\n",
              "  <thead>\n",
              "    <tr style=\"text-align: right;\">\n",
              "      <th></th>\n",
              "      <th>id</th>\n",
              "      <th>text</th>\n",
              "      <th>HS</th>\n",
              "      <th>TR</th>\n",
              "      <th>AG</th>\n",
              "    </tr>\n",
              "  </thead>\n",
              "  <tbody>\n",
              "    <tr>\n",
              "      <th>0</th>\n",
              "      <td>201</td>\n",
              "      <td>Hurray, saving us $$$ in so many ways @potus @...</td>\n",
              "      <td>1</td>\n",
              "      <td>0</td>\n",
              "      <td>0</td>\n",
              "    </tr>\n",
              "    <tr>\n",
              "      <th>1</th>\n",
              "      <td>202</td>\n",
              "      <td>Why would young fighting age men be the vast m...</td>\n",
              "      <td>1</td>\n",
              "      <td>0</td>\n",
              "      <td>0</td>\n",
              "    </tr>\n",
              "    <tr>\n",
              "      <th>2</th>\n",
              "      <td>203</td>\n",
              "      <td>@KamalaHarris Illegals Dump their Kids at the ...</td>\n",
              "      <td>1</td>\n",
              "      <td>0</td>\n",
              "      <td>0</td>\n",
              "    </tr>\n",
              "    <tr>\n",
              "      <th>3</th>\n",
              "      <td>204</td>\n",
              "      <td>NY Times: 'Nearly All White' States Pose 'an A...</td>\n",
              "      <td>0</td>\n",
              "      <td>0</td>\n",
              "      <td>0</td>\n",
              "    </tr>\n",
              "    <tr>\n",
              "      <th>4</th>\n",
              "      <td>205</td>\n",
              "      <td>Orban in Brussels: European leaders are ignori...</td>\n",
              "      <td>0</td>\n",
              "      <td>0</td>\n",
              "      <td>0</td>\n",
              "    </tr>\n",
              "  </tbody>\n",
              "</table>\n",
              "</div>"
            ],
            "text/plain": [
              "    id                                               text  HS  TR  AG\n",
              "0  201  Hurray, saving us $$$ in so many ways @potus @...   1   0   0\n",
              "1  202  Why would young fighting age men be the vast m...   1   0   0\n",
              "2  203  @KamalaHarris Illegals Dump their Kids at the ...   1   0   0\n",
              "3  204  NY Times: 'Nearly All White' States Pose 'an A...   0   0   0\n",
              "4  205  Orban in Brussels: European leaders are ignori...   0   0   0"
            ]
          },
          "metadata": {},
          "execution_count": 9
        }
      ]
    },
    {
      "cell_type": "code",
      "metadata": {
        "id": "HABWI_mTBon5"
      },
      "source": [
        "df= full_df.sample(frac=1.0)\n",
        "df= df.reset_index(drop=True)"
      ],
      "execution_count": null,
      "outputs": []
    },
    {
      "cell_type": "code",
      "metadata": {
        "colab": {
          "base_uri": "https://localhost:8080/"
        },
        "id": "T5I4z0zZdVNz",
        "outputId": "5073c0cb-5cef-421f-de7f-fd77e44a5b5d"
      },
      "source": [
        "df.drop('id',axis=1,inplace=True)\n",
        "df.shape"
      ],
      "execution_count": null,
      "outputs": [
        {
          "output_type": "execute_result",
          "data": {
            "text/plain": [
              "(12000, 4)"
            ]
          },
          "metadata": {},
          "execution_count": 11
        }
      ]
    },
    {
      "cell_type": "markdown",
      "metadata": {
        "id": "1wDGw-9Qlzrb"
      },
      "source": [
        "REMOVE USERNAME"
      ]
    },
    {
      "cell_type": "code",
      "metadata": {
        "colab": {
          "base_uri": "https://localhost:8080/",
          "height": 206
        },
        "id": "p4akRmCRl2DE",
        "outputId": "b4e47424-8474-4887-8c3c-150cda42e031"
      },
      "source": [
        "import re\n",
        "\n",
        "def remove_usernames_links(tweet):\n",
        "    tweet = re.sub(r'@[^\\s]+','',tweet)\n",
        "    tweet = re.sub(r'http[^\\s]+','',tweet)\n",
        "    return tweet\n",
        "\n",
        "df['tweet'] = df[\"text\"].apply(remove_usernames_links)\n",
        "df.head()"
      ],
      "execution_count": null,
      "outputs": [
        {
          "output_type": "execute_result",
          "data": {
            "text/html": [
              "<div>\n",
              "<style scoped>\n",
              "    .dataframe tbody tr th:only-of-type {\n",
              "        vertical-align: middle;\n",
              "    }\n",
              "\n",
              "    .dataframe tbody tr th {\n",
              "        vertical-align: top;\n",
              "    }\n",
              "\n",
              "    .dataframe thead th {\n",
              "        text-align: right;\n",
              "    }\n",
              "</style>\n",
              "<table border=\"1\" class=\"dataframe\">\n",
              "  <thead>\n",
              "    <tr style=\"text-align: right;\">\n",
              "      <th></th>\n",
              "      <th>text</th>\n",
              "      <th>HS</th>\n",
              "      <th>TR</th>\n",
              "      <th>AG</th>\n",
              "      <th>tweet</th>\n",
              "    </tr>\n",
              "  </thead>\n",
              "  <tbody>\n",
              "    <tr>\n",
              "      <th>0</th>\n",
              "      <td>Definitely not! I have the same thought, kind ...</td>\n",
              "      <td>0</td>\n",
              "      <td>0</td>\n",
              "      <td>0</td>\n",
              "      <td>Definitely not! I have the same thought, kind ...</td>\n",
              "    </tr>\n",
              "    <tr>\n",
              "      <th>1</th>\n",
              "      <td>Of course the Toronto attack is a cover up! Go...</td>\n",
              "      <td>1</td>\n",
              "      <td>0</td>\n",
              "      <td>1</td>\n",
              "      <td>Of course the Toronto attack is a cover up! Go...</td>\n",
              "    </tr>\n",
              "    <tr>\n",
              "      <th>2</th>\n",
              "      <td>When your friend owes you money and they're ta...</td>\n",
              "      <td>0</td>\n",
              "      <td>0</td>\n",
              "      <td>0</td>\n",
              "      <td>When your friend owes you money and they're ta...</td>\n",
              "    </tr>\n",
              "    <tr>\n",
              "      <th>3</th>\n",
              "      <td>Maybe diversity.Or results of western globaliz...</td>\n",
              "      <td>0</td>\n",
              "      <td>0</td>\n",
              "      <td>0</td>\n",
              "      <td>Maybe diversity.Or results of western globaliz...</td>\n",
              "    </tr>\n",
              "    <tr>\n",
              "      <th>4</th>\n",
              "      <td>#50CentFrostyFilms Look At My Half Dollar PopS...</td>\n",
              "      <td>0</td>\n",
              "      <td>0</td>\n",
              "      <td>0</td>\n",
              "      <td>#50CentFrostyFilms Look At My Half Dollar PopS...</td>\n",
              "    </tr>\n",
              "  </tbody>\n",
              "</table>\n",
              "</div>"
            ],
            "text/plain": [
              "                                                text  ...                                              tweet\n",
              "0  Definitely not! I have the same thought, kind ...  ...  Definitely not! I have the same thought, kind ...\n",
              "1  Of course the Toronto attack is a cover up! Go...  ...  Of course the Toronto attack is a cover up! Go...\n",
              "2  When your friend owes you money and they're ta...  ...  When your friend owes you money and they're ta...\n",
              "3  Maybe diversity.Or results of western globaliz...  ...  Maybe diversity.Or results of western globaliz...\n",
              "4  #50CentFrostyFilms Look At My Half Dollar PopS...  ...  #50CentFrostyFilms Look At My Half Dollar PopS...\n",
              "\n",
              "[5 rows x 5 columns]"
            ]
          },
          "metadata": {},
          "execution_count": 12
        }
      ]
    },
    {
      "cell_type": "markdown",
      "metadata": {
        "id": "ZWFwfhf3fEDv"
      },
      "source": [
        "LOWER CASING"
      ]
    },
    {
      "cell_type": "code",
      "metadata": {
        "colab": {
          "base_uri": "https://localhost:8080/",
          "height": 293
        },
        "id": "fymHLBkje_8b",
        "outputId": "a7388aef-9e50-4667-b579-ecf9b23a28e0"
      },
      "source": [
        "df[\"text_lower\"] = df[\"tweet\"].str.lower()\n",
        "df.head()"
      ],
      "execution_count": null,
      "outputs": [
        {
          "output_type": "execute_result",
          "data": {
            "text/html": [
              "<div>\n",
              "<style scoped>\n",
              "    .dataframe tbody tr th:only-of-type {\n",
              "        vertical-align: middle;\n",
              "    }\n",
              "\n",
              "    .dataframe tbody tr th {\n",
              "        vertical-align: top;\n",
              "    }\n",
              "\n",
              "    .dataframe thead th {\n",
              "        text-align: right;\n",
              "    }\n",
              "</style>\n",
              "<table border=\"1\" class=\"dataframe\">\n",
              "  <thead>\n",
              "    <tr style=\"text-align: right;\">\n",
              "      <th></th>\n",
              "      <th>text</th>\n",
              "      <th>HS</th>\n",
              "      <th>TR</th>\n",
              "      <th>AG</th>\n",
              "      <th>tweet</th>\n",
              "      <th>text_lower</th>\n",
              "    </tr>\n",
              "  </thead>\n",
              "  <tbody>\n",
              "    <tr>\n",
              "      <th>0</th>\n",
              "      <td>Definitely not! I have the same thought, kind ...</td>\n",
              "      <td>0</td>\n",
              "      <td>0</td>\n",
              "      <td>0</td>\n",
              "      <td>Definitely not! I have the same thought, kind ...</td>\n",
              "      <td>definitely not! i have the same thought, kind ...</td>\n",
              "    </tr>\n",
              "    <tr>\n",
              "      <th>1</th>\n",
              "      <td>Of course the Toronto attack is a cover up! Go...</td>\n",
              "      <td>1</td>\n",
              "      <td>0</td>\n",
              "      <td>1</td>\n",
              "      <td>Of course the Toronto attack is a cover up! Go...</td>\n",
              "      <td>of course the toronto attack is a cover up! go...</td>\n",
              "    </tr>\n",
              "    <tr>\n",
              "      <th>2</th>\n",
              "      <td>When your friend owes you money and they're ta...</td>\n",
              "      <td>0</td>\n",
              "      <td>0</td>\n",
              "      <td>0</td>\n",
              "      <td>When your friend owes you money and they're ta...</td>\n",
              "      <td>when your friend owes you money and they're ta...</td>\n",
              "    </tr>\n",
              "    <tr>\n",
              "      <th>3</th>\n",
              "      <td>Maybe diversity.Or results of western globaliz...</td>\n",
              "      <td>0</td>\n",
              "      <td>0</td>\n",
              "      <td>0</td>\n",
              "      <td>Maybe diversity.Or results of western globaliz...</td>\n",
              "      <td>maybe diversity.or results of western globaliz...</td>\n",
              "    </tr>\n",
              "    <tr>\n",
              "      <th>4</th>\n",
              "      <td>#50CentFrostyFilms Look At My Half Dollar PopS...</td>\n",
              "      <td>0</td>\n",
              "      <td>0</td>\n",
              "      <td>0</td>\n",
              "      <td>#50CentFrostyFilms Look At My Half Dollar PopS...</td>\n",
              "      <td>#50centfrostyfilms look at my half dollar pops...</td>\n",
              "    </tr>\n",
              "  </tbody>\n",
              "</table>\n",
              "</div>"
            ],
            "text/plain": [
              "                                                text  ...                                         text_lower\n",
              "0  Definitely not! I have the same thought, kind ...  ...  definitely not! i have the same thought, kind ...\n",
              "1  Of course the Toronto attack is a cover up! Go...  ...  of course the toronto attack is a cover up! go...\n",
              "2  When your friend owes you money and they're ta...  ...  when your friend owes you money and they're ta...\n",
              "3  Maybe diversity.Or results of western globaliz...  ...  maybe diversity.or results of western globaliz...\n",
              "4  #50CentFrostyFilms Look At My Half Dollar PopS...  ...  #50centfrostyfilms look at my half dollar pops...\n",
              "\n",
              "[5 rows x 6 columns]"
            ]
          },
          "metadata": {},
          "execution_count": 13
        }
      ]
    },
    {
      "cell_type": "markdown",
      "metadata": {
        "id": "agxBEhK8fJx3"
      },
      "source": [
        "REMOVE PUNCTUATIONS"
      ]
    },
    {
      "cell_type": "code",
      "metadata": {
        "colab": {
          "base_uri": "https://localhost:8080/",
          "height": 310
        },
        "id": "aFdsR5lBfPaQ",
        "outputId": "2902a36c-01fa-4431-fb22-21cc7ed761f9"
      },
      "source": [
        "# drop the new column created in last cell\n",
        "#df.drop([\"text_lower\"], axis=1, inplace=True)\n",
        "\n",
        "PUNCT_TO_REMOVE = string.punctuation\n",
        "def remove_punctuation(text):\n",
        "    \"\"\"custom function to remove the punctuation\"\"\"\n",
        "    return text.translate(str.maketrans('', '', PUNCT_TO_REMOVE))\n",
        "\n",
        "df[\"text_wo_punct\"] = df['text_lower'].apply(lambda text: remove_punctuation(text))\n",
        "df.head()"
      ],
      "execution_count": null,
      "outputs": [
        {
          "output_type": "execute_result",
          "data": {
            "text/html": [
              "<div>\n",
              "<style scoped>\n",
              "    .dataframe tbody tr th:only-of-type {\n",
              "        vertical-align: middle;\n",
              "    }\n",
              "\n",
              "    .dataframe tbody tr th {\n",
              "        vertical-align: top;\n",
              "    }\n",
              "\n",
              "    .dataframe thead th {\n",
              "        text-align: right;\n",
              "    }\n",
              "</style>\n",
              "<table border=\"1\" class=\"dataframe\">\n",
              "  <thead>\n",
              "    <tr style=\"text-align: right;\">\n",
              "      <th></th>\n",
              "      <th>text</th>\n",
              "      <th>HS</th>\n",
              "      <th>TR</th>\n",
              "      <th>AG</th>\n",
              "      <th>tweet</th>\n",
              "      <th>text_lower</th>\n",
              "      <th>text_wo_punct</th>\n",
              "    </tr>\n",
              "  </thead>\n",
              "  <tbody>\n",
              "    <tr>\n",
              "      <th>0</th>\n",
              "      <td>Definitely not! I have the same thought, kind ...</td>\n",
              "      <td>0</td>\n",
              "      <td>0</td>\n",
              "      <td>0</td>\n",
              "      <td>Definitely not! I have the same thought, kind ...</td>\n",
              "      <td>definitely not! i have the same thought, kind ...</td>\n",
              "      <td>definitely not i have the same thought kind of...</td>\n",
              "    </tr>\n",
              "    <tr>\n",
              "      <th>1</th>\n",
              "      <td>Of course the Toronto attack is a cover up! Go...</td>\n",
              "      <td>1</td>\n",
              "      <td>0</td>\n",
              "      <td>1</td>\n",
              "      <td>Of course the Toronto attack is a cover up! Go...</td>\n",
              "      <td>of course the toronto attack is a cover up! go...</td>\n",
              "      <td>of course the toronto attack is a cover up god...</td>\n",
              "    </tr>\n",
              "    <tr>\n",
              "      <th>2</th>\n",
              "      <td>When your friend owes you money and they're ta...</td>\n",
              "      <td>0</td>\n",
              "      <td>0</td>\n",
              "      <td>0</td>\n",
              "      <td>When your friend owes you money and they're ta...</td>\n",
              "      <td>when your friend owes you money and they're ta...</td>\n",
              "      <td>when your friend owes you money and theyre tak...</td>\n",
              "    </tr>\n",
              "    <tr>\n",
              "      <th>3</th>\n",
              "      <td>Maybe diversity.Or results of western globaliz...</td>\n",
              "      <td>0</td>\n",
              "      <td>0</td>\n",
              "      <td>0</td>\n",
              "      <td>Maybe diversity.Or results of western globaliz...</td>\n",
              "      <td>maybe diversity.or results of western globaliz...</td>\n",
              "      <td>maybe diversityor results of western globaliza...</td>\n",
              "    </tr>\n",
              "    <tr>\n",
              "      <th>4</th>\n",
              "      <td>#50CentFrostyFilms Look At My Half Dollar PopS...</td>\n",
              "      <td>0</td>\n",
              "      <td>0</td>\n",
              "      <td>0</td>\n",
              "      <td>#50CentFrostyFilms Look At My Half Dollar PopS...</td>\n",
              "      <td>#50centfrostyfilms look at my half dollar pops...</td>\n",
              "      <td>50centfrostyfilms look at my half dollar popsi...</td>\n",
              "    </tr>\n",
              "  </tbody>\n",
              "</table>\n",
              "</div>"
            ],
            "text/plain": [
              "                                                text  ...                                      text_wo_punct\n",
              "0  Definitely not! I have the same thought, kind ...  ...  definitely not i have the same thought kind of...\n",
              "1  Of course the Toronto attack is a cover up! Go...  ...  of course the toronto attack is a cover up god...\n",
              "2  When your friend owes you money and they're ta...  ...  when your friend owes you money and theyre tak...\n",
              "3  Maybe diversity.Or results of western globaliz...  ...  maybe diversityor results of western globaliza...\n",
              "4  #50CentFrostyFilms Look At My Half Dollar PopS...  ...  50centfrostyfilms look at my half dollar popsi...\n",
              "\n",
              "[5 rows x 7 columns]"
            ]
          },
          "metadata": {},
          "execution_count": 14
        }
      ]
    },
    {
      "cell_type": "markdown",
      "metadata": {
        "id": "ayIvuxFTfW3t"
      },
      "source": [
        "STOPWORDS"
      ]
    },
    {
      "cell_type": "code",
      "metadata": {
        "colab": {
          "base_uri": "https://localhost:8080/"
        },
        "id": "GoW-3JpOg3lZ",
        "outputId": "131e8408-98d9-4114-b7dd-d1785ad7de30"
      },
      "source": [
        "!pip install nltk"
      ],
      "execution_count": null,
      "outputs": [
        {
          "output_type": "stream",
          "name": "stdout",
          "text": [
            "Requirement already satisfied: nltk in /usr/local/lib/python3.7/dist-packages (3.2.5)\n",
            "Requirement already satisfied: six in /usr/local/lib/python3.7/dist-packages (from nltk) (1.15.0)\n"
          ]
        }
      ]
    },
    {
      "cell_type": "code",
      "metadata": {
        "colab": {
          "base_uri": "https://localhost:8080/"
        },
        "id": "Qzi6C5ung_yU",
        "outputId": "4a113e53-d598-4892-dc1b-5057fdfa4bd8"
      },
      "source": [
        "import nltk\n",
        "nltk.download('stopwords')"
      ],
      "execution_count": null,
      "outputs": [
        {
          "output_type": "stream",
          "name": "stdout",
          "text": [
            "[nltk_data] Downloading package stopwords to /root/nltk_data...\n",
            "[nltk_data]   Package stopwords is already up-to-date!\n"
          ]
        },
        {
          "output_type": "execute_result",
          "data": {
            "text/plain": [
              "True"
            ]
          },
          "metadata": {},
          "execution_count": 16
        }
      ]
    },
    {
      "cell_type": "code",
      "metadata": {
        "colab": {
          "base_uri": "https://localhost:8080/",
          "height": 191
        },
        "id": "aHW6r6LMfPfx",
        "outputId": "ddf32d29-e10d-4b33-8096-54169a12d749"
      },
      "source": [
        "from nltk.corpus import stopwords\n",
        "\", \".join(stopwords.words('english'))\n"
      ],
      "execution_count": null,
      "outputs": [
        {
          "output_type": "execute_result",
          "data": {
            "application/vnd.google.colaboratory.intrinsic+json": {
              "type": "string"
            },
            "text/plain": [
              "\"i, me, my, myself, we, our, ours, ourselves, you, you're, you've, you'll, you'd, your, yours, yourself, yourselves, he, him, his, himself, she, she's, her, hers, herself, it, it's, its, itself, they, them, their, theirs, themselves, what, which, who, whom, this, that, that'll, these, those, am, is, are, was, were, be, been, being, have, has, had, having, do, does, did, doing, a, an, the, and, but, if, or, because, as, until, while, of, at, by, for, with, about, against, between, into, through, during, before, after, above, below, to, from, up, down, in, out, on, off, over, under, again, further, then, once, here, there, when, where, why, how, all, any, both, each, few, more, most, other, some, such, no, nor, not, only, own, same, so, than, too, very, s, t, can, will, just, don, don't, should, should've, now, d, ll, m, o, re, ve, y, ain, aren, aren't, couldn, couldn't, didn, didn't, doesn, doesn't, hadn, hadn't, hasn, hasn't, haven, haven't, isn, isn't, ma, mightn, mightn't, mustn, mustn't, needn, needn't, shan, shan't, shouldn, shouldn't, wasn, wasn't, weren, weren't, won, won't, wouldn, wouldn't\""
            ]
          },
          "metadata": {},
          "execution_count": 17
        }
      ]
    },
    {
      "cell_type": "code",
      "metadata": {
        "colab": {
          "base_uri": "https://localhost:8080/",
          "height": 380
        },
        "id": "aLR1Tqn_g3tw",
        "outputId": "d7008979-fdf0-490f-cbf7-82214894cf33"
      },
      "source": [
        "STOPWORDS = set(stopwords.words('english'))\n",
        "def remove_stopwords(text):\n",
        "    \"\"\"custom function to remove the stopwords\"\"\"\n",
        "    return \" \".join([word for word in str(text).split() if word not in STOPWORDS])\n",
        "\n",
        "df[\"text_wo_stop\"] = df[\"text_wo_punct\"].apply(lambda text: remove_stopwords(text))\n",
        "df.head()"
      ],
      "execution_count": null,
      "outputs": [
        {
          "output_type": "execute_result",
          "data": {
            "text/html": [
              "<div>\n",
              "<style scoped>\n",
              "    .dataframe tbody tr th:only-of-type {\n",
              "        vertical-align: middle;\n",
              "    }\n",
              "\n",
              "    .dataframe tbody tr th {\n",
              "        vertical-align: top;\n",
              "    }\n",
              "\n",
              "    .dataframe thead th {\n",
              "        text-align: right;\n",
              "    }\n",
              "</style>\n",
              "<table border=\"1\" class=\"dataframe\">\n",
              "  <thead>\n",
              "    <tr style=\"text-align: right;\">\n",
              "      <th></th>\n",
              "      <th>text</th>\n",
              "      <th>HS</th>\n",
              "      <th>TR</th>\n",
              "      <th>AG</th>\n",
              "      <th>tweet</th>\n",
              "      <th>text_lower</th>\n",
              "      <th>text_wo_punct</th>\n",
              "      <th>text_wo_stop</th>\n",
              "    </tr>\n",
              "  </thead>\n",
              "  <tbody>\n",
              "    <tr>\n",
              "      <th>0</th>\n",
              "      <td>Definitely not! I have the same thought, kind ...</td>\n",
              "      <td>0</td>\n",
              "      <td>0</td>\n",
              "      <td>0</td>\n",
              "      <td>Definitely not! I have the same thought, kind ...</td>\n",
              "      <td>definitely not! i have the same thought, kind ...</td>\n",
              "      <td>definitely not i have the same thought kind of...</td>\n",
              "      <td>definitely thought kind 😁 hope hes massive str...</td>\n",
              "    </tr>\n",
              "    <tr>\n",
              "      <th>1</th>\n",
              "      <td>Of course the Toronto attack is a cover up! Go...</td>\n",
              "      <td>1</td>\n",
              "      <td>0</td>\n",
              "      <td>1</td>\n",
              "      <td>Of course the Toronto attack is a cover up! Go...</td>\n",
              "      <td>of course the toronto attack is a cover up! go...</td>\n",
              "      <td>of course the toronto attack is a cover up god...</td>\n",
              "      <td>course toronto attack cover god forbid public ...</td>\n",
              "    </tr>\n",
              "    <tr>\n",
              "      <th>2</th>\n",
              "      <td>When your friend owes you money and they're ta...</td>\n",
              "      <td>0</td>\n",
              "      <td>0</td>\n",
              "      <td>0</td>\n",
              "      <td>When your friend owes you money and they're ta...</td>\n",
              "      <td>when your friend owes you money and they're ta...</td>\n",
              "      <td>when your friend owes you money and theyre tak...</td>\n",
              "      <td>friend owes money theyre taking little long pa...</td>\n",
              "    </tr>\n",
              "    <tr>\n",
              "      <th>3</th>\n",
              "      <td>Maybe diversity.Or results of western globaliz...</td>\n",
              "      <td>0</td>\n",
              "      <td>0</td>\n",
              "      <td>0</td>\n",
              "      <td>Maybe diversity.Or results of western globaliz...</td>\n",
              "      <td>maybe diversity.or results of western globaliz...</td>\n",
              "      <td>maybe diversityor results of western globaliza...</td>\n",
              "      <td>maybe diversityor results western globalizatio...</td>\n",
              "    </tr>\n",
              "    <tr>\n",
              "      <th>4</th>\n",
              "      <td>#50CentFrostyFilms Look At My Half Dollar PopS...</td>\n",
              "      <td>0</td>\n",
              "      <td>0</td>\n",
              "      <td>0</td>\n",
              "      <td>#50CentFrostyFilms Look At My Half Dollar PopS...</td>\n",
              "      <td>#50centfrostyfilms look at my half dollar pops...</td>\n",
              "      <td>50centfrostyfilms look at my half dollar popsi...</td>\n",
              "      <td>50centfrostyfilms look half dollar popsicle bi...</td>\n",
              "    </tr>\n",
              "  </tbody>\n",
              "</table>\n",
              "</div>"
            ],
            "text/plain": [
              "                                                text  ...                                       text_wo_stop\n",
              "0  Definitely not! I have the same thought, kind ...  ...  definitely thought kind 😁 hope hes massive str...\n",
              "1  Of course the Toronto attack is a cover up! Go...  ...  course toronto attack cover god forbid public ...\n",
              "2  When your friend owes you money and they're ta...  ...  friend owes money theyre taking little long pa...\n",
              "3  Maybe diversity.Or results of western globaliz...  ...  maybe diversityor results western globalizatio...\n",
              "4  #50CentFrostyFilms Look At My Half Dollar PopS...  ...  50centfrostyfilms look half dollar popsicle bi...\n",
              "\n",
              "[5 rows x 8 columns]"
            ]
          },
          "metadata": {},
          "execution_count": 18
        }
      ]
    },
    {
      "cell_type": "markdown",
      "metadata": {
        "id": "twXfM95sjHmE"
      },
      "source": [
        "REMOVE URLS"
      ]
    },
    {
      "cell_type": "code",
      "metadata": {
        "id": "t5_rQS0bh8LP"
      },
      "source": [
        "def remove_urls(text):\n",
        "    url_pattern = re.compile(r'https?://\\S+|www\\.\\S+')\n",
        "    return url_pattern.sub(r'', text)"
      ],
      "execution_count": null,
      "outputs": []
    },
    {
      "cell_type": "code",
      "metadata": {
        "colab": {
          "base_uri": "https://localhost:8080/",
          "height": 469
        },
        "id": "NvAsPVBmieSo",
        "outputId": "3a03a3ba-8873-4f4b-80bd-e48b939b84a0"
      },
      "source": [
        "df[\"text_wo_urlno\"] = df[\"text_wo_stop\"].apply(lambda text: remove_urls(text))\n",
        "df.head()"
      ],
      "execution_count": null,
      "outputs": [
        {
          "output_type": "execute_result",
          "data": {
            "text/html": [
              "<div>\n",
              "<style scoped>\n",
              "    .dataframe tbody tr th:only-of-type {\n",
              "        vertical-align: middle;\n",
              "    }\n",
              "\n",
              "    .dataframe tbody tr th {\n",
              "        vertical-align: top;\n",
              "    }\n",
              "\n",
              "    .dataframe thead th {\n",
              "        text-align: right;\n",
              "    }\n",
              "</style>\n",
              "<table border=\"1\" class=\"dataframe\">\n",
              "  <thead>\n",
              "    <tr style=\"text-align: right;\">\n",
              "      <th></th>\n",
              "      <th>text</th>\n",
              "      <th>HS</th>\n",
              "      <th>TR</th>\n",
              "      <th>AG</th>\n",
              "      <th>tweet</th>\n",
              "      <th>text_lower</th>\n",
              "      <th>text_wo_punct</th>\n",
              "      <th>text_wo_stop</th>\n",
              "      <th>text_wo_urlno</th>\n",
              "    </tr>\n",
              "  </thead>\n",
              "  <tbody>\n",
              "    <tr>\n",
              "      <th>0</th>\n",
              "      <td>Definitely not! I have the same thought, kind ...</td>\n",
              "      <td>0</td>\n",
              "      <td>0</td>\n",
              "      <td>0</td>\n",
              "      <td>Definitely not! I have the same thought, kind ...</td>\n",
              "      <td>definitely not! i have the same thought, kind ...</td>\n",
              "      <td>definitely not i have the same thought kind of...</td>\n",
              "      <td>definitely thought kind 😁 hope hes massive str...</td>\n",
              "      <td>definitely thought kind 😁 hope hes massive str...</td>\n",
              "    </tr>\n",
              "    <tr>\n",
              "      <th>1</th>\n",
              "      <td>Of course the Toronto attack is a cover up! Go...</td>\n",
              "      <td>1</td>\n",
              "      <td>0</td>\n",
              "      <td>1</td>\n",
              "      <td>Of course the Toronto attack is a cover up! Go...</td>\n",
              "      <td>of course the toronto attack is a cover up! go...</td>\n",
              "      <td>of course the toronto attack is a cover up god...</td>\n",
              "      <td>course toronto attack cover god forbid public ...</td>\n",
              "      <td>course toronto attack cover god forbid public ...</td>\n",
              "    </tr>\n",
              "    <tr>\n",
              "      <th>2</th>\n",
              "      <td>When your friend owes you money and they're ta...</td>\n",
              "      <td>0</td>\n",
              "      <td>0</td>\n",
              "      <td>0</td>\n",
              "      <td>When your friend owes you money and they're ta...</td>\n",
              "      <td>when your friend owes you money and they're ta...</td>\n",
              "      <td>when your friend owes you money and theyre tak...</td>\n",
              "      <td>friend owes money theyre taking little long pa...</td>\n",
              "      <td>friend owes money theyre taking little long pa...</td>\n",
              "    </tr>\n",
              "    <tr>\n",
              "      <th>3</th>\n",
              "      <td>Maybe diversity.Or results of western globaliz...</td>\n",
              "      <td>0</td>\n",
              "      <td>0</td>\n",
              "      <td>0</td>\n",
              "      <td>Maybe diversity.Or results of western globaliz...</td>\n",
              "      <td>maybe diversity.or results of western globaliz...</td>\n",
              "      <td>maybe diversityor results of western globaliza...</td>\n",
              "      <td>maybe diversityor results western globalizatio...</td>\n",
              "      <td>maybe diversityor results western globalizatio...</td>\n",
              "    </tr>\n",
              "    <tr>\n",
              "      <th>4</th>\n",
              "      <td>#50CentFrostyFilms Look At My Half Dollar PopS...</td>\n",
              "      <td>0</td>\n",
              "      <td>0</td>\n",
              "      <td>0</td>\n",
              "      <td>#50CentFrostyFilms Look At My Half Dollar PopS...</td>\n",
              "      <td>#50centfrostyfilms look at my half dollar pops...</td>\n",
              "      <td>50centfrostyfilms look at my half dollar popsi...</td>\n",
              "      <td>50centfrostyfilms look half dollar popsicle bi...</td>\n",
              "      <td>50centfrostyfilms look half dollar popsicle bi...</td>\n",
              "    </tr>\n",
              "  </tbody>\n",
              "</table>\n",
              "</div>"
            ],
            "text/plain": [
              "                                                text  ...                                      text_wo_urlno\n",
              "0  Definitely not! I have the same thought, kind ...  ...  definitely thought kind 😁 hope hes massive str...\n",
              "1  Of course the Toronto attack is a cover up! Go...  ...  course toronto attack cover god forbid public ...\n",
              "2  When your friend owes you money and they're ta...  ...  friend owes money theyre taking little long pa...\n",
              "3  Maybe diversity.Or results of western globaliz...  ...  maybe diversityor results western globalizatio...\n",
              "4  #50CentFrostyFilms Look At My Half Dollar PopS...  ...  50centfrostyfilms look half dollar popsicle bi...\n",
              "\n",
              "[5 rows x 9 columns]"
            ]
          },
          "metadata": {},
          "execution_count": 20
        }
      ]
    },
    {
      "cell_type": "markdown",
      "metadata": {
        "id": "8JvAS01ejLiC"
      },
      "source": [
        "REMOVE HTML TAGS"
      ]
    },
    {
      "cell_type": "code",
      "metadata": {
        "colab": {
          "base_uri": "https://localhost:8080/",
          "height": 469
        },
        "id": "Jydj5i7KjNfP",
        "outputId": "c3dc65d9-0857-46b9-bd6f-69be04f29832"
      },
      "source": [
        "def remove_html(text):\n",
        "    html_pattern = re.compile('<.*?>')\n",
        "    return html_pattern.sub(r'', text)\n",
        "\n",
        "df[\"text_wo_htmlno\"] = df[\"text_wo_urlno\"].apply(lambda text: remove_html(text))\n",
        "df.head()\n"
      ],
      "execution_count": null,
      "outputs": [
        {
          "output_type": "execute_result",
          "data": {
            "text/html": [
              "<div>\n",
              "<style scoped>\n",
              "    .dataframe tbody tr th:only-of-type {\n",
              "        vertical-align: middle;\n",
              "    }\n",
              "\n",
              "    .dataframe tbody tr th {\n",
              "        vertical-align: top;\n",
              "    }\n",
              "\n",
              "    .dataframe thead th {\n",
              "        text-align: right;\n",
              "    }\n",
              "</style>\n",
              "<table border=\"1\" class=\"dataframe\">\n",
              "  <thead>\n",
              "    <tr style=\"text-align: right;\">\n",
              "      <th></th>\n",
              "      <th>text</th>\n",
              "      <th>HS</th>\n",
              "      <th>TR</th>\n",
              "      <th>AG</th>\n",
              "      <th>tweet</th>\n",
              "      <th>text_lower</th>\n",
              "      <th>text_wo_punct</th>\n",
              "      <th>text_wo_stop</th>\n",
              "      <th>text_wo_urlno</th>\n",
              "      <th>text_wo_htmlno</th>\n",
              "    </tr>\n",
              "  </thead>\n",
              "  <tbody>\n",
              "    <tr>\n",
              "      <th>0</th>\n",
              "      <td>Definitely not! I have the same thought, kind ...</td>\n",
              "      <td>0</td>\n",
              "      <td>0</td>\n",
              "      <td>0</td>\n",
              "      <td>Definitely not! I have the same thought, kind ...</td>\n",
              "      <td>definitely not! i have the same thought, kind ...</td>\n",
              "      <td>definitely not i have the same thought kind of...</td>\n",
              "      <td>definitely thought kind 😁 hope hes massive str...</td>\n",
              "      <td>definitely thought kind 😁 hope hes massive str...</td>\n",
              "      <td>definitely thought kind 😁 hope hes massive str...</td>\n",
              "    </tr>\n",
              "    <tr>\n",
              "      <th>1</th>\n",
              "      <td>Of course the Toronto attack is a cover up! Go...</td>\n",
              "      <td>1</td>\n",
              "      <td>0</td>\n",
              "      <td>1</td>\n",
              "      <td>Of course the Toronto attack is a cover up! Go...</td>\n",
              "      <td>of course the toronto attack is a cover up! go...</td>\n",
              "      <td>of course the toronto attack is a cover up god...</td>\n",
              "      <td>course toronto attack cover god forbid public ...</td>\n",
              "      <td>course toronto attack cover god forbid public ...</td>\n",
              "      <td>course toronto attack cover god forbid public ...</td>\n",
              "    </tr>\n",
              "    <tr>\n",
              "      <th>2</th>\n",
              "      <td>When your friend owes you money and they're ta...</td>\n",
              "      <td>0</td>\n",
              "      <td>0</td>\n",
              "      <td>0</td>\n",
              "      <td>When your friend owes you money and they're ta...</td>\n",
              "      <td>when your friend owes you money and they're ta...</td>\n",
              "      <td>when your friend owes you money and theyre tak...</td>\n",
              "      <td>friend owes money theyre taking little long pa...</td>\n",
              "      <td>friend owes money theyre taking little long pa...</td>\n",
              "      <td>friend owes money theyre taking little long pa...</td>\n",
              "    </tr>\n",
              "    <tr>\n",
              "      <th>3</th>\n",
              "      <td>Maybe diversity.Or results of western globaliz...</td>\n",
              "      <td>0</td>\n",
              "      <td>0</td>\n",
              "      <td>0</td>\n",
              "      <td>Maybe diversity.Or results of western globaliz...</td>\n",
              "      <td>maybe diversity.or results of western globaliz...</td>\n",
              "      <td>maybe diversityor results of western globaliza...</td>\n",
              "      <td>maybe diversityor results western globalizatio...</td>\n",
              "      <td>maybe diversityor results western globalizatio...</td>\n",
              "      <td>maybe diversityor results western globalizatio...</td>\n",
              "    </tr>\n",
              "    <tr>\n",
              "      <th>4</th>\n",
              "      <td>#50CentFrostyFilms Look At My Half Dollar PopS...</td>\n",
              "      <td>0</td>\n",
              "      <td>0</td>\n",
              "      <td>0</td>\n",
              "      <td>#50CentFrostyFilms Look At My Half Dollar PopS...</td>\n",
              "      <td>#50centfrostyfilms look at my half dollar pops...</td>\n",
              "      <td>50centfrostyfilms look at my half dollar popsi...</td>\n",
              "      <td>50centfrostyfilms look half dollar popsicle bi...</td>\n",
              "      <td>50centfrostyfilms look half dollar popsicle bi...</td>\n",
              "      <td>50centfrostyfilms look half dollar popsicle bi...</td>\n",
              "    </tr>\n",
              "  </tbody>\n",
              "</table>\n",
              "</div>"
            ],
            "text/plain": [
              "                                                text  ...                                     text_wo_htmlno\n",
              "0  Definitely not! I have the same thought, kind ...  ...  definitely thought kind 😁 hope hes massive str...\n",
              "1  Of course the Toronto attack is a cover up! Go...  ...  course toronto attack cover god forbid public ...\n",
              "2  When your friend owes you money and they're ta...  ...  friend owes money theyre taking little long pa...\n",
              "3  Maybe diversity.Or results of western globaliz...  ...  maybe diversityor results western globalizatio...\n",
              "4  #50CentFrostyFilms Look At My Half Dollar PopS...  ...  50centfrostyfilms look half dollar popsicle bi...\n",
              "\n",
              "[5 rows x 10 columns]"
            ]
          },
          "metadata": {},
          "execution_count": 21
        }
      ]
    },
    {
      "cell_type": "markdown",
      "metadata": {
        "id": "ZJR_fP8Pjuca"
      },
      "source": [
        "REMOVE DIGITS"
      ]
    },
    {
      "cell_type": "code",
      "metadata": {
        "id": "lOoVNHv2jt76"
      },
      "source": [
        "#df['text_wo_digitno'] = df['text_wo_urlno'].apply(lambda x: re.sub('W*dw*','',x))\n",
        "#df.head()"
      ],
      "execution_count": null,
      "outputs": []
    },
    {
      "cell_type": "code",
      "metadata": {
        "colab": {
          "base_uri": "https://localhost:8080/"
        },
        "id": "hnMqm6eCohKQ",
        "outputId": "867a0143-d96e-4773-fe48-b7d2163e34db"
      },
      "source": [
        "import nltk\n",
        "nltk.download('wordnet')"
      ],
      "execution_count": null,
      "outputs": [
        {
          "output_type": "stream",
          "name": "stdout",
          "text": [
            "[nltk_data] Downloading package wordnet to /root/nltk_data...\n",
            "[nltk_data]   Package wordnet is already up-to-date!\n"
          ]
        },
        {
          "output_type": "execute_result",
          "data": {
            "text/plain": [
              "True"
            ]
          },
          "metadata": {},
          "execution_count": 23
        }
      ]
    },
    {
      "cell_type": "markdown",
      "metadata": {
        "id": "gPukdQXDkMZt"
      },
      "source": [
        "LEMMATIZATION"
      ]
    },
    {
      "cell_type": "code",
      "metadata": {
        "colab": {
          "base_uri": "https://localhost:8080/",
          "height": 539
        },
        "id": "-Sv4nhZmkL0p",
        "outputId": "3aed7e9d-8743-4d94-ef63-01602d3d4495"
      },
      "source": [
        "nltk.download('averaged_perceptron_tagger')\n",
        "from nltk.corpus import wordnet\n",
        "from nltk.stem import WordNetLemmatizer\n",
        "\n",
        "lemmatizer = WordNetLemmatizer()\n",
        "wordnet_map = {\"N\":wordnet.NOUN, \"V\":wordnet.VERB, \"J\":wordnet.ADJ, \"R\":wordnet.ADV}\n",
        "def lemmatize_words(text):\n",
        "    pos_tagged_text = nltk.pos_tag(text.split())\n",
        "    return \" \".join([lemmatizer.lemmatize(word, wordnet_map.get(pos[0], wordnet.NOUN)) for word, pos in pos_tagged_text])\n",
        "\n",
        "df[\"text_lemmatized\"] = df[\"text_wo_htmlno\"].apply(lambda text: lemmatize_words(text))\n",
        "df.head()"
      ],
      "execution_count": null,
      "outputs": [
        {
          "output_type": "stream",
          "name": "stdout",
          "text": [
            "[nltk_data] Downloading package averaged_perceptron_tagger to\n",
            "[nltk_data]     /root/nltk_data...\n",
            "[nltk_data]   Package averaged_perceptron_tagger is already up-to-\n",
            "[nltk_data]       date!\n"
          ]
        },
        {
          "output_type": "execute_result",
          "data": {
            "text/html": [
              "<div>\n",
              "<style scoped>\n",
              "    .dataframe tbody tr th:only-of-type {\n",
              "        vertical-align: middle;\n",
              "    }\n",
              "\n",
              "    .dataframe tbody tr th {\n",
              "        vertical-align: top;\n",
              "    }\n",
              "\n",
              "    .dataframe thead th {\n",
              "        text-align: right;\n",
              "    }\n",
              "</style>\n",
              "<table border=\"1\" class=\"dataframe\">\n",
              "  <thead>\n",
              "    <tr style=\"text-align: right;\">\n",
              "      <th></th>\n",
              "      <th>text</th>\n",
              "      <th>HS</th>\n",
              "      <th>TR</th>\n",
              "      <th>AG</th>\n",
              "      <th>tweet</th>\n",
              "      <th>text_lower</th>\n",
              "      <th>text_wo_punct</th>\n",
              "      <th>text_wo_stop</th>\n",
              "      <th>text_wo_urlno</th>\n",
              "      <th>text_wo_htmlno</th>\n",
              "      <th>text_lemmatized</th>\n",
              "    </tr>\n",
              "  </thead>\n",
              "  <tbody>\n",
              "    <tr>\n",
              "      <th>0</th>\n",
              "      <td>Definitely not! I have the same thought, kind ...</td>\n",
              "      <td>0</td>\n",
              "      <td>0</td>\n",
              "      <td>0</td>\n",
              "      <td>Definitely not! I have the same thought, kind ...</td>\n",
              "      <td>definitely not! i have the same thought, kind ...</td>\n",
              "      <td>definitely not i have the same thought kind of...</td>\n",
              "      <td>definitely thought kind 😁 hope hes massive str...</td>\n",
              "      <td>definitely thought kind 😁 hope hes massive str...</td>\n",
              "      <td>definitely thought kind 😁 hope hes massive str...</td>\n",
              "      <td>definitely think kind 😁 hope he massive stroke...</td>\n",
              "    </tr>\n",
              "    <tr>\n",
              "      <th>1</th>\n",
              "      <td>Of course the Toronto attack is a cover up! Go...</td>\n",
              "      <td>1</td>\n",
              "      <td>0</td>\n",
              "      <td>1</td>\n",
              "      <td>Of course the Toronto attack is a cover up! Go...</td>\n",
              "      <td>of course the toronto attack is a cover up! go...</td>\n",
              "      <td>of course the toronto attack is a cover up god...</td>\n",
              "      <td>course toronto attack cover god forbid public ...</td>\n",
              "      <td>course toronto attack cover god forbid public ...</td>\n",
              "      <td>course toronto attack cover god forbid public ...</td>\n",
              "      <td>course toronto attack cover god forbid public ...</td>\n",
              "    </tr>\n",
              "    <tr>\n",
              "      <th>2</th>\n",
              "      <td>When your friend owes you money and they're ta...</td>\n",
              "      <td>0</td>\n",
              "      <td>0</td>\n",
              "      <td>0</td>\n",
              "      <td>When your friend owes you money and they're ta...</td>\n",
              "      <td>when your friend owes you money and they're ta...</td>\n",
              "      <td>when your friend owes you money and theyre tak...</td>\n",
              "      <td>friend owes money theyre taking little long pa...</td>\n",
              "      <td>friend owes money theyre taking little long pa...</td>\n",
              "      <td>friend owes money theyre taking little long pa...</td>\n",
              "      <td>friend owe money theyre take little long pay back</td>\n",
              "    </tr>\n",
              "    <tr>\n",
              "      <th>3</th>\n",
              "      <td>Maybe diversity.Or results of western globaliz...</td>\n",
              "      <td>0</td>\n",
              "      <td>0</td>\n",
              "      <td>0</td>\n",
              "      <td>Maybe diversity.Or results of western globaliz...</td>\n",
              "      <td>maybe diversity.or results of western globaliz...</td>\n",
              "      <td>maybe diversityor results of western globaliza...</td>\n",
              "      <td>maybe diversityor results western globalizatio...</td>\n",
              "      <td>maybe diversityor results western globalizatio...</td>\n",
              "      <td>maybe diversityor results western globalizatio...</td>\n",
              "      <td>maybe diversityor result western globalization...</td>\n",
              "    </tr>\n",
              "    <tr>\n",
              "      <th>4</th>\n",
              "      <td>#50CentFrostyFilms Look At My Half Dollar PopS...</td>\n",
              "      <td>0</td>\n",
              "      <td>0</td>\n",
              "      <td>0</td>\n",
              "      <td>#50CentFrostyFilms Look At My Half Dollar PopS...</td>\n",
              "      <td>#50centfrostyfilms look at my half dollar pops...</td>\n",
              "      <td>50centfrostyfilms look at my half dollar popsi...</td>\n",
              "      <td>50centfrostyfilms look half dollar popsicle bi...</td>\n",
              "      <td>50centfrostyfilms look half dollar popsicle bi...</td>\n",
              "      <td>50centfrostyfilms look half dollar popsicle bi...</td>\n",
              "      <td>50centfrostyfilms look half dollar popsicle bi...</td>\n",
              "    </tr>\n",
              "  </tbody>\n",
              "</table>\n",
              "</div>"
            ],
            "text/plain": [
              "                                                text  ...                                    text_lemmatized\n",
              "0  Definitely not! I have the same thought, kind ...  ...  definitely think kind 😁 hope he massive stroke...\n",
              "1  Of course the Toronto attack is a cover up! Go...  ...  course toronto attack cover god forbid public ...\n",
              "2  When your friend owes you money and they're ta...  ...  friend owe money theyre take little long pay back\n",
              "3  Maybe diversity.Or results of western globaliz...  ...  maybe diversityor result western globalization...\n",
              "4  #50CentFrostyFilms Look At My Half Dollar PopS...  ...  50centfrostyfilms look half dollar popsicle bi...\n",
              "\n",
              "[5 rows x 11 columns]"
            ]
          },
          "metadata": {},
          "execution_count": 24
        }
      ]
    },
    {
      "cell_type": "code",
      "metadata": {
        "colab": {
          "base_uri": "https://localhost:8080/"
        },
        "id": "pMQKNX0wkt3p",
        "outputId": "2f79f04e-013d-4c1f-a4b2-28daa0245cae"
      },
      "source": [
        "df['text_lemmatized'].to_list"
      ],
      "execution_count": null,
      "outputs": [
        {
          "output_type": "execute_result",
          "data": {
            "text/plain": [
              "<bound method IndexOpsMixin.tolist of 0        definitely think kind 😁 hope he massive stroke...\n",
              "1        course toronto attack cover god forbid public ...\n",
              "2        friend owe money theyre take little long pay back\n",
              "3        maybe diversityor result western globalization...\n",
              "4        50centfrostyfilms look half dollar popsicle bi...\n",
              "                               ...                        \n",
              "11995    lmao guy remember someone hack twitter call wh...\n",
              "11996    many daca arrest smuggle people bordernodaca n...\n",
              "11997    dont get excite may talk shes probably talk 4 ...\n",
              "11998    bitch like man never cheat lol nah bitch youre...\n",
              "11999    tho racisthomophobic whore get much success su...\n",
              "Name: text_lemmatized, Length: 12000, dtype: object>"
            ]
          },
          "metadata": {},
          "execution_count": 25
        }
      ]
    },
    {
      "cell_type": "markdown",
      "metadata": {
        "id": "hzHkO2K-ESU5"
      },
      "source": [
        "WORD CLOUD \n",
        "\n",
        "\n"
      ]
    },
    {
      "cell_type": "code",
      "metadata": {
        "colab": {
          "base_uri": "https://localhost:8080/",
          "height": 607
        },
        "id": "W9X7X68mDoZ-",
        "outputId": "d248ccf7-3873-40b0-bbdd-4f2377c19b3e"
      },
      "source": [
        "comments = df['text'].loc[df['HS']==1].values\n",
        "wordcloud = WordCloud(\n",
        "    width = 640,\n",
        "    height = 640,\n",
        "    background_color = 'black',\n",
        "    stopwords = STOPWORDS).generate(str(comments))\n",
        "fig = plt.figure(\n",
        "    figsize = (12, 8),\n",
        "    facecolor = 'k',\n",
        "    edgecolor = 'k')\n",
        "plt.imshow(wordcloud, interpolation = 'bilinear')\n",
        "plt.axis('off')\n",
        "plt.tight_layout(pad=0)\n",
        "plt.show()"
      ],
      "execution_count": null,
      "outputs": [
        {
          "output_type": "display_data",
          "data": {
            "image/png": "[encoded data removed]",
            "text/plain": [
              "<Figure size 864x576 with 1 Axes>"
            ]
          },
          "metadata": {}
        }
      ]
    },
    {
      "cell_type": "code",
      "metadata": {
        "colab": {
          "base_uri": "https://localhost:8080/",
          "height": 380
        },
        "id": "8lt-SMggEefG",
        "outputId": "42449502-a250-4f02-fcce-99566c63a1e7"
      },
      "source": [
        "# Plot frequency of hateful comments\n",
        "fig = sns.distplot(df['HS'], kde=False)\n",
        "plt.xlabel(\"Hate Speech Label\")\n",
        "plt.ylabel(\"Count\")\n",
        "plt.title(\"Distribution of Hateful Comments\")\n",
        "plt.show(fig)"
      ],
      "execution_count": null,
      "outputs": [
        {
          "output_type": "stream",
          "name": "stderr",
          "text": [
            "/usr/local/lib/python3.7/dist-packages/seaborn/distributions.py:2619: FutureWarning: `distplot` is a deprecated function and will be removed in a future version. Please adapt your code to use either `displot` (a figure-level function with similar flexibility) or `histplot` (an axes-level function for histograms).\n",
            "  warnings.warn(msg, FutureWarning)\n"
          ]
        },
        {
          "output_type": "display_data",
          "data": {
            "image/png": "[encoded data removed]",
            "text/plain": [
              "<Figure size 432x288 with 1 Axes>"
            ]
          },
          "metadata": {}
        }
      ]
    },
    {
      "cell_type": "code",
      "metadata": {
        "colab": {
          "base_uri": "https://localhost:8080/"
        },
        "id": "oBQErGKIExi2",
        "outputId": "977f7f6d-96d4-449a-8600-8320226c95da"
      },
      "source": [
        "df['HS'].value_counts()\n"
      ],
      "execution_count": null,
      "outputs": [
        {
          "output_type": "execute_result",
          "data": {
            "text/plain": [
              "0    6957\n",
              "1    5043\n",
              "Name: HS, dtype: int64"
            ]
          },
          "metadata": {},
          "execution_count": 28
        }
      ]
    },
    {
      "cell_type": "markdown",
      "metadata": {
        "id": "MzjUO445oJS7"
      },
      "source": [
        "TOKENIZATION"
      ]
    },
    {
      "cell_type": "code",
      "metadata": {
        "colab": {
          "base_uri": "https://localhost:8080/"
        },
        "id": "n1wRiYmFoKtD",
        "outputId": "498bd27e-2805-4281-fb01-43384530ac10"
      },
      "source": [
        "nltk.download('punkt')\n",
        "\n",
        "nltk_token = df[\"text_lemmatized\"].apply(lambda text:  nltk.word_tokenize(text))\n",
        "#df.head()\n",
        "print(nltk_token)\n",
        "#nltk_tokens = nltk.sent_tokenize(df['text_lemmatized'])\n",
        "#print (nltk_tokens)"
      ],
      "execution_count": null,
      "outputs": [
        {
          "output_type": "stream",
          "name": "stdout",
          "text": [
            "[nltk_data] Downloading package punkt to /root/nltk_data...\n",
            "[nltk_data]   Package punkt is already up-to-date!\n",
            "0        [definitely, think, kind, 😁, hope, he, massive...\n",
            "1        [course, toronto, attack, cover, god, forbid, ...\n",
            "2        [friend, owe, money, theyre, take, little, lon...\n",
            "3        [maybe, diversityor, result, western, globaliz...\n",
            "4        [50centfrostyfilms, look, half, dollar, popsic...\n",
            "                               ...                        \n",
            "11995    [lmao, guy, remember, someone, hack, twitter, ...\n",
            "11996    [many, daca, arrest, smuggle, people, borderno...\n",
            "11997    [dont, get, excite, may, talk, shes, probably,...\n",
            "11998    [bitch, like, man, never, cheat, lol, nah, bit...\n",
            "11999    [tho, racisthomophobic, whore, get, much, succ...\n",
            "Name: text_lemmatized, Length: 12000, dtype: object\n"
          ]
        }
      ]
    },
    {
      "cell_type": "code",
      "metadata": {
        "colab": {
          "base_uri": "https://localhost:8080/",
          "height": 469
        },
        "id": "bnk5bAE4GPUw",
        "outputId": "f4f56492-0357-43df-e78a-b2d632da1482"
      },
      "source": [
        "df[[\"tokenized_text\"]] = nltk_token\n",
        "df.head()"
      ],
      "execution_count": null,
      "outputs": [
        {
          "output_type": "execute_result",
          "data": {
            "text/html": [
              "<div>\n",
              "<style scoped>\n",
              "    .dataframe tbody tr th:only-of-type {\n",
              "        vertical-align: middle;\n",
              "    }\n",
              "\n",
              "    .dataframe tbody tr th {\n",
              "        vertical-align: top;\n",
              "    }\n",
              "\n",
              "    .dataframe thead th {\n",
              "        text-align: right;\n",
              "    }\n",
              "</style>\n",
              "<table border=\"1\" class=\"dataframe\">\n",
              "  <thead>\n",
              "    <tr style=\"text-align: right;\">\n",
              "      <th></th>\n",
              "      <th>text</th>\n",
              "      <th>HS</th>\n",
              "      <th>TR</th>\n",
              "      <th>AG</th>\n",
              "      <th>tweet</th>\n",
              "      <th>text_lower</th>\n",
              "      <th>text_wo_punct</th>\n",
              "      <th>text_wo_stop</th>\n",
              "      <th>text_wo_urlno</th>\n",
              "      <th>text_wo_htmlno</th>\n",
              "      <th>text_lemmatized</th>\n",
              "      <th>tokenized_text</th>\n",
              "    </tr>\n",
              "  </thead>\n",
              "  <tbody>\n",
              "    <tr>\n",
              "      <th>0</th>\n",
              "      <td>Definitely not! I have the same thought, kind ...</td>\n",
              "      <td>0</td>\n",
              "      <td>0</td>\n",
              "      <td>0</td>\n",
              "      <td>Definitely not! I have the same thought, kind ...</td>\n",
              "      <td>definitely not! i have the same thought, kind ...</td>\n",
              "      <td>definitely not i have the same thought kind of...</td>\n",
              "      <td>definitely thought kind 😁 hope hes massive str...</td>\n",
              "      <td>definitely thought kind 😁 hope hes massive str...</td>\n",
              "      <td>definitely thought kind 😁 hope hes massive str...</td>\n",
              "      <td>definitely think kind 😁 hope he massive stroke...</td>\n",
              "      <td>[definitely, think, kind, 😁, hope, he, massive...</td>\n",
              "    </tr>\n",
              "    <tr>\n",
              "      <th>1</th>\n",
              "      <td>Of course the Toronto attack is a cover up! Go...</td>\n",
              "      <td>1</td>\n",
              "      <td>0</td>\n",
              "      <td>1</td>\n",
              "      <td>Of course the Toronto attack is a cover up! Go...</td>\n",
              "      <td>of course the toronto attack is a cover up! go...</td>\n",
              "      <td>of course the toronto attack is a cover up god...</td>\n",
              "      <td>course toronto attack cover god forbid public ...</td>\n",
              "      <td>course toronto attack cover god forbid public ...</td>\n",
              "      <td>course toronto attack cover god forbid public ...</td>\n",
              "      <td>course toronto attack cover god forbid public ...</td>\n",
              "      <td>[course, toronto, attack, cover, god, forbid, ...</td>\n",
              "    </tr>\n",
              "    <tr>\n",
              "      <th>2</th>\n",
              "      <td>When your friend owes you money and they're ta...</td>\n",
              "      <td>0</td>\n",
              "      <td>0</td>\n",
              "      <td>0</td>\n",
              "      <td>When your friend owes you money and they're ta...</td>\n",
              "      <td>when your friend owes you money and they're ta...</td>\n",
              "      <td>when your friend owes you money and theyre tak...</td>\n",
              "      <td>friend owes money theyre taking little long pa...</td>\n",
              "      <td>friend owes money theyre taking little long pa...</td>\n",
              "      <td>friend owes money theyre taking little long pa...</td>\n",
              "      <td>friend owe money theyre take little long pay back</td>\n",
              "      <td>[friend, owe, money, theyre, take, little, lon...</td>\n",
              "    </tr>\n",
              "    <tr>\n",
              "      <th>3</th>\n",
              "      <td>Maybe diversity.Or results of western globaliz...</td>\n",
              "      <td>0</td>\n",
              "      <td>0</td>\n",
              "      <td>0</td>\n",
              "      <td>Maybe diversity.Or results of western globaliz...</td>\n",
              "      <td>maybe diversity.or results of western globaliz...</td>\n",
              "      <td>maybe diversityor results of western globaliza...</td>\n",
              "      <td>maybe diversityor results western globalizatio...</td>\n",
              "      <td>maybe diversityor results western globalizatio...</td>\n",
              "      <td>maybe diversityor results western globalizatio...</td>\n",
              "      <td>maybe diversityor result western globalization...</td>\n",
              "      <td>[maybe, diversityor, result, western, globaliz...</td>\n",
              "    </tr>\n",
              "    <tr>\n",
              "      <th>4</th>\n",
              "      <td>#50CentFrostyFilms Look At My Half Dollar PopS...</td>\n",
              "      <td>0</td>\n",
              "      <td>0</td>\n",
              "      <td>0</td>\n",
              "      <td>#50CentFrostyFilms Look At My Half Dollar PopS...</td>\n",
              "      <td>#50centfrostyfilms look at my half dollar pops...</td>\n",
              "      <td>50centfrostyfilms look at my half dollar popsi...</td>\n",
              "      <td>50centfrostyfilms look half dollar popsicle bi...</td>\n",
              "      <td>50centfrostyfilms look half dollar popsicle bi...</td>\n",
              "      <td>50centfrostyfilms look half dollar popsicle bi...</td>\n",
              "      <td>50centfrostyfilms look half dollar popsicle bi...</td>\n",
              "      <td>[50centfrostyfilms, look, half, dollar, popsic...</td>\n",
              "    </tr>\n",
              "  </tbody>\n",
              "</table>\n",
              "</div>"
            ],
            "text/plain": [
              "                                                text  ...                                     tokenized_text\n",
              "0  Definitely not! I have the same thought, kind ...  ...  [definitely, think, kind, 😁, hope, he, massive...\n",
              "1  Of course the Toronto attack is a cover up! Go...  ...  [course, toronto, attack, cover, god, forbid, ...\n",
              "2  When your friend owes you money and they're ta...  ...  [friend, owe, money, theyre, take, little, lon...\n",
              "3  Maybe diversity.Or results of western globaliz...  ...  [maybe, diversityor, result, western, globaliz...\n",
              "4  #50CentFrostyFilms Look At My Half Dollar PopS...  ...  [50centfrostyfilms, look, half, dollar, popsic...\n",
              "\n",
              "[5 rows x 12 columns]"
            ]
          },
          "metadata": {},
          "execution_count": 30
        }
      ]
    },
    {
      "cell_type": "markdown",
      "metadata": {
        "id": "sFzGPKY8h3j8"
      },
      "source": [
        "RF\n"
      ]
    },
    {
      "cell_type": "markdown",
      "metadata": {
        "id": "gVGPqPrW0dfh"
      },
      "source": [
        "We are converting words to glove embeddings and then finding sentence embeddings.The ith value in the sentence embedding will be the mean of the ith values in the word embedding of all the words in the sentence.\n",
        "The GloVe embeddings are converted to word2vec format"
      ]
    },
    {
      "cell_type": "code",
      "metadata": {
        "id": "4b58c774"
      },
      "source": [
        "#10-fold cross validation for hyperparamter tuning\n",
        "# Number of trees in random forest\n",
        "n_estimators = [int(x) for x in np.linspace(start = 10, stop = 100, num = 10)]\n",
        "# Number of features to consider at every split\n",
        "max_features = ['log2', 'sqrt']\n",
        "# Maximum number of levels in tree\n",
        "max_depth = [int(x) for x in np.linspace(10, 110, num = 5)]\n",
        "max_depth.append(None)\n",
        "# Minimum number of samples required to split a node\n",
        "min_samples_split = [2, 5, 10]\n",
        "# Minimum number of samples required at each leaf node\n",
        "min_samples_leaf = [1, 2, 4]\n",
        "# Method of selecting samples for training each tree\n",
        "bootstrap = [True, False]"
      ],
      "execution_count": null,
      "outputs": []
    },
    {
      "cell_type": "code",
      "metadata": {
        "id": "xkpl_MWF5dtl"
      },
      "source": [
        "random_rf_random = {'n_estimators': n_estimators,\n",
        "               'max_features': max_features,\n",
        "               'max_depth': max_depth,\n",
        "               'min_samples_split': min_samples_split,\n",
        "               'min_samples_leaf': min_samples_leaf,\n",
        "               'bootstrap': bootstrap}"
      ],
      "execution_count": null,
      "outputs": []
    },
    {
      "cell_type": "code",
      "metadata": {
        "id": "4JzMSPW85wym"
      },
      "source": [
        "df_p= df['text_lemmatized']\n",
        "df_n= df['HS']"
      ],
      "execution_count": null,
      "outputs": []
    },
    {
      "cell_type": "code",
      "metadata": {
        "id": "D2cYAlXvL3iT"
      },
      "source": [
        "def classify(x):\n",
        "  if x>0.5:\n",
        "    return 1\n",
        "  else:\n",
        "    return 0"
      ],
      "execution_count": null,
      "outputs": []
    },
    {
      "cell_type": "code",
      "metadata": {
        "id": "muCXD_HNXsFo"
      },
      "source": [
        "\n",
        "def rf_model(df_p,df_n):\n",
        "  class_split=[]\n",
        "  result=[]\n",
        "  best_score=[]\n",
        "  validation=[]\n",
        "  test=[]\n",
        "\n",
        "\n",
        "  for i in range(1):\n",
        "    print(i)\n",
        "\n",
        "    # split\n",
        "    x_train, x_test, y_train, y_test = train_test_split(df_p,df_n, test_size=0.20,random_state=3)\n",
        "    vectorizer = Word2VecVectorizer(model)\n",
        "      # Get the sentence embeddings for the train dataset\n",
        "    X_train = vectorizer.fit_transform(x_train)\n",
        "    # Get the sentence embeddings for the test dataset\n",
        "    X_test = vectorizer.transform(x_test)\n",
        "\n",
        "    #number of positives and negatives\n",
        "    class_split.append({'split_no': i,'train_p':sum(y_train==1),'train_n':sum(y_train==0),'test_p':sum(y_test==1),'test_n':sum(y_test==0)})\n",
        "\n",
        "    #rf_random search\n",
        "    rf = RandomForestRegressor()\n",
        "    rf_random = RandomizedSearchCV(estimator = rf, param_distributions = random_rf_random, n_iter = 100, cv = 5, verbose=2, random_state=42, n_jobs = -1)\n",
        "    rf_random.fit(X_train, y_train)\n",
        "    #probability\n",
        "    train_prob=rf_random.predict(X_train)\n",
        "    test_prob=rf_random.predict(X_test)\n",
        "    #classes\n",
        "    y_train_pred=[classify(x) for x in train_prob ]\n",
        "    y_test_pred= [classify(x) for x in test_prob ]# #best score and parameters\n",
        "  \n",
        "    best_score.append({'split':i,'score':rf_random.best_score_,'params':rf_random.best_params_})\n",
        "    # # results of each split\n",
        "    res = pd.DataFrame(rf_random.cv_results_)\n",
        "    result.append(res)\n",
        "\n",
        "    TN,FP,FN,TP = confusion_matrix(y_train,y_train_pred, labels=[0, 1]).ravel()\n",
        "    # # #Sensitivity, hit rate, recall, or true positive rate\n",
        "    TPR = TP/(TP+FN)\n",
        "    # # # Specificity or true negative rate\n",
        "    TNR = TN/(TN+FP) \n",
        "    # # # Overall accuracy\n",
        "    ACC = (TP+TN)/(TP+FP+FN+TN)\n",
        "    # MCC=matthews_corrcoef(y_train,y_train_pred)\n",
        "    # # #F1 score\n",
        "    f1= f1_score(y_train,y_train_pred)\n",
        "    # # #precision\n",
        "    train_pr= precision_score(y_train,y_train_pred)\n",
        "    # # #recall\n",
        "    train_re = recall_score(y_train,y_train_pred)\n",
        "    # PR AUC\n",
        "    # pr_auc_train= average_precision_score(y_train,train_prob)\n",
        "    # ROC AUC\n",
        "    # roc_auc_train= roc_auc_score(y_train,train_prob)\n",
        "\n",
        "    # # #creating dataframe\n",
        "    validation.append({\"Split\": i,\"Sensitivity\":TPR,\"Specificity\":TNR,\"Accuracy\":ACC,\n",
        "                      \"Recall\":train_re,\"Precision\":train_pr,\"F1_score\":f1})\n",
        "                      #  \"PR_AUC\":pr_auc_train,\"ROC_AUC\":roc_auc_train})\n",
        "\n",
        "    # #storing validation metrics\n",
        "    tn,fp,fn,tp = confusion_matrix(y_test,y_test_pred,labels=[0, 1]).ravel()\n",
        "    sensitivity= tp/(tp+fn)\n",
        "    specificity = tn/(tn+fp)\n",
        "    acc = (tp+tn)/(tp+fn+fp+tn)\n",
        "    # mcc= matthews_corrcoef(y_test,y_test_pred)\n",
        "    #F1 score\n",
        "    f1_test= f1_score(y_test,y_test_pred)\n",
        "    #precision\n",
        "    test_pr= precision_score(y_test,y_test_pred)\n",
        "    #recall\n",
        "    test_re = recall_score(y_test,y_test_pred)\n",
        "    # PR AUC\n",
        "    # pr_auc_test= average_precision_score(y_test,test_prob)\n",
        "    # ROC AUC\n",
        "    # roc_auc_test= roc_auc_score(y_test,test_prob)\n",
        "    test.append({\"Split\": i,\n",
        "                \"Sensitivity\":sensitivity,\"Specificity\":specificity,\"Accuracy\":acc,\n",
        "                \"Recall\":test_re,\"Precision\":test_pr,\"F1_score\":f1_test})\n",
        "    # \"PR_AUC\":pr_auc_test,\"ROC_AUC\":roc_auc_test})\n",
        "    \n",
        "    return test,validation,result,best_score,class_split\n"
      ],
      "execution_count": null,
      "outputs": []
    },
    {
      "cell_type": "code",
      "metadata": {
        "colab": {
          "base_uri": "https://localhost:8080/"
        },
        "id": "3yIQz0kNaZ5o",
        "outputId": "292d6d73-123f-450a-ae66-28b9daf657fc"
      },
      "source": [
        "test,validation,result,best_score,class_splits = rf_model(df_p,df_n)"
      ],
      "execution_count": null,
      "outputs": [
        {
          "metadata": {
            "tags": null
          },
          "name": "stdout",
          "output_type": "stream",
          "text": [
            "0\n",
            "Loading in word vectors...\n",
            "Finished loading in word vectors\n",
            "Numer of samples with no words found: 46 / 9600\n",
            "Numer of samples with no words found: 10 / 2400\n",
            "Fitting 5 folds for each of 100 candidates, totalling 500 fits\n"
          ]
        }
      ]
    },
    {
      "cell_type": "code",
      "metadata": {
        "colab": {
          "base_uri": "https://localhost:8080/"
        },
        "id": "-OrMfvXdbiCG",
        "outputId": "ba016f5a-6ae0-453f-90e2-47b5e8f8b7a6"
      },
      "source": [
        "df_t= df.loc[df['HS']==1]\n",
        "\n",
        "df_t_p= df_t['text_lemmatized']\n",
        "df_t_n= df_t['TR']\n",
        "\n",
        "test_t,validation_t,result_t,best_score_t,class_splits_t= rf_model(df_t_p,df_t_n)\n"
      ],
      "execution_count": null,
      "outputs": [
        {
          "metadata": {
            "tags": null
          },
          "name": "stdout",
          "output_type": "stream",
          "text": [
            "0\n",
            "Loading in word vectors...\n",
            "Finished loading in word vectors\n",
            "Numer of samples with no words found: 9 / 4034\n",
            "Numer of samples with no words found: 4 / 1009\n",
            "Fitting 5 folds for each of 100 candidates, totalling 500 fits\n"
          ]
        }
      ]
    },
    {
      "cell_type": "code",
      "metadata": {
        "colab": {
          "base_uri": "https://localhost:8080/"
        },
        "id": "5L7zC1IGcLJc",
        "outputId": "1341f66e-1525-49af-a7cb-0fac3e73bc4b"
      },
      "source": [
        "df_a_n=df_t['AG']\n",
        "test_a,validation_a,result_a,best_score_a,class_splits_a = rf_model(df_t_p,df_a_n)"
      ],
      "execution_count": null,
      "outputs": [
        {
          "metadata": {
            "tags": null
          },
          "name": "stdout",
          "output_type": "stream",
          "text": [
            "0\n",
            "Loading in word vectors...\n",
            "Finished loading in word vectors\n",
            "Numer of samples with no words found: 9 / 4034\n",
            "Numer of samples with no words found: 4 / 1009\n",
            "Fitting 5 folds for each of 100 candidates, totalling 500 fits\n"
          ]
        }
      ]
    },
    {
      "cell_type": "code",
      "metadata": {
        "id": "1PBkAq3uWgtp"
      },
      "source": [
        "valid_df= pd.DataFrame(validation)\n",
        "test_df=pd.DataFrame(test)\n",
        "splits= pd.DataFrame(class_splits)\n",
        "score= pd.DataFrame(best_score)"
      ],
      "execution_count": null,
      "outputs": []
    },
    {
      "cell_type": "code",
      "metadata": {
        "colab": {
          "base_uri": "https://localhost:8080/",
          "height": 81
        },
        "id": "cl-YDsDeXQhO",
        "outputId": "5639e80c-241f-4b21-f3e1-604006c5585c"
      },
      "source": [
        "splits"
      ],
      "execution_count": null,
      "outputs": [
        {
          "output_type": "execute_result",
          "data": {
            "text/html": [
              "<div>\n",
              "<style scoped>\n",
              "    .dataframe tbody tr th:only-of-type {\n",
              "        vertical-align: middle;\n",
              "    }\n",
              "\n",
              "    .dataframe tbody tr th {\n",
              "        vertical-align: top;\n",
              "    }\n",
              "\n",
              "    .dataframe thead th {\n",
              "        text-align: right;\n",
              "    }\n",
              "</style>\n",
              "<table border=\"1\" class=\"dataframe\">\n",
              "  <thead>\n",
              "    <tr style=\"text-align: right;\">\n",
              "      <th></th>\n",
              "      <th>split_no</th>\n",
              "      <th>train_p</th>\n",
              "      <th>train_n</th>\n",
              "      <th>test_p</th>\n",
              "      <th>test_n</th>\n",
              "    </tr>\n",
              "  </thead>\n",
              "  <tbody>\n",
              "    <tr>\n",
              "      <th>0</th>\n",
              "      <td>0</td>\n",
              "      <td>4035</td>\n",
              "      <td>5565</td>\n",
              "      <td>1008</td>\n",
              "      <td>1392</td>\n",
              "    </tr>\n",
              "  </tbody>\n",
              "</table>\n",
              "</div>"
            ],
            "text/plain": [
              "   split_no  train_p  train_n  test_p  test_n\n",
              "0         0     4035     5565    1008    1392"
            ]
          },
          "metadata": {},
          "execution_count": 47
        }
      ]
    },
    {
      "cell_type": "code",
      "metadata": {
        "colab": {
          "base_uri": "https://localhost:8080/"
        },
        "id": "lBMNnc2pXdL8",
        "outputId": "8a05c00b-727e-4f67-e5c6-df4a0e5d0195"
      },
      "source": [
        "score['params'].to_list()"
      ],
      "execution_count": null,
      "outputs": [
        {
          "output_type": "execute_result",
          "data": {
            "text/plain": [
              "[{'bootstrap': False,\n",
              "  'max_depth': None,\n",
              "  'max_features': 'sqrt',\n",
              "  'min_samples_leaf': 4,\n",
              "  'min_samples_split': 10,\n",
              "  'n_estimators': 80}]"
            ]
          },
          "metadata": {},
          "execution_count": 76
        }
      ]
    },
    {
      "cell_type": "code",
      "metadata": {
        "colab": {
          "base_uri": "https://localhost:8080/",
          "height": 81
        },
        "id": "ddXc-0xWXd0t",
        "outputId": "3985eba5-33e5-412d-ec1c-191c9ae1fc0d"
      },
      "source": [
        "test_df"
      ],
      "execution_count": null,
      "outputs": [
        {
          "output_type": "execute_result",
          "data": {
            "text/html": [
              "<div>\n",
              "<style scoped>\n",
              "    .dataframe tbody tr th:only-of-type {\n",
              "        vertical-align: middle;\n",
              "    }\n",
              "\n",
              "    .dataframe tbody tr th {\n",
              "        vertical-align: top;\n",
              "    }\n",
              "\n",
              "    .dataframe thead th {\n",
              "        text-align: right;\n",
              "    }\n",
              "</style>\n",
              "<table border=\"1\" class=\"dataframe\">\n",
              "  <thead>\n",
              "    <tr style=\"text-align: right;\">\n",
              "      <th></th>\n",
              "      <th>Split</th>\n",
              "      <th>Sensitivity</th>\n",
              "      <th>Specificity</th>\n",
              "      <th>Accuracy</th>\n",
              "      <th>Recall</th>\n",
              "      <th>Precision</th>\n",
              "      <th>F1_score</th>\n",
              "    </tr>\n",
              "  </thead>\n",
              "  <tbody>\n",
              "    <tr>\n",
              "      <th>0</th>\n",
              "      <td>0</td>\n",
              "      <td>0.458333</td>\n",
              "      <td>0.817529</td>\n",
              "      <td>0.666667</td>\n",
              "      <td>0.458333</td>\n",
              "      <td>0.645251</td>\n",
              "      <td>0.535963</td>\n",
              "    </tr>\n",
              "  </tbody>\n",
              "</table>\n",
              "</div>"
            ],
            "text/plain": [
              "   Split  Sensitivity  Specificity  Accuracy    Recall  Precision  F1_score\n",
              "0      0     0.458333     0.817529  0.666667  0.458333   0.645251  0.535963"
            ]
          },
          "metadata": {},
          "execution_count": 49
        }
      ]
    },
    {
      "cell_type": "code",
      "metadata": {
        "colab": {
          "base_uri": "https://localhost:8080/",
          "height": 81
        },
        "id": "uMaIfU4RXhro",
        "outputId": "8faffdcf-c25e-4e08-adcf-ac2326738827"
      },
      "source": [
        "valid_df"
      ],
      "execution_count": null,
      "outputs": [
        {
          "output_type": "execute_result",
          "data": {
            "text/html": [
              "<div>\n",
              "<style scoped>\n",
              "    .dataframe tbody tr th:only-of-type {\n",
              "        vertical-align: middle;\n",
              "    }\n",
              "\n",
              "    .dataframe tbody tr th {\n",
              "        vertical-align: top;\n",
              "    }\n",
              "\n",
              "    .dataframe thead th {\n",
              "        text-align: right;\n",
              "    }\n",
              "</style>\n",
              "<table border=\"1\" class=\"dataframe\">\n",
              "  <thead>\n",
              "    <tr style=\"text-align: right;\">\n",
              "      <th></th>\n",
              "      <th>Split</th>\n",
              "      <th>Sensitivity</th>\n",
              "      <th>Specificity</th>\n",
              "      <th>Accuracy</th>\n",
              "      <th>Recall</th>\n",
              "      <th>Precision</th>\n",
              "      <th>F1_score</th>\n",
              "    </tr>\n",
              "  </thead>\n",
              "  <tbody>\n",
              "    <tr>\n",
              "      <th>0</th>\n",
              "      <td>0</td>\n",
              "      <td>0.980917</td>\n",
              "      <td>0.997305</td>\n",
              "      <td>0.990417</td>\n",
              "      <td>0.980917</td>\n",
              "      <td>0.996225</td>\n",
              "      <td>0.988511</td>\n",
              "    </tr>\n",
              "  </tbody>\n",
              "</table>\n",
              "</div>"
            ],
            "text/plain": [
              "   Split  Sensitivity  Specificity  Accuracy    Recall  Precision  F1_score\n",
              "0      0     0.980917     0.997305  0.990417  0.980917   0.996225  0.988511"
            ]
          },
          "metadata": {},
          "execution_count": 50
        }
      ]
    },
    {
      "cell_type": "code",
      "metadata": {
        "id": "Of6m3q_JeDTv"
      },
      "source": [
        "targeted_test_df=pd.DataFrame(test_t)\n",
        "targeted_valid_df=pd.DataFrame(validation_t)\n",
        "targeted_splits= pd.DataFrame(class_splits_t)\n",
        "targeted_score=pd.DataFrame(best_score_t)"
      ],
      "execution_count": null,
      "outputs": []
    },
    {
      "cell_type": "code",
      "metadata": {
        "colab": {
          "base_uri": "https://localhost:8080/",
          "height": 81
        },
        "id": "pj2V5jtdAeCM",
        "outputId": "dd92383f-0f9f-4236-ac37-7c0ca57309b3"
      },
      "source": [
        "targeted_test_df"
      ],
      "execution_count": null,
      "outputs": [
        {
          "output_type": "execute_result",
          "data": {
            "text/html": [
              "<div>\n",
              "<style scoped>\n",
              "    .dataframe tbody tr th:only-of-type {\n",
              "        vertical-align: middle;\n",
              "    }\n",
              "\n",
              "    .dataframe tbody tr th {\n",
              "        vertical-align: top;\n",
              "    }\n",
              "\n",
              "    .dataframe thead th {\n",
              "        text-align: right;\n",
              "    }\n",
              "</style>\n",
              "<table border=\"1\" class=\"dataframe\">\n",
              "  <thead>\n",
              "    <tr style=\"text-align: right;\">\n",
              "      <th></th>\n",
              "      <th>Split</th>\n",
              "      <th>Sensitivity</th>\n",
              "      <th>Specificity</th>\n",
              "      <th>Accuracy</th>\n",
              "      <th>Recall</th>\n",
              "      <th>Precision</th>\n",
              "      <th>F1_score</th>\n",
              "    </tr>\n",
              "  </thead>\n",
              "  <tbody>\n",
              "    <tr>\n",
              "      <th>0</th>\n",
              "      <td>0</td>\n",
              "      <td>0.734072</td>\n",
              "      <td>0.87037</td>\n",
              "      <td>0.821606</td>\n",
              "      <td>0.734072</td>\n",
              "      <td>0.759312</td>\n",
              "      <td>0.746479</td>\n",
              "    </tr>\n",
              "  </tbody>\n",
              "</table>\n",
              "</div>"
            ],
            "text/plain": [
              "   Split  Sensitivity  Specificity  Accuracy    Recall  Precision  F1_score\n",
              "0      0     0.734072      0.87037  0.821606  0.734072   0.759312  0.746479"
            ]
          },
          "metadata": {},
          "execution_count": 64
        }
      ]
    },
    {
      "cell_type": "code",
      "metadata": {
        "colab": {
          "base_uri": "https://localhost:8080/",
          "height": 81
        },
        "id": "wnnVWxHHAfxh",
        "outputId": "9b26045c-5bb1-4421-8445-c23ea8c41df5"
      },
      "source": [
        "targeted_valid_df"
      ],
      "execution_count": null,
      "outputs": [
        {
          "output_type": "execute_result",
          "data": {
            "text/html": [
              "<div>\n",
              "<style scoped>\n",
              "    .dataframe tbody tr th:only-of-type {\n",
              "        vertical-align: middle;\n",
              "    }\n",
              "\n",
              "    .dataframe tbody tr th {\n",
              "        vertical-align: top;\n",
              "    }\n",
              "\n",
              "    .dataframe thead th {\n",
              "        text-align: right;\n",
              "    }\n",
              "</style>\n",
              "<table border=\"1\" class=\"dataframe\">\n",
              "  <thead>\n",
              "    <tr style=\"text-align: right;\">\n",
              "      <th></th>\n",
              "      <th>Split</th>\n",
              "      <th>Sensitivity</th>\n",
              "      <th>Specificity</th>\n",
              "      <th>Accuracy</th>\n",
              "      <th>Recall</th>\n",
              "      <th>Precision</th>\n",
              "      <th>F1_score</th>\n",
              "    </tr>\n",
              "  </thead>\n",
              "  <tbody>\n",
              "    <tr>\n",
              "      <th>0</th>\n",
              "      <td>0</td>\n",
              "      <td>0.987409</td>\n",
              "      <td>0.998812</td>\n",
              "      <td>0.994546</td>\n",
              "      <td>0.987409</td>\n",
              "      <td>0.997991</td>\n",
              "      <td>0.992672</td>\n",
              "    </tr>\n",
              "  </tbody>\n",
              "</table>\n",
              "</div>"
            ],
            "text/plain": [
              "   Split  Sensitivity  Specificity  Accuracy    Recall  Precision  F1_score\n",
              "0      0     0.987409     0.998812  0.994546  0.987409   0.997991  0.992672"
            ]
          },
          "metadata": {},
          "execution_count": 65
        }
      ]
    },
    {
      "cell_type": "code",
      "metadata": {
        "colab": {
          "base_uri": "https://localhost:8080/",
          "height": 81
        },
        "id": "5KZ-ykaJAhed",
        "outputId": "577d5f92-1f95-4da4-8057-e40145680d77"
      },
      "source": [
        "targeted_splits"
      ],
      "execution_count": null,
      "outputs": [
        {
          "output_type": "execute_result",
          "data": {
            "text/html": [
              "<div>\n",
              "<style scoped>\n",
              "    .dataframe tbody tr th:only-of-type {\n",
              "        vertical-align: middle;\n",
              "    }\n",
              "\n",
              "    .dataframe tbody tr th {\n",
              "        vertical-align: top;\n",
              "    }\n",
              "\n",
              "    .dataframe thead th {\n",
              "        text-align: right;\n",
              "    }\n",
              "</style>\n",
              "<table border=\"1\" class=\"dataframe\">\n",
              "  <thead>\n",
              "    <tr style=\"text-align: right;\">\n",
              "      <th></th>\n",
              "      <th>split_no</th>\n",
              "      <th>train_p</th>\n",
              "      <th>train_n</th>\n",
              "      <th>test_p</th>\n",
              "      <th>test_n</th>\n",
              "    </tr>\n",
              "  </thead>\n",
              "  <tbody>\n",
              "    <tr>\n",
              "      <th>0</th>\n",
              "      <td>0</td>\n",
              "      <td>1509</td>\n",
              "      <td>2525</td>\n",
              "      <td>361</td>\n",
              "      <td>648</td>\n",
              "    </tr>\n",
              "  </tbody>\n",
              "</table>\n",
              "</div>"
            ],
            "text/plain": [
              "   split_no  train_p  train_n  test_p  test_n\n",
              "0         0     1509     2525     361     648"
            ]
          },
          "metadata": {},
          "execution_count": 68
        }
      ]
    },
    {
      "cell_type": "code",
      "metadata": {
        "colab": {
          "base_uri": "https://localhost:8080/"
        },
        "id": "Fg_6SW1tA56c",
        "outputId": "77fd9664-6513-4f42-b9a3-346b5cfd1ca0"
      },
      "source": [
        "targeted_score['params'].to_list()"
      ],
      "execution_count": null,
      "outputs": [
        {
          "output_type": "execute_result",
          "data": {
            "text/plain": [
              "[{'bootstrap': False,\n",
              "  'max_depth': 60,\n",
              "  'max_features': 'sqrt',\n",
              "  'min_samples_leaf': 4,\n",
              "  'min_samples_split': 10,\n",
              "  'n_estimators': 70}]"
            ]
          },
          "metadata": {},
          "execution_count": 75
        }
      ]
    },
    {
      "cell_type": "code",
      "metadata": {
        "id": "07JGuuq4ea_G"
      },
      "source": [
        "agressive_test_df=pd.DataFrame(test_a)\n",
        "agressive_valid_df=pd.DataFrame(validation_a)\n",
        "agressive_splits= pd.DataFrame(class_splits_a)\n",
        "agressive_score=pd.DataFrame(best_score_a)"
      ],
      "execution_count": null,
      "outputs": []
    },
    {
      "cell_type": "code",
      "metadata": {
        "colab": {
          "base_uri": "https://localhost:8080/",
          "height": 81
        },
        "id": "-f5UveOTApCt",
        "outputId": "6a67bdb7-9588-4650-fa08-7a0b62c87d2a"
      },
      "source": [
        "agressive_test_df"
      ],
      "execution_count": null,
      "outputs": [
        {
          "output_type": "execute_result",
          "data": {
            "text/html": [
              "<div>\n",
              "<style scoped>\n",
              "    .dataframe tbody tr th:only-of-type {\n",
              "        vertical-align: middle;\n",
              "    }\n",
              "\n",
              "    .dataframe tbody tr th {\n",
              "        vertical-align: top;\n",
              "    }\n",
              "\n",
              "    .dataframe thead th {\n",
              "        text-align: right;\n",
              "    }\n",
              "</style>\n",
              "<table border=\"1\" class=\"dataframe\">\n",
              "  <thead>\n",
              "    <tr style=\"text-align: right;\">\n",
              "      <th></th>\n",
              "      <th>Split</th>\n",
              "      <th>Sensitivity</th>\n",
              "      <th>Specificity</th>\n",
              "      <th>Accuracy</th>\n",
              "      <th>Recall</th>\n",
              "      <th>Precision</th>\n",
              "      <th>F1_score</th>\n",
              "    </tr>\n",
              "  </thead>\n",
              "  <tbody>\n",
              "    <tr>\n",
              "      <th>0</th>\n",
              "      <td>0</td>\n",
              "      <td>0.457346</td>\n",
              "      <td>0.773424</td>\n",
              "      <td>0.641229</td>\n",
              "      <td>0.457346</td>\n",
              "      <td>0.592025</td>\n",
              "      <td>0.516043</td>\n",
              "    </tr>\n",
              "  </tbody>\n",
              "</table>\n",
              "</div>"
            ],
            "text/plain": [
              "   Split  Sensitivity  Specificity  Accuracy    Recall  Precision  F1_score\n",
              "0      0     0.457346     0.773424  0.641229  0.457346   0.592025  0.516043"
            ]
          },
          "metadata": {},
          "execution_count": 69
        }
      ]
    },
    {
      "cell_type": "code",
      "metadata": {
        "colab": {
          "base_uri": "https://localhost:8080/",
          "height": 81
        },
        "id": "ix37i9bqArWA",
        "outputId": "5e28783c-f837-4577-a7b1-7b279bfe11c7"
      },
      "source": [
        "agressive_valid_df"
      ],
      "execution_count": null,
      "outputs": [
        {
          "output_type": "execute_result",
          "data": {
            "text/html": [
              "<div>\n",
              "<style scoped>\n",
              "    .dataframe tbody tr th:only-of-type {\n",
              "        vertical-align: middle;\n",
              "    }\n",
              "\n",
              "    .dataframe tbody tr th {\n",
              "        vertical-align: top;\n",
              "    }\n",
              "\n",
              "    .dataframe thead th {\n",
              "        text-align: right;\n",
              "    }\n",
              "</style>\n",
              "<table border=\"1\" class=\"dataframe\">\n",
              "  <thead>\n",
              "    <tr style=\"text-align: right;\">\n",
              "      <th></th>\n",
              "      <th>Split</th>\n",
              "      <th>Sensitivity</th>\n",
              "      <th>Specificity</th>\n",
              "      <th>Accuracy</th>\n",
              "      <th>Recall</th>\n",
              "      <th>Precision</th>\n",
              "      <th>F1_score</th>\n",
              "    </tr>\n",
              "  </thead>\n",
              "  <tbody>\n",
              "    <tr>\n",
              "      <th>0</th>\n",
              "      <td>0</td>\n",
              "      <td>0.96476</td>\n",
              "      <td>0.983934</td>\n",
              "      <td>0.975706</td>\n",
              "      <td>0.96476</td>\n",
              "      <td>0.978325</td>\n",
              "      <td>0.971495</td>\n",
              "    </tr>\n",
              "  </tbody>\n",
              "</table>\n",
              "</div>"
            ],
            "text/plain": [
              "   Split  Sensitivity  Specificity  Accuracy   Recall  Precision  F1_score\n",
              "0      0      0.96476     0.983934  0.975706  0.96476   0.978325  0.971495"
            ]
          },
          "metadata": {},
          "execution_count": 70
        }
      ]
    },
    {
      "cell_type": "code",
      "metadata": {
        "colab": {
          "base_uri": "https://localhost:8080/",
          "height": 81
        },
        "id": "DFe3fn4AAs86",
        "outputId": "27d89b92-9504-4a76-91d4-4dac7e0da943"
      },
      "source": [
        "agressive_splits"
      ],
      "execution_count": null,
      "outputs": [
        {
          "output_type": "execute_result",
          "data": {
            "text/html": [
              "<div>\n",
              "<style scoped>\n",
              "    .dataframe tbody tr th:only-of-type {\n",
              "        vertical-align: middle;\n",
              "    }\n",
              "\n",
              "    .dataframe tbody tr th {\n",
              "        vertical-align: top;\n",
              "    }\n",
              "\n",
              "    .dataframe thead th {\n",
              "        text-align: right;\n",
              "    }\n",
              "</style>\n",
              "<table border=\"1\" class=\"dataframe\">\n",
              "  <thead>\n",
              "    <tr style=\"text-align: right;\">\n",
              "      <th></th>\n",
              "      <th>split_no</th>\n",
              "      <th>train_p</th>\n",
              "      <th>train_n</th>\n",
              "      <th>test_p</th>\n",
              "      <th>test_n</th>\n",
              "    </tr>\n",
              "  </thead>\n",
              "  <tbody>\n",
              "    <tr>\n",
              "      <th>0</th>\n",
              "      <td>0</td>\n",
              "      <td>1731</td>\n",
              "      <td>2303</td>\n",
              "      <td>422</td>\n",
              "      <td>587</td>\n",
              "    </tr>\n",
              "  </tbody>\n",
              "</table>\n",
              "</div>"
            ],
            "text/plain": [
              "   split_no  train_p  train_n  test_p  test_n\n",
              "0         0     1731     2303     422     587"
            ]
          },
          "metadata": {},
          "execution_count": 71
        }
      ]
    },
    {
      "cell_type": "code",
      "metadata": {
        "colab": {
          "base_uri": "https://localhost:8080/"
        },
        "id": "NVqx5wXiAv_3",
        "outputId": "a48fc4e1-397f-429d-af6f-5bb43cd67bef"
      },
      "source": [
        "agressive_score['params'].to_list()"
      ],
      "execution_count": null,
      "outputs": [
        {
          "output_type": "execute_result",
          "data": {
            "text/plain": [
              "[{'bootstrap': False,\n",
              "  'max_depth': 10,\n",
              "  'max_features': 'sqrt',\n",
              "  'min_samples_leaf': 1,\n",
              "  'min_samples_split': 5,\n",
              "  'n_estimators': 100}]"
            ]
          },
          "metadata": {},
          "execution_count": 74
        }
      ]
    },
    {
      "cell_type": "code",
      "metadata": {
        "colab": {
          "base_uri": "https://localhost:8080/"
        },
        "id": "nOguVtU9XxAn",
        "outputId": "be4df362-4029-41fc-f17b-d9cf3c8c2a8b"
      },
      "source": [
        "!pip install xlsxwriter"
      ],
      "execution_count": null,
      "outputs": [
        {
          "output_type": "stream",
          "name": "stdout",
          "text": [
            "Collecting xlsxwriter\n",
            "  Downloading XlsxWriter-3.0.2-py3-none-any.whl (149 kB)\n",
            "\u001b[?25l\r\u001b[K     |██▏                             | 10 kB 21.3 MB/s eta 0:00:01\r\u001b[K     |████▍                           | 20 kB 24.3 MB/s eta 0:00:01\r\u001b[K     |██████▋                         | 30 kB 19.9 MB/s eta 0:00:01\r\u001b[K     |████████▊                       | 40 kB 12.9 MB/s eta 0:00:01\r\u001b[K     |███████████                     | 51 kB 6.0 MB/s eta 0:00:01\r\u001b[K     |█████████████▏                  | 61 kB 6.3 MB/s eta 0:00:01\r\u001b[K     |███████████████▎                | 71 kB 5.5 MB/s eta 0:00:01\r\u001b[K     |█████████████████▌              | 81 kB 6.1 MB/s eta 0:00:01\r\u001b[K     |███████████████████▊            | 92 kB 6.1 MB/s eta 0:00:01\r\u001b[K     |█████████████████████▉          | 102 kB 5.5 MB/s eta 0:00:01\r\u001b[K     |████████████████████████        | 112 kB 5.5 MB/s eta 0:00:01\r\u001b[K     |██████████████████████████▎     | 122 kB 5.5 MB/s eta 0:00:01\r\u001b[K     |████████████████████████████▍   | 133 kB 5.5 MB/s eta 0:00:01\r\u001b[K     |██████████████████████████████▋ | 143 kB 5.5 MB/s eta 0:00:01\r\u001b[K     |████████████████████████████████| 149 kB 5.5 MB/s \n",
            "\u001b[?25hInstalling collected packages: xlsxwriter\n",
            "Successfully installed xlsxwriter-3.0.2\n"
          ]
        }
      ]
    },
    {
      "cell_type": "code",
      "metadata": {
        "id": "UPbpdVMF_sHS"
      },
      "source": [
        "writer = pd.ExcelWriter('GloVe_NLP_randomforest_aggressive.xlsx', engine='xlsxwriter')\n",
        "for i,data in enumerate(result):\n",
        "    data.to_excel(writer, sheet_name= 'Split_{}'.format(i),index=False)\n",
        "writer.save()"
      ],
      "execution_count": null,
      "outputs": []
    },
    {
      "cell_type": "code",
      "metadata": {
        "id": "g7BJ8VED_n1S"
      },
      "source": [
        "writer = pd.ExcelWriter('GloVe_NLP_randomforest_targeted.xlsx', engine='xlsxwriter')\n",
        "for i,data in enumerate(result):\n",
        "    data.to_excel(writer, sheet_name= 'Split_{}'.format(i),index=False)\n",
        "writer.save()"
      ],
      "execution_count": null,
      "outputs": []
    },
    {
      "cell_type": "code",
      "metadata": {
        "id": "1b7BpiF7X4y_"
      },
      "source": [
        "writer = pd.ExcelWriter('GloVe_NLP_randomforest.xlsx', engine='xlsxwriter')\n",
        "for i,data in enumerate(result):\n",
        "    data.to_excel(writer, sheet_name= 'Split_{}'.format(i),index=False)\n",
        "writer.save()"
      ],
      "execution_count": null,
      "outputs": []
    },
    {
      "cell_type": "code",
      "metadata": {
        "id": "g3p1z81AX-n_"
      },
      "source": [
        "valid_df.to_excel('glove_rf_validation.xlsx',index=False)\n",
        "test_df.to_excel('glove_rf_test.xlsx',index=False)"
      ],
      "execution_count": null,
      "outputs": []
    },
    {
      "cell_type": "code",
      "metadata": {
        "id": "zvcubXjh_5Wx"
      },
      "source": [
        "targeted_valid_df.to_excel('glove_rf_validation_target.xlsx',index=False)\n",
        "targeted_test_df.to_excel('glove_rf_test_target.xlsx',index=False)"
      ],
      "execution_count": null,
      "outputs": []
    },
    {
      "cell_type": "code",
      "metadata": {
        "id": "LKrBannEAFBu"
      },
      "source": [
        "agressive_valid_df.to_excel('glove_rf_validation_agressive.xlsx',index=False)\n",
        "agressive_test_df.to_excel('glove_rf_test_agressive.xlsx',index=False)"
      ],
      "execution_count": null,
      "outputs": []
    },
    {
      "cell_type": "code",
      "metadata": {
        "id": "MQUa6WzqwxIB"
      },
      "source": [
        "from google.colab import files\n",
        "files.download('glove_rf_validation.xlsx')"
      ],
      "execution_count": null,
      "outputs": []
    }
  ]
}